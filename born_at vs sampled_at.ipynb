{
 "cells": [
  {
   "cell_type": "raw",
   "metadata": {},
   "source": [
    "Something that would add to the evidence in those slides would be to:\n",
    "\n",
    "(1) Randomly select a set of ACs such that ~1/2 of the “born near” samples were born near those ACs.\n",
    "(2) Run a GWAS on all the samples that were _born near_ those ACs. Use the standard covariates and nothing more (no move/stay or near/far status).\n",
    "(3) Run another GWAS, but this time, use the samples that were _assessed_ at those ACs — ignore the born near/far status. Same covariates as in (2).\n",
    "(4) Compare betas between (2) and (3). In principle, (2) shouldn’t have biased effect sizes since the samples were all born near each other. At the same time, (3) may have some population structure that could bias the effect sizes.\n",
    "\n",
    "Case (3) is similar to what you’ve already done with the born far/near covariate. Case (2) is only feasible for the subset of UK people born near an AC. (We don’t have data for non-movers that were “born far” — only the movers. By only analyzing some of the ACs, we get both non-movers and movers and can estimate effects with data from both.)\n",
    "\n",
    "If the above gives results that are consistent with your born near/far analysis, it would be cool to repeat steps 1-4 over several random AC samples."
   ]
  },
  {
   "cell_type": "code",
   "execution_count": 1,
   "metadata": {},
   "outputs": [],
   "source": [
    "import pandas as pd\n",
    "import numpy as np\n",
    "import matplotlib.pyplot as plt\n",
    "from random import sample"
   ]
  },
  {
   "cell_type": "code",
   "execution_count": 2,
   "metadata": {},
   "outputs": [
    {
     "data": {
      "text/html": [
       "<div>\n",
       "<style scoped>\n",
       "    .dataframe tbody tr th:only-of-type {\n",
       "        vertical-align: middle;\n",
       "    }\n",
       "\n",
       "    .dataframe tbody tr th {\n",
       "        vertical-align: top;\n",
       "    }\n",
       "\n",
       "    .dataframe thead th {\n",
       "        text-align: right;\n",
       "    }\n",
       "</style>\n",
       "<table border=\"1\" class=\"dataframe\">\n",
       "  <thead>\n",
       "    <tr style=\"text-align: right;\">\n",
       "      <th></th>\n",
       "      <th>eid</th>\n",
       "      <th>center</th>\n",
       "      <th>distances</th>\n",
       "      <th>POB_east</th>\n",
       "      <th>POB_north</th>\n",
       "      <th>POR_east</th>\n",
       "      <th>POR_north</th>\n",
       "      <th>POB_distance</th>\n",
       "      <th>POR_distance</th>\n",
       "      <th>closest_center_POR</th>\n",
       "      <th>POR_distance_closest</th>\n",
       "      <th>POB_distance_closest</th>\n",
       "      <th>closest_center_POB</th>\n",
       "    </tr>\n",
       "  </thead>\n",
       "  <tbody>\n",
       "    <tr>\n",
       "      <th>0</th>\n",
       "      <td>1136349</td>\n",
       "      <td>11004</td>\n",
       "      <td>229901.065678</td>\n",
       "      <td>68500</td>\n",
       "      <td>801500</td>\n",
       "      <td>252000.0</td>\n",
       "      <td>663000.0</td>\n",
       "      <td>234227.018930</td>\n",
       "      <td>7490.487100</td>\n",
       "      <td>11004.0</td>\n",
       "      <td>7490.487100</td>\n",
       "      <td>234227.018930</td>\n",
       "      <td>11004</td>\n",
       "    </tr>\n",
       "    <tr>\n",
       "      <th>1</th>\n",
       "      <td>1071275</td>\n",
       "      <td>11004</td>\n",
       "      <td>196729.509734</td>\n",
       "      <td>66500</td>\n",
       "      <td>798500</td>\n",
       "      <td>211000.0</td>\n",
       "      <td>665000.0</td>\n",
       "      <td>234138.707601</td>\n",
       "      <td>48107.415198</td>\n",
       "      <td>11004.0</td>\n",
       "      <td>48107.415198</td>\n",
       "      <td>234138.707601</td>\n",
       "      <td>11004</td>\n",
       "    </tr>\n",
       "  </tbody>\n",
       "</table>\n",
       "</div>"
      ],
      "text/plain": [
       "       eid  center      distances  POB_east  POB_north  POR_east  POR_north  \\\n",
       "0  1136349   11004  229901.065678     68500     801500  252000.0   663000.0   \n",
       "1  1071275   11004  196729.509734     66500     798500  211000.0   665000.0   \n",
       "\n",
       "    POB_distance  POR_distance  closest_center_POR  POR_distance_closest  \\\n",
       "0  234227.018930   7490.487100             11004.0           7490.487100   \n",
       "1  234138.707601  48107.415198             11004.0          48107.415198   \n",
       "\n",
       "   POB_distance_closest  closest_center_POB  \n",
       "0         234227.018930               11004  \n",
       "1         234138.707601               11004  "
      ]
     },
     "execution_count": 2,
     "metadata": {},
     "output_type": "execute_result"
    }
   ],
   "source": [
    "pob_por_ac = pd.read_csv('../00_csv_files/pob_por_ac_distances.csv')\n",
    "pob_por_ac.head(2)"
   ]
  },
  {
   "cell_type": "code",
   "execution_count": 29,
   "metadata": {},
   "outputs": [
    {
     "data": {
      "text/html": [
       "<div>\n",
       "<style scoped>\n",
       "    .dataframe tbody tr th:only-of-type {\n",
       "        vertical-align: middle;\n",
       "    }\n",
       "\n",
       "    .dataframe tbody tr th {\n",
       "        vertical-align: top;\n",
       "    }\n",
       "\n",
       "    .dataframe thead th {\n",
       "        text-align: right;\n",
       "    }\n",
       "</style>\n",
       "<table border=\"1\" class=\"dataframe\">\n",
       "  <thead>\n",
       "    <tr style=\"text-align: right;\">\n",
       "      <th></th>\n",
       "      <th>Name</th>\n",
       "      <th>Count</th>\n",
       "      <th>East</th>\n",
       "      <th>North</th>\n",
       "      <th>Code</th>\n",
       "      <th>NUTS_ID</th>\n",
       "      <th>mapColors</th>\n",
       "    </tr>\n",
       "  </thead>\n",
       "  <tbody>\n",
       "    <tr>\n",
       "      <th>0</th>\n",
       "      <td>Middlesborough</td>\n",
       "      <td>21287</td>\n",
       "      <td>449412</td>\n",
       "      <td>520448</td>\n",
       "      <td>11017</td>\n",
       "      <td>UKC12</td>\n",
       "      <td>252,113,34</td>\n",
       "    </tr>\n",
       "    <tr>\n",
       "      <th>1</th>\n",
       "      <td>Newcastle</td>\n",
       "      <td>37004</td>\n",
       "      <td>425606</td>\n",
       "      <td>563642</td>\n",
       "      <td>11009</td>\n",
       "      <td>UKC22</td>\n",
       "      <td>92,202,135</td>\n",
       "    </tr>\n",
       "  </tbody>\n",
       "</table>\n",
       "</div>"
      ],
      "text/plain": [
       "             Name  Count    East   North   Code NUTS_ID   mapColors\n",
       "0  Middlesborough  21287  449412  520448  11017   UKC12  252,113,34\n",
       "1       Newcastle  37004  425606  563642  11009   UKC22  92,202,135"
      ]
     },
     "execution_count": 29,
     "metadata": {},
     "output_type": "execute_result"
    }
   ],
   "source": [
    "acs = pd.read_csv('../00_csv_files/assessmentCentreCoordinates.csv')\n",
    "acs.head(2)"
   ]
  },
  {
   "cell_type": "code",
   "execution_count": 78,
   "metadata": {},
   "outputs": [
    {
     "name": "stdout",
     "output_type": "stream",
     "text": [
      "born near any:  355364\n",
      "86572\n"
     ]
    }
   ],
   "source": [
    "# how many people are born near ANY assessment center\n",
    "born_near_any = pob_por_ac[pob_por_ac.POB_distance_closest < 25000].eid.tolist()\n",
    "print('born near any: ', len(born_near_any))\n",
    "print(len(pob_por_ac) - len(born_near_any))"
   ]
  },
  {
   "cell_type": "code",
   "execution_count": 65,
   "metadata": {},
   "outputs": [
    {
     "name": "stdout",
     "output_type": "stream",
     "text": [
      "target minimum:  177682\n",
      "[11022, 11023, 11006, 11003, 11005, 11012, 11004, 11008, 11020, 11014]\n",
      "[11007, 11006, 11016, 11023, 11003, 11009, 11020, 11008, 11021]\n",
      "[11017, 11022, 11007, 11023, 11009, 11010, 11004, 11001, 11011, 11020]\n",
      "[11007, 11003, 11014, 11012, 11020, 11013, 11008, 11010]\n",
      "[11010, 11018, 11006, 11020, 11023, 11005, 11002, 11014, 11003, 11009]\n",
      "[11021, 11001, 11009, 11014, 11013, 11018, 11007, 11003, 11016]\n",
      "[11002, 11010, 11001, 11008, 11020, 11004, 11006, 11013, 11005]\n",
      "[11018, 11006, 11008, 11017, 11001, 11005, 11009, 11016, 11011]\n",
      "[11017, 11016, 11005, 11004, 11014, 11006, 11007, 11020, 11002, 11012]\n",
      "[11020, 11005, 11006, 11021, 11022, 11017, 11011, 11010, 11003]\n"
     ]
    }
   ],
   "source": [
    "# make N groups of assessment centers such that in each group,\n",
    "# we have P percent of all 'born near' people born near these ACs\n",
    "P = 0.5\n",
    "N = 10\n",
    "\n",
    "target_minimum = int(P * len(born_near_any))\n",
    "print('target minimum: ',target_minimum)\n",
    "ac_codes = acs.Code.tolist()\n",
    "born_near_selected_acs = []\n",
    "\n",
    "selected_acs = []\n",
    "ac_groups = []\n",
    "\n",
    "for i in np.arange(N):\n",
    "    random_group = sample(ac_codes,len(ac_codes))\n",
    "    for ac in random_group:\n",
    "        if len(born_near_selected_acs) < target_minimum:\n",
    "            born_near_this_ac = pob_por_ac[pob_por_ac.closest_center_POB == ac].eid.tolist()\n",
    "            born_near_selected_acs.extend(born_near_this_ac)\n",
    "            selected_acs.append(ac)\n",
    "        else:\n",
    "            #print('Total for this group: ', len(born_near_selected_acs))\n",
    "            ac_groups.append(selected_acs)\n",
    "            born_near_selected_acs = []\n",
    "            selected_acs = []\n",
    "            break\n",
    "\n",
    "for group in ac_groups:\n",
    "    print(group)"
   ]
  },
  {
   "cell_type": "code",
   "execution_count": 75,
   "metadata": {},
   "outputs": [
    {
     "name": "stdout",
     "output_type": "stream",
     "text": [
      "group:  1\n",
      "born near these ACs:   195336\n",
      "sampled at these ACs:  152869\n",
      "overlap:  123512\n",
      "percent overlap:  63.23053610189622\n",
      "group:  2\n",
      "born near these ACs:   195251\n",
      "sampled at these ACs:  194407\n",
      "overlap:  143864\n",
      "percent overlap:  73.68156885240025\n",
      "group:  3\n",
      "born near these ACs:   185935\n",
      "sampled at these ACs:  213346\n",
      "overlap:  146388\n",
      "percent overlap:  78.73073923683008\n",
      "group:  4\n",
      "born near these ACs:   205967\n",
      "sampled at these ACs:  197286\n",
      "overlap:  151937\n",
      "percent overlap:  73.76764238931479\n",
      "group:  5\n",
      "born near these ACs:   195146\n",
      "sampled at these ACs:  207477\n",
      "overlap:  149776\n",
      "percent overlap:  76.75074047123692\n",
      "group:  6\n",
      "born near these ACs:   203694\n",
      "sampled at these ACs:  221706\n",
      "overlap:  160200\n",
      "percent overlap:  78.64738283896433\n",
      "group:  7\n",
      "born near these ACs:   186213\n",
      "sampled at these ACs:  192938\n",
      "overlap:  145008\n",
      "percent overlap:  77.8721141918126\n",
      "group:  8\n",
      "born near these ACs:   198690\n",
      "sampled at these ACs:  216640\n",
      "overlap:  162166\n",
      "percent overlap:  81.61759524888016\n",
      "group:  9\n",
      "born near these ACs:   204387\n",
      "sampled at these ACs:  197118\n",
      "overlap:  152206\n",
      "percent overlap:  74.46951127028628\n",
      "group:  10\n",
      "born near these ACs:   178395\n",
      "sampled at these ACs:  194946\n",
      "overlap:  139565\n",
      "percent overlap:  78.23369489055186\n",
      "75.70015254921734\n"
     ]
    }
   ],
   "source": [
    "# for each group, save files of:\n",
    "# eids for samples born NEAR these ACs\n",
    "# eids for samples sampled AT these ACs\n",
    "overlapPercentages = []\n",
    "for i,group in enumerate(ac_groups):\n",
    "    print('group: ', str(i+1))\n",
    "    born_near_these_acs = pob_por_ac[pob_por_ac.closest_center_POB.isin(group)].eid.tolist()\n",
    "    print('born near these ACs:  ', len(born_near_these_acs))\n",
    "\n",
    "    sampled_at_these_acs = pob_por_ac[pob_por_ac.center.isin(group)].eid.tolist()\n",
    "    print('sampled at these ACs: ',len(sampled_at_these_acs))\n",
    "    overlap = len(set(sampled_at_these_acs) & set(born_near_these_acs))\n",
    "    print('overlap: ', overlap)\n",
    "    percentOverlap = overlap / float(len(born_near_these_acs)) * 100\n",
    "    print('percent overlap: ',percentOverlap)\n",
    "    overlapPercentages.append(percentOverlap)\n",
    "print(np.mean(overlapPercentages))"
   ]
  },
  {
   "cell_type": "code",
   "execution_count": 77,
   "metadata": {},
   "outputs": [
    {
     "name": "stdout",
     "output_type": "stream",
     "text": [
      "group:  1\n",
      "group:  2\n",
      "group:  3\n",
      "group:  4\n",
      "group:  5\n",
      "group:  6\n",
      "group:  7\n",
      "group:  8\n",
      "group:  9\n",
      "group:  10\n"
     ]
    }
   ],
   "source": [
    "# for each group, save files of:\n",
    "# eids for samples born NEAR these ACs\n",
    "# eids for samples sampled AT these ACs\n",
    "overlapPercentages = []\n",
    "for i,group in enumerate(ac_groups):\n",
    "    print('group: ', str(i+1))\n",
    "    born_near_file = 'born_near_group_' + str(i+1) + '.csv'\n",
    "    sampled_at_file = 'sampled_at_group_' + str(i+1) + '.csv'\n",
    "    born_near_these_acs = pob_por_ac[pob_por_ac.closest_center_POB.isin(group)].eid.tolist()\n",
    "    \n",
    "    o = open(born_near_file,'w')\n",
    "    for eid in born_near_these_acs:\n",
    "        o.write(str(eid) + ' ' + str(eid) + '\\n')\n",
    "    o.close()\n",
    "    \n",
    "    sampled_at_these_acs = pob_por_ac[pob_por_ac.center.isin(group)].eid.tolist()\n",
    "    o = open(sampled_at_file,'w')\n",
    "    for eid in sampled_at_these_acs:\n",
    "        o.write(str(eid) + ' ' + str(eid) + '\\n')\n",
    "    o.close()"
   ]
  },
  {
   "cell_type": "code",
   "execution_count": null,
   "metadata": {},
   "outputs": [],
   "source": [
    "# use these files in GWAS - covariates = age, sex, chip, batch\n",
    "# scp *_group_* igw9@cbsulogin.tc.cornell.edu:/bscb/bscb09/500k_ukb/ian/gwas_files/.\n",
    "# covar = covar_sex_pcs_batch_chip.txt\n",
    "# pheno = pheno_eduYears.csv\n",
    "# dir1a /bscb/bscb09/500k_ukb/ian/gwas_imputed/eduyears_bornAt_1/\n",
    "# dir1b /bscb/bscb09/500k_ukb/ian/gwas_imputed/eduyears_sampledAt_1/"
   ]
  },
  {
   "cell_type": "code",
   "execution_count": 26,
   "metadata": {},
   "outputs": [
    {
     "name": "stdout",
     "output_type": "stream",
     "text": [
      "1,71824,123512,29357\n",
      "2,51387,143864,50543\n",
      "3,39547,146388,66958\n",
      "4,54030,151937,45349\n",
      "5,45370,149776,57701\n",
      "6,43494,160200,61506\n",
      "7,41205,145008,47930\n",
      "8,36524,162166,54474\n",
      "9,52181,152206,44912\n",
      "10,38830,139565,55381\n"
     ]
    }
   ],
   "source": [
    "# compare two lists\n",
    "\n",
    "def f2list(file):\n",
    "    d = open(file,'r').readlines()\n",
    "    ds = [x.rstrip().split()[0] for x in d]\n",
    "    return ds\n",
    "\n",
    "for group in np.arange(10):\n",
    "    group += 1\n",
    "    born_near_file = 'born_near_group_' + str(group) + '.csv'\n",
    "    sampled_at_file = 'sampled_at_group_' + str(group) + '.csv'\n",
    "\n",
    "    born_near = f2list(born_near_file)\n",
    "    sampled_at = f2list(sampled_at_file)\n",
    "    b=len(set(born_near) - set(sampled_at))\n",
    "    o=len(set(born_near) & set(sampled_at))\n",
    "    s=len(set(sampled_at) - set(born_near))\n",
    "    # print('unique born:    ', b)\n",
    "    # print('overlap:        ', o)\n",
    "    # print('unique sampled: ', s)\n",
    "    print(','.join([str(x) for x in [group,b,o,s]]))"
   ]
  },
  {
   "cell_type": "code",
   "execution_count": null,
   "metadata": {},
   "outputs": [],
   "source": []
  }
 ],
 "metadata": {
  "kernelspec": {
   "display_name": "Python 3",
   "language": "python",
   "name": "python3"
  },
  "language_info": {
   "codemirror_mode": {
    "name": "ipython",
    "version": 3
   },
   "file_extension": ".py",
   "mimetype": "text/x-python",
   "name": "python",
   "nbconvert_exporter": "python",
   "pygments_lexer": "ipython3",
   "version": "3.7.3"
  }
 },
 "nbformat": 4,
 "nbformat_minor": 2
}
