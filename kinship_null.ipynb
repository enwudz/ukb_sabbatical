{
 "cells": [
  {
   "cell_type": "code",
   "execution_count": 2,
   "metadata": {},
   "outputs": [],
   "source": [
    "# I would expect the 'null' map to be quite different than the 'real' map\n",
    "# in the real map, kin are not distributed randomly.\n",
    "# They tend to be CLOSE, i.e. in same region or neighboring region.\n",
    "\n",
    "# can probably do some sort of clustering to show this"
   ]
  },
  {
   "cell_type": "code",
   "execution_count": 1,
   "metadata": {},
   "outputs": [],
   "source": [
    "import pandas as pd\n",
    "import numpy as np\n",
    "import matplotlib.pyplot as plt"
   ]
  },
  {
   "cell_type": "code",
   "execution_count": 4,
   "metadata": {},
   "outputs": [],
   "source": [
    "# find kin pairs separated by some distance threshold\n",
    "# ... or where region1 and region2 are NOT the same\n",
    "# make matrix of connections between nuts3 in real ukb data\n",
    "\n",
    "# from census pop, sample number of pairs\n",
    "# make matrix of connections between nuts3 in simulated data"
   ]
  },
  {
   "cell_type": "code",
   "execution_count": 19,
   "metadata": {},
   "outputs": [],
   "source": [
    "kinship = pd.read_csv('../prob_of_kin_within_D/kinship_data.csv')"
   ]
  },
  {
   "cell_type": "code",
   "execution_count": 20,
   "metadata": {},
   "outputs": [
    {
     "data": {
      "text/html": [
       "<div>\n",
       "<style scoped>\n",
       "    .dataframe tbody tr th:only-of-type {\n",
       "        vertical-align: middle;\n",
       "    }\n",
       "\n",
       "    .dataframe tbody tr th {\n",
       "        vertical-align: top;\n",
       "    }\n",
       "\n",
       "    .dataframe thead th {\n",
       "        text-align: right;\n",
       "    }\n",
       "</style>\n",
       "<table border=\"1\" class=\"dataframe\">\n",
       "  <thead>\n",
       "    <tr style=\"text-align: right;\">\n",
       "      <th></th>\n",
       "      <th>uniqID</th>\n",
       "      <th>ID1</th>\n",
       "      <th>ID2</th>\n",
       "      <th>HetHet</th>\n",
       "      <th>IBS0</th>\n",
       "      <th>Kinship</th>\n",
       "      <th>pob_north_id1</th>\n",
       "      <th>pob_east_id1</th>\n",
       "      <th>pob_north_id2</th>\n",
       "      <th>pob_east_id2</th>\n",
       "      <th>distance</th>\n",
       "      <th>region1</th>\n",
       "      <th>region2</th>\n",
       "    </tr>\n",
       "  </thead>\n",
       "  <tbody>\n",
       "    <tr>\n",
       "      <th>0</th>\n",
       "      <td>rel1</td>\n",
       "      <td>1000027</td>\n",
       "      <td>3239325</td>\n",
       "      <td>0.078</td>\n",
       "      <td>0.0041</td>\n",
       "      <td>0.2657</td>\n",
       "      <td>422500</td>\n",
       "      <td>438500</td>\n",
       "      <td>425500</td>\n",
       "      <td>442500</td>\n",
       "      <td>5000.000000</td>\n",
       "      <td>UKE45</td>\n",
       "      <td>UKE45</td>\n",
       "    </tr>\n",
       "    <tr>\n",
       "      <th>1</th>\n",
       "      <td>rel2</td>\n",
       "      <td>1000064</td>\n",
       "      <td>3178357</td>\n",
       "      <td>0.046</td>\n",
       "      <td>0.0138</td>\n",
       "      <td>0.0682</td>\n",
       "      <td>398500</td>\n",
       "      <td>451500</td>\n",
       "      <td>176500</td>\n",
       "      <td>318500</td>\n",
       "      <td>258791.421805</td>\n",
       "      <td>UKE31</td>\n",
       "      <td>UKL22</td>\n",
       "    </tr>\n",
       "    <tr>\n",
       "      <th>2</th>\n",
       "      <td>rel3</td>\n",
       "      <td>1000096</td>\n",
       "      <td>4107632</td>\n",
       "      <td>0.047</td>\n",
       "      <td>0.0137</td>\n",
       "      <td>0.0715</td>\n",
       "      <td>673500</td>\n",
       "      <td>327500</td>\n",
       "      <td>341500</td>\n",
       "      <td>456500</td>\n",
       "      <td>356181.133695</td>\n",
       "      <td>UKM25</td>\n",
       "      <td>UKF14</td>\n",
       "    </tr>\n",
       "  </tbody>\n",
       "</table>\n",
       "</div>"
      ],
      "text/plain": [
       "  uniqID      ID1      ID2  HetHet    IBS0  Kinship  pob_north_id1  \\\n",
       "0   rel1  1000027  3239325   0.078  0.0041   0.2657         422500   \n",
       "1   rel2  1000064  3178357   0.046  0.0138   0.0682         398500   \n",
       "2   rel3  1000096  4107632   0.047  0.0137   0.0715         673500   \n",
       "\n",
       "   pob_east_id1  pob_north_id2  pob_east_id2       distance region1 region2  \n",
       "0        438500         425500        442500    5000.000000   UKE45   UKE45  \n",
       "1        451500         176500        318500  258791.421805   UKE31   UKL22  \n",
       "2        327500         341500        456500  356181.133695   UKM25   UKF14  "
      ]
     },
     "execution_count": 20,
     "metadata": {},
     "output_type": "execute_result"
    }
   ],
   "source": [
    "kinship.head(3)"
   ]
  },
  {
   "cell_type": "code",
   "execution_count": 4,
   "metadata": {},
   "outputs": [],
   "source": [
    "# find rows were region1 is not same as region2\n",
    "different_nuts = kinship[kinship['region1'] != kinship['region2']]"
   ]
  },
  {
   "cell_type": "code",
   "execution_count": 5,
   "metadata": {},
   "outputs": [
    {
     "data": {
      "text/html": [
       "<div>\n",
       "<style scoped>\n",
       "    .dataframe tbody tr th:only-of-type {\n",
       "        vertical-align: middle;\n",
       "    }\n",
       "\n",
       "    .dataframe tbody tr th {\n",
       "        vertical-align: top;\n",
       "    }\n",
       "\n",
       "    .dataframe thead th {\n",
       "        text-align: right;\n",
       "    }\n",
       "</style>\n",
       "<table border=\"1\" class=\"dataframe\">\n",
       "  <thead>\n",
       "    <tr style=\"text-align: right;\">\n",
       "      <th></th>\n",
       "      <th>uniqID</th>\n",
       "      <th>ID1</th>\n",
       "      <th>ID2</th>\n",
       "      <th>HetHet</th>\n",
       "      <th>IBS0</th>\n",
       "      <th>Kinship</th>\n",
       "      <th>pob_north_id1</th>\n",
       "      <th>pob_east_id1</th>\n",
       "      <th>pob_north_id2</th>\n",
       "      <th>pob_east_id2</th>\n",
       "      <th>distance</th>\n",
       "      <th>region1</th>\n",
       "      <th>region2</th>\n",
       "    </tr>\n",
       "  </thead>\n",
       "  <tbody>\n",
       "    <tr>\n",
       "      <th>1</th>\n",
       "      <td>rel2</td>\n",
       "      <td>1000064</td>\n",
       "      <td>3178357</td>\n",
       "      <td>0.046</td>\n",
       "      <td>0.0138</td>\n",
       "      <td>0.0682</td>\n",
       "      <td>398500</td>\n",
       "      <td>451500</td>\n",
       "      <td>176500</td>\n",
       "      <td>318500</td>\n",
       "      <td>258791.421805</td>\n",
       "      <td>UKE31</td>\n",
       "      <td>UKL22</td>\n",
       "    </tr>\n",
       "    <tr>\n",
       "      <th>2</th>\n",
       "      <td>rel3</td>\n",
       "      <td>1000096</td>\n",
       "      <td>4107632</td>\n",
       "      <td>0.047</td>\n",
       "      <td>0.0137</td>\n",
       "      <td>0.0715</td>\n",
       "      <td>673500</td>\n",
       "      <td>327500</td>\n",
       "      <td>341500</td>\n",
       "      <td>456500</td>\n",
       "      <td>356181.133695</td>\n",
       "      <td>UKM25</td>\n",
       "      <td>UKF14</td>\n",
       "    </tr>\n",
       "    <tr>\n",
       "      <th>6</th>\n",
       "      <td>rel7</td>\n",
       "      <td>1000230</td>\n",
       "      <td>3279718</td>\n",
       "      <td>0.041</td>\n",
       "      <td>0.0143</td>\n",
       "      <td>0.0443</td>\n",
       "      <td>168500</td>\n",
       "      <td>572500</td>\n",
       "      <td>669500</td>\n",
       "      <td>252500</td>\n",
       "      <td>594475.398986</td>\n",
       "      <td>UKJ41</td>\n",
       "      <td>UKM34</td>\n",
       "    </tr>\n",
       "  </tbody>\n",
       "</table>\n",
       "</div>"
      ],
      "text/plain": [
       "  uniqID      ID1      ID2  HetHet    IBS0  Kinship  pob_north_id1  \\\n",
       "1   rel2  1000064  3178357   0.046  0.0138   0.0682         398500   \n",
       "2   rel3  1000096  4107632   0.047  0.0137   0.0715         673500   \n",
       "6   rel7  1000230  3279718   0.041  0.0143   0.0443         168500   \n",
       "\n",
       "   pob_east_id1  pob_north_id2  pob_east_id2       distance region1 region2  \n",
       "1        451500         176500        318500  258791.421805   UKE31   UKL22  \n",
       "2        327500         341500        456500  356181.133695   UKM25   UKF14  \n",
       "6        572500         669500        252500  594475.398986   UKJ41   UKM34  "
      ]
     },
     "execution_count": 5,
     "metadata": {},
     "output_type": "execute_result"
    }
   ],
   "source": [
    "different_nuts.head(3)\n",
    "# eventually, turn these pairs into a matrix"
   ]
  },
  {
   "cell_type": "code",
   "execution_count": 13,
   "metadata": {},
   "outputs": [],
   "source": [
    "# convert regions to a dictionary = ukb_nuts3_pair_counts\n",
    "# keys = sorted(region1,region2), vales = count of that pair\n",
    "ukb_nuts3_pair_counts = {}\n",
    "for i, r in different_nuts.iterrows():\n",
    "    r1 = r['region1']\n",
    "    r2 = r['region2']\n",
    "    regions_key = ','.join(sorted([r1,r2]))\n",
    "    if regions_key in ukb_nuts3_pair_counts.keys():\n",
    "        ukb_nuts3_pair_counts[regions_key] += 1\n",
    "    else:\n",
    "        ukb_nuts3_pair_counts[regions_key] = 1 "
   ]
  },
  {
   "cell_type": "code",
   "execution_count": 6,
   "metadata": {},
   "outputs": [
    {
     "name": "stdout",
     "output_type": "stream",
     "text": [
      "kin in different regions 38967\n",
      "all kin pairs 97692\n"
     ]
    }
   ],
   "source": [
    "print('kin in different regions', len(different_nuts))\n",
    "print('all kin pairs', len(kinship))"
   ]
  },
  {
   "cell_type": "markdown",
   "metadata": {},
   "source": [
    "UKB has 38967 pairs where kin are not in same nuts3 region  \n",
    "function to make X# simulated pairs by sampling population based on census fractions  \n",
    "and make a matrix of nuts3 by nuts3  \n",
    "strategy: for num of pairs  \n",
    "  * get sim_region_1, sim_region_2  \n",
    "  * if different regions, \n",
    "   * sort region names \n",
    "   * count[region names] += 1\n",
    "\n",
    "convert count dictionary into a matrix"
   ]
  },
  {
   "cell_type": "code",
   "execution_count": 7,
   "metadata": {},
   "outputs": [
    {
     "name": "stdout",
     "output_type": "stream",
     "text": [
      "before force  0.00406492771665\n",
      "after force   0.00406492771665\n",
      "1.0\n"
     ]
    }
   ],
   "source": [
    "# census_fracs = dictionary of nutsIDs => fraction of total population\n",
    "# load in census data\n",
    "nuts3_pops = pd.read_csv('/Users/ianwoods/Dropbox/sabbatical2019/nuts/nuts3_sampling_corrections.csv')\n",
    "\n",
    "## nutsDict = a dictionary of indices => alphabetized nutsIDs\n",
    "ind = np.arange(len(nuts3_pops))\n",
    "nutsIDs = sorted(nuts3_pops['NUTS_ID'].values)\n",
    "nutsDict = dict(zip(ind,nutsIDs))\n",
    "\n",
    "## census_fracs_for_nuts = a dictionary of nutsIDs => census_fractions\n",
    "census_pops = nuts3_pops['census_pops'].values\n",
    "census_fracs = census_pops / np.sum(census_pops)\n",
    "# force probabilities to sum to 1, for random choice below.\n",
    "print('before force ', census_fracs[-1])\n",
    "census_fracs[-1] = 1-np.sum(census_fracs[:-1])\n",
    "print('after force  ',census_fracs[-1])\n",
    "print(np.sum(census_fracs))\n",
    "\n",
    "#dictionary = dict(zip(keys, values))\n",
    "census_fracs_for_nuts = dict(zip(nutsIDs,census_fracs))\n"
   ]
  },
  {
   "cell_type": "code",
   "execution_count": 16,
   "metadata": {},
   "outputs": [],
   "source": [
    "def sim_nuts_kin_pairs(num_pairs,census_fracs_for_nuts,nutsDict):\n",
    "        \n",
    "    ind = np.arange(len(nutsDict))\n",
    "    census_fracs = [census_fracs_for_nuts[nutsDict[i]] for i in ind]\n",
    "    \n",
    "    kin1 = np.zeros(num_pairs)\n",
    "    kin2 = np.zeros(num_pairs)\n",
    "    \n",
    "    sim_nuts3_pair_counts = {}\n",
    "    \n",
    "    i = 0\n",
    "    while i < num_pairs:\n",
    "        \n",
    "        kin1 = nutsDict[np.random.choice(ind,replace=True,p=census_fracs)]\n",
    "        kin2 = nutsDict[np.random.choice(ind,replace=True,p=census_fracs) ]\n",
    "             \n",
    "        if kin1 != kin2:\n",
    "            pair = ','.join(sorted([kin1,kin2]))\n",
    "            if pair in sim_nuts3_pair_counts.keys():\n",
    "                sim_nuts3_pair_counts[pair] += 1\n",
    "            else:\n",
    "                sim_nuts3_pair_counts[pair] = 1\n",
    "            i += 1\n",
    "    \n",
    "    #print(pair_counts)\n",
    "    return sim_nuts3_pair_counts"
   ]
  },
  {
   "cell_type": "code",
   "execution_count": 17,
   "metadata": {},
   "outputs": [],
   "source": [
    "pc = sim_nuts_kin_pairs(38967,census_fracs_for_nuts,nutsDict) # 38967 takes 7.25s"
   ]
  },
  {
   "cell_type": "code",
   "execution_count": 157,
   "metadata": {},
   "outputs": [],
   "source": [
    "# import nuts3 sampling corrections to get nuts3 ids (and maybe weights for later)\n",
    "nuts3_regions = pd.read_csv('../nuts/nuts3_sampling_corrections.csv')\n",
    "nuts3_idlist = sorted(nuts3_regions['NUTS_ID'].values)"
   ]
  },
  {
   "cell_type": "code",
   "execution_count": 158,
   "metadata": {},
   "outputs": [],
   "source": [
    "# convert dictionary of kin pair counts to a matrix, ordered by sorted nuts3 IDs\n",
    "# dictikeys = sorted(region1,region2), vales = count of that pair \n",
    "# (here that would be sim_pair_counts or ukb_nuts3_pair_counts)\n",
    "def kinpair_dict_to_mat(dict_to_make_mat, nutsID_list):\n",
    "    nuts_kinpair_mat = np.zeros([len(nutsID_list), len(nutsID_list)])\n",
    "    i=0\n",
    "    for r1 in nutsID_list:\n",
    "        r1_index = nutsID_list.index(r1)\n",
    "        for r2 in nutsID_list[i+1:]:\n",
    "            r2_index = nutsID_list.index(r2)\n",
    "            kinpair = ','.join(sorted([r1,r2]))\n",
    "            #print(kinpair)\n",
    "            if kinpair in dict_to_make_mat.keys():\n",
    "                nuts_kinpair_mat[r1_index,r2_index] = dict_to_make_mat[kinpair]\n",
    "        i += 1\n",
    "    return nuts_kinpair_mat"
   ]
  },
  {
   "cell_type": "code",
   "execution_count": 159,
   "metadata": {},
   "outputs": [],
   "source": [
    "sim_nuts3_kinpair_mat = kinpair_dict_to_mat(pc, nuts3_idlist)\n",
    "ukb_nuts3_kinpair_mat = kinpair_dict_to_mat(ukb_nuts3_pair_counts, nuts3_idlist)"
   ]
  },
  {
   "cell_type": "code",
   "execution_count": 160,
   "metadata": {},
   "outputs": [
    {
     "data": {
      "image/png": "[encoded data removed]",
      "text/plain": [
       "<matplotlib.figure.Figure at 0x11203eb70>"
      ]
     },
     "metadata": {},
     "output_type": "display_data"
    }
   ],
   "source": [
    "fig, ax = plt.subplots(1, 1, figsize = (10,10))\n",
    "plt.imshow(ukb_kinpair_mat,cmap='cubehelix', interpolation = 'nearest')\n",
    "plt.colorbar()\n",
    "plt.show()"
   ]
  },
  {
   "cell_type": "code",
   "execution_count": 144,
   "metadata": {},
   "outputs": [
    {
     "data": {
      "image/png": "[encoded data removed]",
      "text/plain": [
       "<matplotlib.figure.Figure at 0x114475240>"
      ]
     },
     "metadata": {},
     "output_type": "display_data"
    }
   ],
   "source": [
    "fig, ax = plt.subplots(1, 1, figsize = (10,10))\n",
    "im = ax.imshow(sim_kinpair_mat,cmap='cubehelix', interpolation = 'nearest')\n",
    "cbar = ax.figure.colorbar(im, ax=ax)\n",
    "plt.show()"
   ]
  },
  {
   "cell_type": "code",
   "execution_count": 101,
   "metadata": {},
   "outputs": [],
   "source": [
    "# next: lots of simulations, find average, to define the 'null' map.\n",
    "# then actually place on qgis, with lines connecting the nuts3 centroids, compared to real map\n",
    "numSims = 1000\n",
    "sim_mat = np.zeros([len(nutsID_list), len(nutsID_list), numSims])\n",
    "\n",
    "for n in range(numSims):\n",
    "    d = sim_nuts_kin_pairs(38967,census_fracs_for_nuts,nutsDict)\n",
    "    m = kinpair_dict_to_mat(d, nutsID_list)\n",
    "    sim_mat[:,:,n] = m"
   ]
  },
  {
   "cell_type": "code",
   "execution_count": 102,
   "metadata": {},
   "outputs": [],
   "source": [
    "np.save('1000sim_nuts3_38967connections.npy',sim_mat)"
   ]
  },
  {
   "cell_type": "code",
   "execution_count": 185,
   "metadata": {},
   "outputs": [
    {
     "data": {
      "image/png": "[encoded data removed]",
      "text/plain": [
       "<matplotlib.figure.Figure at 0x113a2d6a0>"
      ]
     },
     "metadata": {},
     "output_type": "display_data"
    }
   ],
   "source": [
    "sim_mat = np.load('1000sim_nuts3_38967connections.npy')\n",
    "x = np.mean(sim_mat,2)\n",
    "fig, ax = plt.subplots(1, 1, figsize = (10,10))\n",
    "im = ax.imshow(x,cmap='cubehelix', interpolation = 'nearest')\n",
    "cbar = ax.figure.colorbar(im, ax=ax)\n",
    "plt.show()"
   ]
  },
  {
   "cell_type": "markdown",
   "metadata": {},
   "source": [
    "\n",
    "\n",
    "\n",
    "# NOW FOR NUTS1 regions!"
   ]
  },
  {
   "cell_type": "code",
   "execution_count": 136,
   "metadata": {},
   "outputs": [],
   "source": [
    "# ukb: convert connections dictionary (ukb_nuts3_pair_counts) to nuts1 => ukb_nuts1_pair_counts\n",
    "    # export to csv for QGIS (corrected, uncorrected)\n",
    "    # convert to matrix for visualization (corrected, uncorrected)\n",
    "# sim: convert matrix to dictionary => sim_nuts3_pair_counts\n",
    "    # export to csv for QGIS\n",
    "    # convert to matrix for visualization\n",
    "\n",
    "# To do the above, need:\n",
    "# 1. code to convert nuts3 sim matrix (sim_mat) to a dictionary\n",
    "# 2. code to convert nuts3 connections dictionary to a nuts1 connections dictionary\n",
    "# 3. code to convert nuts1 connections dictionary to nuts1 matrix \n",
    "    # ... should be able to use kinpair_dict_to_mat()\n",
    "# 4. code to convert nuts1 connections dictionary to csv for qgis (corrected & uncorrected)\n",
    "    # should be able to use code from home_nm notebook"
   ]
  },
  {
   "cell_type": "code",
   "execution_count": 124,
   "metadata": {},
   "outputs": [],
   "source": [
    "# 1. code to convert nuts3 sim matrix (sim_mat) to a dictionary\n",
    "def nuts3_matrix_to_dict(m, nuts3_ids):\n",
    "    nuts3_ids = sorted(nuts3_ids)\n",
    "    d = {}\n",
    "    for i in np.arange(len(nuts3_ids)):\n",
    "        region1 = nuts3_ids[i]\n",
    "        for j in np.arange(i+1,len(nuts3_ids)):\n",
    "            region2 = nuts3_ids[j]\n",
    "            k = ','.join([region1,region2])\n",
    "            d[k] = m[i,j]\n",
    "    return d"
   ]
  },
  {
   "cell_type": "code",
   "execution_count": 125,
   "metadata": {},
   "outputs": [],
   "source": [
    "sim_nuts_mat = np.mean(sim_mat,2)\n",
    "nuts3_ids = sorted(nutsIDs)\n",
    "sim_nuts3_pair_counts = nuts3_matrix_to_dict(sim_nuts_mat, nuts3_ids)"
   ]
  },
  {
   "cell_type": "code",
   "execution_count": 132,
   "metadata": {},
   "outputs": [],
   "source": [
    "# 2. code to convert nuts3 connections dictionary to a nuts1 connections dictionary\n",
    "# nuts3 connections dictionary = sim_nuts3_pair_counts or ukb_nuts3_pair_counts\n",
    "\n",
    "def nuts3dict_to_nuts1dict(nuts3dict):\n",
    "    d = {}\n",
    "    for pair in sorted(nuts3dict.keys()):\n",
    "        region1, region2 = [x[:-2] for x in pair.split(',')]\n",
    "        if region1 != region2:\n",
    "            k = ','.join([region1,region2])\n",
    "            if k in d.keys():\n",
    "                d[k] += nuts3dict[pair]\n",
    "            else:\n",
    "                d[k] = nuts3dict[pair]\n",
    "    return d"
   ]
  },
  {
   "cell_type": "code",
   "execution_count": 188,
   "metadata": {},
   "outputs": [],
   "source": [
    "# let's look at these nuts3dict dictionaries before going on . . . \n",
    "\n",
    "d = ukb_nuts3_pair_counts\n",
    "o = open('tmp222.csv','w')\n",
    "o.write('r1,r2,pairs\\n')\n",
    "for k in d.keys():\n",
    "    o.write(k + ',' + str(d[k]) + '\\n')\n",
    "o.close()"
   ]
  },
  {
   "cell_type": "code",
   "execution_count": 189,
   "metadata": {},
   "outputs": [
    {
     "name": "stdout",
     "output_type": "stream",
     "text": [
      "UKC 6599\n",
      "UKD 7816\n",
      "UKE 5517\n",
      "UKF 3720\n",
      "UKG 3824\n",
      "UKH 1265\n",
      "UKI 3875\n",
      "UKJ 1506\n",
      "UKK 2462\n",
      "UKL 656\n",
      "UKM 1727\n",
      "38967\n"
     ]
    }
   ],
   "source": [
    "df = pd.read_csv('tmp222.csv')\n",
    "ttt = 0\n",
    "for id in nuts1_ids:\n",
    "    tot = np.sum(df[df['r1'].str.contains(id)]['pairs'].values)\n",
    "    print(id,tot)\n",
    "    ttt += tot\n",
    "print(ttt)\n",
    "# why does london (UKI) have so FEW connections? in sim data?\n",
    "# maybe because I forced the pairs to NOT be between same regions . . . ?"
   ]
  },
  {
   "cell_type": "code",
   "execution_count": 135,
   "metadata": {},
   "outputs": [],
   "source": [
    "ukb_nuts1_pair_counts = nuts3dict_to_nuts1dict(ukb_nuts3_pair_counts)\n",
    "sim_nuts1_pair_counts = nuts3dict_to_nuts1dict(sim_nuts3_pair_counts)"
   ]
  },
  {
   "cell_type": "code",
   "execution_count": 182,
   "metadata": {},
   "outputs": [],
   "source": [
    "# 3. code to convert nuts1 connections dictionary to nuts1 matrix \n",
    "    # ... should be able to use kinpair_dict_to_mat()\n",
    "ids = []\n",
    "for k in sim_nuts1_pair_counts.keys():\n",
    "    ids.extend(k.split(','))\n",
    "nuts1_ids = sorted(list(set(ids)))\n",
    "\n",
    "sim_nuts1_kinpair_mat = kinpair_dict_to_mat(sim_nuts1_pair_counts, nuts1_ids)\n",
    "ukb_nuts1_kinpair_mat = kinpair_dict_to_mat(ukb_nuts1_pair_counts, nuts1_ids)"
   ]
  },
  {
   "cell_type": "code",
   "execution_count": 196,
   "metadata": {},
   "outputs": [
    {
     "data": {
      "text/html": [
       "<div>\n",
       "<style scoped>\n",
       "    .dataframe tbody tr th:only-of-type {\n",
       "        vertical-align: middle;\n",
       "    }\n",
       "\n",
       "    .dataframe tbody tr th {\n",
       "        vertical-align: top;\n",
       "    }\n",
       "\n",
       "    .dataframe thead th {\n",
       "        text-align: right;\n",
       "    }\n",
       "</style>\n",
       "<table border=\"1\" class=\"dataframe\">\n",
       "  <thead>\n",
       "    <tr style=\"text-align: right;\">\n",
       "      <th></th>\n",
       "      <th>r1</th>\n",
       "      <th>r2</th>\n",
       "      <th>pairs</th>\n",
       "    </tr>\n",
       "  </thead>\n",
       "  <tbody>\n",
       "    <tr>\n",
       "      <th>9</th>\n",
       "      <td>UKC</td>\n",
       "      <td>UKM</td>\n",
       "      <td>430</td>\n",
       "    </tr>\n",
       "    <tr>\n",
       "      <th>18</th>\n",
       "      <td>UKD</td>\n",
       "      <td>UKM</td>\n",
       "      <td>376</td>\n",
       "    </tr>\n",
       "    <tr>\n",
       "      <th>26</th>\n",
       "      <td>UKE</td>\n",
       "      <td>UKM</td>\n",
       "      <td>373</td>\n",
       "    </tr>\n",
       "    <tr>\n",
       "      <th>33</th>\n",
       "      <td>UKF</td>\n",
       "      <td>UKM</td>\n",
       "      <td>230</td>\n",
       "    </tr>\n",
       "    <tr>\n",
       "      <th>39</th>\n",
       "      <td>UKG</td>\n",
       "      <td>UKM</td>\n",
       "      <td>245</td>\n",
       "    </tr>\n",
       "    <tr>\n",
       "      <th>44</th>\n",
       "      <td>UKH</td>\n",
       "      <td>UKM</td>\n",
       "      <td>114</td>\n",
       "    </tr>\n",
       "    <tr>\n",
       "      <th>48</th>\n",
       "      <td>UKI</td>\n",
       "      <td>UKM</td>\n",
       "      <td>407</td>\n",
       "    </tr>\n",
       "    <tr>\n",
       "      <th>51</th>\n",
       "      <td>UKJ</td>\n",
       "      <td>UKM</td>\n",
       "      <td>259</td>\n",
       "    </tr>\n",
       "    <tr>\n",
       "      <th>53</th>\n",
       "      <td>UKK</td>\n",
       "      <td>UKM</td>\n",
       "      <td>191</td>\n",
       "    </tr>\n",
       "    <tr>\n",
       "      <th>54</th>\n",
       "      <td>UKL</td>\n",
       "      <td>UKM</td>\n",
       "      <td>107</td>\n",
       "    </tr>\n",
       "  </tbody>\n",
       "</table>\n",
       "</div>"
      ],
      "text/plain": [
       "     r1   r2  pairs\n",
       "9   UKC  UKM    430\n",
       "18  UKD  UKM    376\n",
       "26  UKE  UKM    373\n",
       "33  UKF  UKM    230\n",
       "39  UKG  UKM    245\n",
       "44  UKH  UKM    114\n",
       "48  UKI  UKM    407\n",
       "51  UKJ  UKM    259\n",
       "53  UKK  UKM    191\n",
       "54  UKL  UKM    107"
      ]
     },
     "execution_count": 196,
     "metadata": {},
     "output_type": "execute_result"
    }
   ],
   "source": [
    "d = ukb_nuts1_pair_counts\n",
    "# this doesn't match up with my previous 'where are your kin' maps\n",
    "tfile = 'tmp.csv'\n",
    "o = open(tfile,'w')\n",
    "o.write('r1,r2,pairs\\n')\n",
    "for k in sorted(d.keys()):\n",
    "    o.write(k + ',' + str(d[k]) + '\\n')\n",
    "o.close()\n",
    "df = pd.read_csv(tfile)\n",
    "df[df['r2'] == 'UKM']"
   ]
  },
  {
   "cell_type": "code",
   "execution_count": 187,
   "metadata": {},
   "outputs": [
    {
     "data": {
      "image/png": "[encoded data removed]",
      "text/plain": [
       "<matplotlib.figure.Figure at 0x1144ccb38>"
      ]
     },
     "metadata": {},
     "output_type": "display_data"
    }
   ],
   "source": [
    "x = ukb_nuts1_kinpair_mat\n",
    "fig, ax = plt.subplots(1, 1, figsize = (10,10))\n",
    "im = ax.imshow(x,cmap='viridis', interpolation = 'nearest')\n",
    "ax.set_xticks(np.arange(len(nuts1_ids)))\n",
    "ax.set_xticklabels(nuts1_ids,fontsize=14)\n",
    "ax.set_yticks(np.arange(len(nuts1_ids)))\n",
    "ax.set_yticklabels(nuts1_ids,fontsize=14)\n",
    "cbar = ax.figure.colorbar(im, ax=ax)\n",
    "plt.show()"
   ]
  },
  {
   "cell_type": "code",
   "execution_count": null,
   "metadata": {},
   "outputs": [],
   "source": []
  }
 ],
 "metadata": {
  "kernelspec": {
   "display_name": "Python 3",
   "language": "python",
   "name": "python3"
  },
  "language_info": {
   "codemirror_mode": {
    "name": "ipython",
    "version": 3
   },
   "file_extension": ".py",
   "mimetype": "text/x-python",
   "name": "python",
   "nbconvert_exporter": "python",
   "pygments_lexer": "ipython3",
   "version": "3.7.2"
  }
 },
 "nbformat": 4,
 "nbformat_minor": 2
}
