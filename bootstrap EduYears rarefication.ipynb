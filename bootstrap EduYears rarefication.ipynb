{
 "cells": [
  {
   "cell_type": "code",
   "execution_count": 1,
   "metadata": {},
   "outputs": [],
   "source": [
    "import pandas as pd\n",
    "import matplotlib.pyplot as plt\n",
    "import numpy as np\n",
    "import os\n",
    "from ukb_gwas import *\n",
    "from scipy import stats"
   ]
  },
  {
   "cell_type": "code",
   "execution_count": 2,
   "metadata": {},
   "outputs": [
    {
     "name": "stdout",
     "output_type": "stream",
     "text": [
      "1271\n",
      "['rs9859556', 'rs7029718', 'rs1334297', 'rs9375188', 'rs2526398']\n"
     ]
    }
   ],
   "source": [
    "# getting standard snp set for EDUYEARS\n",
    "eduyears_lead_snps = pd.read_excel('41588_2018_147_MOESM3_ESM.xlsx', \n",
    "                                  sheet_name = '2. EduYears Lead SNPs',\n",
    "                                  skipfooter = 2, header = 1, index_col = None )\n",
    "snplist = eduyears_lead_snps.SNP.tolist()\n",
    "print(len(snplist))\n",
    "print(snplist[:5])"
   ]
  },
  {
   "cell_type": "code",
   "execution_count": 4,
   "metadata": {},
   "outputs": [],
   "source": [
    "# save to file\n",
    "with open('lee_eduyears_snps.txt','w') as o:\n",
    "    for snp in snplist:\n",
    "        o.write(snp + '\\n')"
   ]
  },
  {
   "cell_type": "raw",
   "metadata": {},
   "source": [
    "# copy to cbsu\n",
    "scp lee_eduyears_snps.txt igw9@cbsulogin.tc.cornell.edu:/bscb/bscb09/500k_ukb/ian/bootstrap_ea_rarefication/.\n",
    "\n",
    "# step1 run PLINK and --extract Lee snps and --keep the mus_wba_eids and --make-bed\n",
    "# needed to modify script to do plink2.0 on imputed calls\n",
    "see /bscb/bscb09/500k_ukb/ian/bootstrap_ea_rarefication/run_plink_step1.py\n",
    "\n",
    "# merge all chromosomes\n",
    "/home/bscb09/bin/plink2 --merge-list mergelist.txt --out chrMerged_lee_snps\n",
    "\n",
    "# Error: 2 variants with 3+ alleles present. Remove these from lee_eduyears_snps.txt and go again\n",
    "rs7040995\n",
    "rs7914674\n",
    "\n",
    "# Make 1000 lists of stayers, movers ... ugh\n",
    "Make lots of files for each eduyears value ... \n",
    "e.g. eduyears_20_stayers.txt, eduyears_20_movers.txt\n",
    "Make files of eduyears counts\n",
    "e.g. \n",
    "7 14420\n",
    "...\n",
    "\n",
    "Go from there"
   ]
  },
  {
   "cell_type": "code",
   "execution_count": 5,
   "metadata": {},
   "outputs": [
    {
     "data": {
      "text/html": [
       "<div>\n",
       "<style scoped>\n",
       "    .dataframe tbody tr th:only-of-type {\n",
       "        vertical-align: middle;\n",
       "    }\n",
       "\n",
       "    .dataframe tbody tr th {\n",
       "        vertical-align: top;\n",
       "    }\n",
       "\n",
       "    .dataframe thead th {\n",
       "        text-align: right;\n",
       "    }\n",
       "</style>\n",
       "<table border=\"1\" class=\"dataframe\">\n",
       "  <thead>\n",
       "    <tr style=\"text-align: right;\">\n",
       "      <th></th>\n",
       "      <th>eid</th>\n",
       "      <th>eid.1</th>\n",
       "      <th>val</th>\n",
       "    </tr>\n",
       "  </thead>\n",
       "  <tbody>\n",
       "    <tr>\n",
       "      <th>0</th>\n",
       "      <td>3609487</td>\n",
       "      <td>3609487</td>\n",
       "      <td>20</td>\n",
       "    </tr>\n",
       "    <tr>\n",
       "      <th>1</th>\n",
       "      <td>1194904</td>\n",
       "      <td>1194904</td>\n",
       "      <td>20</td>\n",
       "    </tr>\n",
       "  </tbody>\n",
       "</table>\n",
       "</div>"
      ],
      "text/plain": [
       "       eid    eid.1  val\n",
       "0  3609487  3609487   20\n",
       "1  1194904  1194904   20"
      ]
     },
     "execution_count": 5,
     "metadata": {},
     "output_type": "execute_result"
    }
   ],
   "source": [
    "eduyears = pd.read_csv('../pheno/pheno_eduYears.csv',delimiter = ' ')\n",
    "eduyears.head(2)"
   ]
  },
  {
   "cell_type": "code",
   "execution_count": 8,
   "metadata": {},
   "outputs": [
    {
     "data": {
      "text/html": [
       "<div>\n",
       "<style scoped>\n",
       "    .dataframe tbody tr th:only-of-type {\n",
       "        vertical-align: middle;\n",
       "    }\n",
       "\n",
       "    .dataframe tbody tr th {\n",
       "        vertical-align: top;\n",
       "    }\n",
       "\n",
       "    .dataframe thead th {\n",
       "        text-align: right;\n",
       "    }\n",
       "</style>\n",
       "<table border=\"1\" class=\"dataframe\">\n",
       "  <thead>\n",
       "    <tr style=\"text-align: right;\">\n",
       "      <th></th>\n",
       "      <th>eid</th>\n",
       "      <th>POB_east</th>\n",
       "      <th>POB_north</th>\n",
       "      <th>POR_east</th>\n",
       "      <th>POR_north</th>\n",
       "      <th>distances</th>\n",
       "      <th>angles</th>\n",
       "      <th>POR_POB_popDensity</th>\n",
       "    </tr>\n",
       "  </thead>\n",
       "  <tbody>\n",
       "    <tr>\n",
       "      <th>0</th>\n",
       "      <td>1136349</td>\n",
       "      <td>68500</td>\n",
       "      <td>801500</td>\n",
       "      <td>252000.0</td>\n",
       "      <td>663000.0</td>\n",
       "      <td>229901.065678</td>\n",
       "      <td>127.044351</td>\n",
       "      <td>389.270739</td>\n",
       "    </tr>\n",
       "    <tr>\n",
       "      <th>1</th>\n",
       "      <td>1071275</td>\n",
       "      <td>66500</td>\n",
       "      <td>798500</td>\n",
       "      <td>211000.0</td>\n",
       "      <td>665000.0</td>\n",
       "      <td>196729.509734</td>\n",
       "      <td>132.734083</td>\n",
       "      <td>0.798042</td>\n",
       "    </tr>\n",
       "  </tbody>\n",
       "</table>\n",
       "</div>"
      ],
      "text/plain": [
       "       eid  POB_east  POB_north  POR_east  POR_north      distances  \\\n",
       "0  1136349     68500     801500  252000.0   663000.0  229901.065678   \n",
       "1  1071275     66500     798500  211000.0   665000.0  196729.509734   \n",
       "\n",
       "       angles  POR_POB_popDensity  \n",
       "0  127.044351          389.270739  \n",
       "1  132.734083            0.798042  "
      ]
     },
     "execution_count": 8,
     "metadata": {},
     "output_type": "execute_result"
    }
   ],
   "source": [
    "pob_por_migration = pd.read_csv('../00_csv_files/pob_por_migration.csv')\n",
    "pob_por_migration.head(2)"
   ]
  },
  {
   "cell_type": "code",
   "execution_count": 10,
   "metadata": {},
   "outputs": [
    {
     "name": "stdout",
     "output_type": "stream",
     "text": [
      "4194304\n"
     ]
    }
   ],
   "source": [
    "mus_wba_eids = [int(x.split()[0]) for x in open('../00_csv_files/mus_wba_eids.csv','r').readlines()]\n",
    "print(mus_wba_eids[0])"
   ]
  },
  {
   "cell_type": "code",
   "execution_count": 11,
   "metadata": {},
   "outputs": [
    {
     "name": "stdout",
     "output_type": "stream",
     "text": [
      "152227 177519\n"
     ]
    }
   ],
   "source": [
    "all_movers = pob_por_migration[pob_por_migration.distances > 20000].eid.tolist()\n",
    "all_stayers = pob_por_migration[pob_por_migration.distances <= 20000].eid.tolist()\n",
    "wba_movers = list(set(all_movers)&set(mus_wba_eids))\n",
    "wba_stayers = list(set(all_stayers)&set(mus_wba_eids))\n",
    "print(len(wba_movers),len(wba_stayers))"
   ]
  },
  {
   "cell_type": "code",
   "execution_count": 12,
   "metadata": {},
   "outputs": [
    {
     "name": "stdout",
     "output_type": "stream",
     "text": [
      "{7: 14220, 10: 33176, 13: 18188, 15: 7873, 19: 7209, 20: 32884}\n"
     ]
    }
   ],
   "source": [
    "edvals = np.unique(eduyears.val.tolist())\n",
    "edval_stayers = {}\n",
    "edval_movers = {}\n",
    "for edval in edvals:\n",
    "    eids_for_edval = eduyears[eduyears.val==edval].eid.tolist()\n",
    "    movers_val = list(set(wba_movers)&set(eids_for_edval))\n",
    "    stayers_val = list(set(wba_stayers)&set(eids_for_edval))\n",
    "    \n",
    "    edval_stayers[edval] = stayers_val\n",
    "    edval_movers[edval] = movers_val\n",
    "    \n",
    "    # if fewer movers, sample from stayers\n",
    "    if len(movers_val) < len(stayers_val): \n",
    "        edval_numToSample[edval] = len(movers_val)\n",
    "    # if fewer stayers, sample from movers\n",
    "    else:\n",
    "        edval_numToSample[edval] = len(stayers_val)\n",
    "\n",
    "print(edval_numToSample)"
   ]
  },
  {
   "cell_type": "code",
   "execution_count": 18,
   "metadata": {},
   "outputs": [],
   "source": [
    "for val in sorted(edval_stayers.keys()):\n",
    "    with open('eduyearsvals_' + str(val) + '_stayers.txt','w') as o:\n",
    "        for eid in edval_stayers[val]:\n",
    "            o.write(str(eid) + '\\n')\n",
    "    with open('eduyearsvals_' + str(val) + '_movers.txt','w') as o:\n",
    "        for eid in edval_movers[val]:\n",
    "            o.write(str(eid) + '\\n')\n",
    "\n",
    "with open('eduyearsvals_counts.txt','w') as o:\n",
    "    for val in sorted(edval_numToSample.keys()):\n",
    "        o.write(str(val) + ' ' + str(edval_numToSample[val]) + '\\n')"
   ]
  },
  {
   "cell_type": "code",
   "execution_count": null,
   "metadata": {},
   "outputs": [],
   "source": [
    "# copy to cbsu:\n",
    "# scp eduyearsvals_* igw9@cbsulogin.tc.cornell.edu:/bscb/bscb09/500k_ukb/ian/bootstrap_ea_rarefication/."
   ]
  },
  {
   "cell_type": "code",
   "execution_count": 34,
   "metadata": {},
   "outputs": [],
   "source": [
    "# script to save lots of files of rarefied movers and stayers\n",
    "\n",
    "numFilesToSave = 2\n",
    "\n",
    "# get numbers to sample\n",
    "edval_numToSample = {}\n",
    "with open('eduyearsvals_counts.txt','r') as f:\n",
    "    for line in f:\n",
    "        stuff = line.rstrip().split()\n",
    "        edval_numToSample[int(stuff[0])] = int(stuff[1])\n",
    "\n",
    "#print(edval_numToSample)\n",
    "\n",
    "# make dictionaries for movers and stayers\n",
    "# key = eduyears val; value = list of eids\n",
    "\n",
    "edval_stayers = {}\n",
    "edval_movers = {}\n",
    "\n",
    "for val in sorted(edval_numToSample.keys()):\n",
    "    sfile = 'eduyearsvals_' + str(val) + '_stayers.txt'\n",
    "    mfile = 'eduyearsvals_' + str(val) + '_movers.txt'\n",
    "    edval_stayers[val] = [int(x.rstrip()) for x in open(sfile,'r').readlines()]\n",
    "    edval_movers[val] =  [int(x.rstrip()) for x in open(mfile,'r').readlines()]\n",
    "    \n",
    "#print(len(edval_movers[20]))\n",
    "\n",
    "#print(edval_stayers[20][:5])\n",
    "\n",
    "for i in np.arange(numFiles):\n",
    "    s_outfile = 'rarefied_stayers_' + str(i+1) + '.txt'\n",
    "    m_outfile = 'rarefied_movers_' + str(i+1) + '.txt'\n",
    "    s = open(s_outfile,'w')\n",
    "    m = open(m_outfile,'w')\n",
    "    \n",
    "    for val in sorted(edval_numToSample.keys()):\n",
    "        num_to_get = edval_numToSample[val]\n",
    "        stayer_samples = np.random.choice(edval_stayers[val],num_to_get,replace=False)\n",
    "        mover_samples = np.random.choice(edval_movers[val],num_to_get,replace=False)\n",
    "        \n",
    "        for eid in stayer_samples:\n",
    "            s.write(str(eid) + ' ' + str(eid) + '\\n')\n",
    "        for eid in mover_samples:\n",
    "            m.write(str(eid) + ' ' + str(eid) + '\\n')\n",
    "    \n",
    "    s.close()\n",
    "    m.close()"
   ]
  },
  {
   "cell_type": "raw",
   "metadata": {},
   "source": [
    "# run plink on the files from above (rarefied_stayers_1.txt)\n",
    "\n",
    "/home/bscb09/bin/plink2.0 \n",
    "--bfile chrMerged_lee_snps \n",
    "--keep rarefied_stayers_X.txt \n",
    "--linear hide-covar\n",
    "--extract lee_eduyears_snps.txt \n",
    "--covar /bscb/bscb09/500k_ukb/ian/gwas_files/covar_sex_pcs_batch_chip.txt \n",
    "--covar-variance-standardize \n",
    "--pheno /bscb/bscb09/500k_ukb/ian/gwas_files/pheno_eduyears.csv \n",
    "--threads 4 --out plink_stayers_X\n",
    "\n",
    "/home/bscb09/bin/plink2.0 --bfile chrMerged_lee_snps --keep rarefied_stayers_1.txt --linear hide-covar --extract lee_eduyears_snps.txt --covar /bscb/bscb09/500k_ukb/ian/gwas_files/covar_sex_pcs_batch_chip.txt --covar-variance-standardize --pheno /bscb/bscb09/500k_ukb/ian/gwas_files/pheno_eduyears.csv --threads 4 --out plink_stayers_1"
   ]
  },
  {
   "cell_type": "code",
   "execution_count": 38,
   "metadata": {},
   "outputs": [
    {
     "name": "stdout",
     "output_type": "stream",
     "text": [
      "/home/bscb09/bin/plink2.0 --bfile chrMerged_lee_snps  --keep rarefied_stayers_1.txt --linear hide-covar --extract lee_eduyears_snps.txt --covar /bscb/bscb09/500k_ukb/ian/gwas_files/covar_sex_pcs_batch_chip.txt --covar-variance-standardize --pheno /bscb/bscb09/500k_ukb/ian/gwas_files/pheno_eduyears.csv --threads 4 --out plink_stayers_1\n",
      "/home/bscb09/bin/plink2.0 --bfile chrMerged_lee_snps  --keep rarefied_movers_1.txt --linear hide-covar --extract lee_eduyears_snps.txt --covar /bscb/bscb09/500k_ukb/ian/gwas_files/covar_sex_pcs_batch_chip.txt --covar-variance-standardize --pheno /bscb/bscb09/500k_ukb/ian/gwas_files/pheno_eduyears.csv --threads 4 --out plink_movers_1\n",
      "/home/bscb09/bin/plink2.0 --bfile chrMerged_lee_snps  --keep rarefied_stayers_2.txt --linear hide-covar --extract lee_eduyears_snps.txt --covar /bscb/bscb09/500k_ukb/ian/gwas_files/covar_sex_pcs_batch_chip.txt --covar-variance-standardize --pheno /bscb/bscb09/500k_ukb/ian/gwas_files/pheno_eduyears.csv --threads 4 --out plink_stayers_2\n",
      "/home/bscb09/bin/plink2.0 --bfile chrMerged_lee_snps  --keep rarefied_movers_2.txt --linear hide-covar --extract lee_eduyears_snps.txt --covar /bscb/bscb09/500k_ukb/ian/gwas_files/covar_sex_pcs_batch_chip.txt --covar-variance-standardize --pheno /bscb/bscb09/500k_ukb/ian/gwas_files/pheno_eduyears.csv --threads 4 --out plink_movers_2\n"
     ]
    }
   ],
   "source": [
    "#!/usr/bin/python\n",
    "import os\n",
    "\n",
    "# script to run plink on the rarefied samples\n",
    "s1 = '/home/bscb09/bin/plink2.0 '\n",
    "s2 = '--bfile chrMerged_lee_snps '\n",
    "s3 = ' --keep rarefied_' \n",
    "# add 'stayers' or 'movers' here\n",
    "# add _number here\n",
    "s4 = '.txt --linear hide-covar '\n",
    "s5 = '--extract lee_eduyears_snps.txt '\n",
    "s6 = '--covar /bscb/bscb09/500k_ukb/ian/gwas_files/covar_sex_pcs_batch_chip.txt '\n",
    "s7 = '--covar-variance-standardize '\n",
    "s8 = '--pheno /bscb/bscb09/500k_ukb/ian/gwas_files/pheno_eduyears.csv '\n",
    "s9 = '--threads 4 --out plink_'\n",
    "# add 'stayers' or 'movers' here\n",
    "# add _number here\n",
    "\n",
    "\n",
    "for n in np.arange(2):\n",
    "    for group in ['stayers','movers']:\n",
    "        i = n+1\n",
    "        print(s1 + s2 + s3 + group + '_' + str(i) + s4 + s5 + s6 + s7 + s8 + s9 + group + '_' + str(i))\n"
   ]
  },
  {
   "cell_type": "code",
   "execution_count": null,
   "metadata": {},
   "outputs": [],
   "source": [
    "# collect betas for each run (e.g. run 1)\n",
    "# process as I've done before (need to think about absolute value)\n",
    "# report average stayer, average mover"
   ]
  }
 ],
 "metadata": {
  "kernelspec": {
   "display_name": "Python 3",
   "language": "python",
   "name": "python3"
  },
  "language_info": {
   "codemirror_mode": {
    "name": "ipython",
    "version": 3
   },
   "file_extension": ".py",
   "mimetype": "text/x-python",
   "name": "python",
   "nbconvert_exporter": "python",
   "pygments_lexer": "ipython3",
   "version": "3.7.3"
  }
 },
 "nbformat": 4,
 "nbformat_minor": 2
}
