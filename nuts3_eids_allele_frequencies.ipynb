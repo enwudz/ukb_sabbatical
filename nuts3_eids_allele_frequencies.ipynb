{
 "cells": [
  {
   "cell_type": "code",
   "execution_count": 1,
   "metadata": {},
   "outputs": [],
   "source": [
    "import pandas as pd\n",
    "import numpy as np\n",
    "import matplotlib.pyplot as plt\n",
    "import glob\n",
    "from matplotlib.patches import Rectangle"
   ]
  },
  {
   "cell_type": "code",
   "execution_count": 30,
   "metadata": {},
   "outputs": [],
   "source": [
    "def load_chromosomes(fstem,fdir):\n",
    "\n",
    "    fsearch = fdir + fstem + '*.linear'\n",
    "    files = glob.glob(fsearch)\n",
    "    if len(files) == 0:\n",
    "        print('no files!')\n",
    "        return\n",
    "\n",
    "    variants = {}  # key = chromosome numbers; values = list of SNPs\n",
    "    positions = {} # key = chromosome numbers; values = list of positions\n",
    "    pvals = {} # key = chromosome numbers; values = list of pvals\n",
    "    betas = {} # key = chromosome numbers; values = list of betas\n",
    "\n",
    "    for file in files:\n",
    "        chrnum = int(file.split('/')[1].split(fstem)[1].split('.')[0])\n",
    "        positions[chrnum] = []\n",
    "        pvals[chrnum] = []\n",
    "        variants[chrnum] = []\n",
    "        betas[chrnum] = []\n",
    "        \n",
    "        #print('Loading chromosome ' + str(chrnum))\n",
    "        with open(file,'r') as f:\n",
    "            header = f.readline()\n",
    "            for line in f:\n",
    "                stuff = line.rstrip().split()\n",
    "                if len(stuff) > 8:\n",
    "                    variants[chrnum].append(stuff[1])\n",
    "                    positions[chrnum].append(int(stuff[2]))\n",
    "                    \n",
    "                    if 'NA' in stuff[8]:\n",
    "                        p = float('nan')\n",
    "                        beta = p\n",
    "                    else:\n",
    "                        p = float(stuff[8])\n",
    "                        beta = float(stuff[6])\n",
    "                    pvals[chrnum].append(-np.log10(p))\n",
    "                    betas[chrnum].append(beta)\n",
    "                else:\n",
    "                    print(str(chrnum) + ' appears to be truncated')\n",
    "    print('done loading chromosomes')\n",
    "    return positions, variants, pvals, betas\n",
    "\n",
    "def variant_pval_dict(variantDict,pvalDict):\n",
    "    allVariants = []\n",
    "    allPvals = []\n",
    "    for chrom in sorted(pvalDict.keys()):\n",
    "        allVariants.extend(variantDict[chrom])\n",
    "        allPvals.extend(pvalDict[chrom])\n",
    "    variantPvals = dict(zip(allVariants,allPvals))\n",
    "    return variantPvals"
   ]
  },
  {
   "cell_type": "code",
   "execution_count": 26,
   "metadata": {},
   "outputs": [
    {
     "name": "stdout",
     "output_type": "stream",
     "text": [
      "done loading chromosomes\n"
     ]
    }
   ],
   "source": [
    "# load GWAS data for a particular experiment\n",
    "fstem = 'qualifications_noMove'\n",
    "fdir = 'qualifications_noMove_95k/'\n",
    "noMovepositions, noMovevariants, noMovepvals, noMovebetas = load_chromosomes(fstem,fdir)"
   ]
  },
  {
   "cell_type": "code",
   "execution_count": 46,
   "metadata": {},
   "outputs": [
    {
     "name": "stdout",
     "output_type": "stream",
     "text": [
      "[15101, 15267, 15307, 15322, 15325, 15344, 15349, 15353, 15383, 15418, 15428]\n",
      "[ 9.34103516  8.53461715 12.52186657 13.57708202 13.74763249 13.57560845\n",
      " 13.65975424 13.93181414  9.45407467  9.77858576  8.2040505 ]\n",
      "rs73078357\n",
      "rs7623687\n",
      "rs4625\n",
      "rs4283605\n",
      "rs34762726\n",
      "rs9858542\n",
      "rs9822268\n",
      "rs3197999\n",
      "rs7372966\n",
      "rs695238\n",
      "rs9821675\n"
     ]
    }
   ],
   "source": [
    "# get snps of interest\n",
    "chr_of_interest = 3 # 3, 6, 9, 11\n",
    "chrpvals = np.array(noMovepvals[chr_of_interest])\n",
    "chrvariants = np.array(noMovevariants[chr_of_interest])\n",
    "threshold = -np.log10(1e-8)\n",
    "sig_pvals = []\n",
    "for i,val in enumerate(chrpvals):\n",
    "    if val >= threshold:\n",
    "        sig_pvals.append(i)\n",
    "print(sig_pvals)\n",
    "print(chrpvals[sig_pvals])\n",
    "snps_to_keep = chrvariants[sig_pvals]\n",
    "for snp in snps_to_keep:\n",
    "    print(snp)"
   ]
  },
  {
   "cell_type": "raw",
   "metadata": {},
   "source": [
    "scp sig_snps.csv igw9@cbsulogin.tc.cornell.edu:/bscb/bscb09/500k_ukb/ian/nuts3_csvs/.\n",
    "print_plink_command.py\n",
    "\n",
    "copy .frq files from cbsu\n",
    "scp igw9@cbsulogin.tc.cornell.edu:/bscb/bscb09/500k_ukb/ian/nuts3_csvs/*.frq ."
   ]
  },
  {
   "cell_type": "code",
   "execution_count": 2,
   "metadata": {},
   "outputs": [
    {
     "name": "stdout",
     "output_type": "stream",
     "text": [
      "2359299\n"
     ]
    }
   ],
   "source": [
    "eid_data = pd.read_csv('../00_csv_files/eid_data.csv')\n",
    "print(len(eid_data))\n",
    "eid_data.head(3)"
   ]
  },
  {
   "cell_type": "code",
   "execution_count": 4,
   "metadata": {},
   "outputs": [
    {
     "name": "stdout",
     "output_type": "stream",
     "text": [
      "['UKC11', 'UKC12', 'UKC13', 'UKC14', 'UKC21', 'UKC22', 'UKC23', 'UKD11', 'UKD12', 'UKD31']\n"
     ]
    }
   ],
   "source": [
    "# go through nuts3 IDS, make file for each, with \n",
    "# eid eid\n",
    "# these will be the '--keeps'\n",
    "nuts3 = sorted(list(set(eid_data.POB_NUTSID.tolist())))\n",
    "print(nuts3[:10])"
   ]
  },
  {
   "cell_type": "code",
   "execution_count": 5,
   "metadata": {},
   "outputs": [],
   "source": [
    "fdir = 'nuts3_eids/'\n",
    "for nuts in nuts3:\n",
    "    fstem = nuts + '_eids.csv'\n",
    "    o = open(fdir + fstem, 'w')\n",
    "    eids = eid_data[eid_data.POB_NUTSID==nuts].eid.tolist()\n",
    "    for eid in eids:\n",
    "        o.write(str(eid) + ' ' + str(eid) + '\\n')\n",
    "    o.close()"
   ]
  },
  {
   "cell_type": "raw",
   "metadata": {},
   "source": [
    "print_plink_command.py = lots of .frq files.\n",
    "from these, make dictionary: snp = [array of allele frequencies for each nuts3, sorted by nuts3 name]\n",
    "\n",
    "open each file in nuts3 order\n",
    "    they are nuts3_chr[3,6,9,11].frq\n",
    "get index of nuts3\n",
    "put each allele frequency in its place for each snp"
   ]
  },
  {
   "cell_type": "code",
   "execution_count": 36,
   "metadata": {},
   "outputs": [],
   "source": [
    "allele_freqs = {} # dictionary: snp = [array of allele frequencies for each nuts3, sorted by nuts3 name]\n",
    "for i,nuts in enumerate(nuts3):\n",
    "    for chr in [3,6,9,11]:\n",
    "        fname = 'nuts3_frqs/'+nuts+'_chr'+str(chr)+'.frq'\n",
    "        with open(fname,'r') as f:\n",
    "            header = f.readline()\n",
    "            for line in f:\n",
    "                stuff = line.rstrip().split()\n",
    "                snp = stuff[1]\n",
    "                af = float(stuff[4])\n",
    "                if snp not in allele_freqs.keys():\n",
    "                    allele_freqs[snp] = np.zeros(len(nuts3))           \n",
    "                allele_freqs[snp][i] = af"
   ]
  },
  {
   "cell_type": "code",
   "execution_count": 37,
   "metadata": {},
   "outputs": [
    {
     "name": "stdout",
     "output_type": "stream",
     "text": [
      "[0.119   0.1167  0.1164  0.122   0.1241  0.1213  0.1269  0.1246  0.1358\n",
      " 0.122   0.1153  0.1188  0.09836 0.122   0.1201  0.1187  0.1265  0.1208\n",
      " 0.1241  0.123   0.1196  0.1202  0.1146  0.1178  0.1229  0.1233  0.1073\n",
      " 0.1182  0.1168  0.1183  0.1101  0.1105  0.1231  0.1195  0.1166  0.1203\n",
      " 0.1234  0.1167  0.1257  0.1258  0.121   0.105   0.1175  0.1442  0.1253\n",
      " 0.1178  0.1307  0.1185  0.1191  0.1099  0.1205  0.1198  0.1294  0.1144\n",
      " 0.1232  0.1205  0.1213  0.1091  0.1346  0.1176  0.1381  0.1377  0.1246\n",
      " 0.1258  0.1392  0.1136  0.1222  0.1239  0.1319  0.132   0.1259  0.1211\n",
      " 0.1263  0.1183  0.1146  0.1283  0.1168  0.1318  0.1285  0.1235  0.1161\n",
      " 0.1238  0.1405  0.1268  0.1236  0.1246  0.1212  0.1124  0.1124  0.1192\n",
      " 0.1314  0.1098  0.1126  0.1467  0.1206  0.1153  0.115   0.1143  0.1243\n",
      " 0.09118 0.1302  0.1346  0.1259  0.1256  0.1157  0.1209  0.1303  0.1195\n",
      " 0.12    0.1053  0.1132  0.1228  0.1312  0.1317  0.1286  0.1242  0.1077\n",
      " 0.1254  0.1302  0.1256  0.1296  0.1338  0.1315  0.1332  0.122   0.1329\n",
      " 0.1383  0.1222  0.1185  0.125   0.125   0.1626  0.1234  0.06818]\n"
     ]
    }
   ],
   "source": [
    "print(allele_freqs['rs73078357'])"
   ]
  },
  {
   "cell_type": "code",
   "execution_count": 38,
   "metadata": {},
   "outputs": [
    {
     "name": "stdout",
     "output_type": "stream",
     "text": [
      "['rs73078357', 'rs7623687', 'rs4625', 'rs4283605', 'rs34762726', 'rs9858542', 'rs9822268', 'rs3197999', 'rs7372966', 'rs695238', 'rs9821675', 'rs9482094', 'rs4524616', 'rs62422661', 'rs1487445', 'rs13208578', 'rs12554512', 'rs1254989']\n"
     ]
    }
   ],
   "source": [
    "sig_snps = open('nuts3_eids/sig_snps.csv','r').readlines()\n",
    "sig_snps = [x.rstrip() for x in sig_snps]\n",
    "print(sig_snps)"
   ]
  },
  {
   "cell_type": "code",
   "execution_count": 39,
   "metadata": {},
   "outputs": [],
   "source": [
    "pval_dict = variant_pval_dict(noMovevariants,noMovepvals)"
   ]
  },
  {
   "cell_type": "code",
   "execution_count": 40,
   "metadata": {},
   "outputs": [
    {
     "name": "stdout",
     "output_type": "stream",
     "text": [
      "9.341035157335565\n",
      "8.534617148551582\n",
      "12.521866571899482\n",
      "13.577082019232337\n",
      "13.747632485540102\n",
      "13.575608445589722\n",
      "13.659754238432068\n",
      "13.931814138253838\n",
      "9.454074670644157\n",
      "9.778585762157661\n",
      "8.204050501097196\n",
      "9.333950261519485\n",
      "8.518127589689337\n",
      "10.003225729138695\n",
      "9.767512133647013\n",
      "9.117361638303962\n",
      "8.339798798619318\n",
      "8.141583122276511\n"
     ]
    }
   ],
   "source": [
    "for snp in sig_snps:\n",
    "    print(pval_dict[snp])"
   ]
  },
  {
   "cell_type": "code",
   "execution_count": 49,
   "metadata": {},
   "outputs": [
    {
     "data": {
      "image/png": "[encoded data removed]",
      "text/plain": [
       "<Figure size 576x360 with 1 Axes>"
      ]
     },
     "metadata": {
      "needs_background": "light"
     },
     "output_type": "display_data"
    }
   ],
   "source": [
    "f,ax = plt.subplots(1,1,figsize=(8,5))\n",
    "\n",
    "chrs = [3,3,3,3,3,3,3,3,3,3,3,6,6,6,6,6,9,11]\n",
    "xlabs = []\n",
    "# plot each snp\n",
    "for i,snp in enumerate(sig_snps):\n",
    "    xvals = np.zeros(len(allele_freqs[snp]))\n",
    "    xvals = xvals + i\n",
    "    ax.scatter(xvals,allele_freqs[snp])\n",
    "    xlabs.append(snp + '_Chr' + str(chrs[i]) + '_' + '{:01.2f}'.format(pval_dict[snp]))\n",
    "\n",
    "plt.ylabel('Major allele frequency')\n",
    "xtickPos = np.arange(len(xlabs))\n",
    "plt.xticks(xtickPos,xlabs,fontsize=12,rotation=90)    \n",
    "plt.show()"
   ]
  },
  {
   "cell_type": "code",
   "execution_count": null,
   "metadata": {},
   "outputs": [],
   "source": [
    "xlabs = [str(x) for x in sorted(positions.keys())]\n",
    "    xtickPos = [x-0.5 for x in sorted(positions.keys())]\n",
    "    plt.xticks(xtickPos,xlabs,fontsize=12)"
   ]
  },
  {
   "cell_type": "markdown",
   "metadata": {},
   "source": [
    "# PLINK interaction term convolutedness"
   ]
  },
  {
   "cell_type": "raw",
   "metadata": {},
   "source": [
    "\"But to be clear, it seems like, assuming you have 44 covariates, and mover is the 15th, you want --tests 1-45,60\"\n",
    "\n",
    " --parameters 1,4,5 --tests 1-(N+1),N+K \n",
    "\n",
    "in \n",
    "covar_sex_moveBinary_pcs_chip.txt: 44 covariates\n",
    "moveBinary is the 5th column, and the 3rd covariate (DOB,sex,move,PCs1-40,chip)\n",
    "\n",
    "2359299 2359299 1940 0 0 -11.7945 4.1119 -2.28471 0.902893 -5.47112 0.224805 -0.596068 -3.50686 -3.09546 -1.35302 -0.514042 -0.102977 -0.939003 -2.69581 -0.486369 0.883092 -0.406264 1.35898 -3.09954 3.31034 0.0617855 0.872082 -2.95876 0.418957 1.12531 -1.85192 3.88311 1.18842 -0.78892 2.0059 1.18941 0.438863 -3.59818 -3.37851 -3.70867 1.52732 0.029598 -4.6005 1.57541 1.98837 0\n",
    "\n",
    "so try --parameters 1,4,5 --tests 1-45,48"
   ]
  },
  {
   "cell_type": "raw",
   "metadata": {},
   "source": [
    "For chromosome 3 snps:\n",
    "/home/bscb09/bin/plink2 --bed /bscb/bscb09/500k_ukb/genotypes/ukb_cal_chr3_v2.bed\n",
    "--bim /bscb/bscb09/500k_ukb/genotypes/ukb_snp_chr3_v2.bim\n",
    "--fam /bscb/bscb09/500k_ukb/genotypes/ukb1994_cal_chr3_v2_s488374.fam\n",
    "--keep /bscb/bscb09/500k_ukb/ian/gwas_files/mus_wba_eids.csv\n",
    "--extract /bscb/bscb09/500k_ukb/ian/gwas_files/qualifications_chr3snps.txt\n",
    "--pheno /bscb/bscb09/500k_ukb/ian/gwas_files/pheno_qualifications.csv\n",
    "--covar /bscb/bscb09/500k_ukb/ian/gwas_files/covar_sex_moveBinary_pcs_chip.txt\n",
    "--linear interaction\n",
    "--parameters 1-45,48\n",
    "--out qualifications_moveBinary_test"
   ]
  },
  {
   "cell_type": "raw",
   "metadata": {},
   "source": [
    "/home/bscb09/bin/plink2 --bed /bscb/bscb09/500k_ukb/genotypes/ukb_cal_chr3_v2.bed --bim /bscb/bscb09/500k_ukb/genotypes/ukb_snp_chr3_v2.bim --fam /bscb/bscb09/500k_ukb/genotypes/ukb1994_cal_chr3_v2_s488374.fam --keep /bscb/bscb09/500k_ukb/ian/gwas_files/mus_wba_eids.csv --extract /bscb/bscb09/500k_ukb/ian/gwas_files/qualifications_chr3snps.txt --pheno /bscb/bscb09/500k_ukb/ian/gwas_files/pheno_qualifications.csv --covar /bscb/bscb09/500k_ukb/ian/gwas_files/covar_sex_moveBinary_pcs_chip.txt --linear interaction --parameters 1-45,48 --out qualifications_moveBinary_test"
   ]
  }
 ],
 "metadata": {
  "kernelspec": {
   "display_name": "Python 3",
   "language": "python",
   "name": "python3"
  },
  "language_info": {
   "codemirror_mode": {
    "name": "ipython",
    "version": 3
   },
   "file_extension": ".py",
   "mimetype": "text/x-python",
   "name": "python",
   "nbconvert_exporter": "python",
   "pygments_lexer": "ipython3",
   "version": "3.7.2"
  }
 },
 "nbformat": 4,
 "nbformat_minor": 2
}
