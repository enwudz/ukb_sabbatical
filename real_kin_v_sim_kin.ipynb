{
 "cells": [
  {
   "cell_type": "markdown",
   "metadata": {},
   "source": [
    "Try again from scratch  \n",
    "\n",
    "simulated pop: 1000sims_500kpop.npy\n",
    "  \n",
    "make ~90k simulated kinship pairs 1000 times?  \n",
    "matrix of nuts3 by nuts3  \n",
    "\n",
    "have real kinship pairs  \n",
    "\n",
    "NUTS1 by NUTS1 matrix for real pairs vs. sim pairs  \n",
    "\n",
    "NUTS3 by NUTS3 matrix for real pairs vs. sim pairs  "
   ]
  },
  {
   "cell_type": "code",
   "execution_count": 1,
   "metadata": {},
   "outputs": [],
   "source": [
    "import pandas as pd\n",
    "import numpy as np\n",
    "import matplotlib.pyplot as plt"
   ]
  },
  {
   "cell_type": "code",
   "execution_count": 2,
   "metadata": {},
   "outputs": [
    {
     "data": {
      "text/html": [
       "<div>\n",
       "<style scoped>\n",
       "    .dataframe tbody tr th:only-of-type {\n",
       "        vertical-align: middle;\n",
       "    }\n",
       "\n",
       "    .dataframe tbody tr th {\n",
       "        vertical-align: top;\n",
       "    }\n",
       "\n",
       "    .dataframe thead th {\n",
       "        text-align: right;\n",
       "    }\n",
       "</style>\n",
       "<table border=\"1\" class=\"dataframe\">\n",
       "  <thead>\n",
       "    <tr style=\"text-align: right;\">\n",
       "      <th></th>\n",
       "      <th>uniqID</th>\n",
       "      <th>ID1</th>\n",
       "      <th>ID2</th>\n",
       "      <th>HetHet</th>\n",
       "      <th>IBS0</th>\n",
       "      <th>Kinship</th>\n",
       "      <th>pob_north_id1</th>\n",
       "      <th>pob_east_id1</th>\n",
       "      <th>pob_north_id2</th>\n",
       "      <th>pob_east_id2</th>\n",
       "      <th>distance</th>\n",
       "      <th>region1</th>\n",
       "      <th>region2</th>\n",
       "    </tr>\n",
       "  </thead>\n",
       "  <tbody>\n",
       "    <tr>\n",
       "      <th>0</th>\n",
       "      <td>rel1</td>\n",
       "      <td>1000027</td>\n",
       "      <td>3239325</td>\n",
       "      <td>0.078</td>\n",
       "      <td>0.0041</td>\n",
       "      <td>0.2657</td>\n",
       "      <td>422500</td>\n",
       "      <td>438500</td>\n",
       "      <td>425500</td>\n",
       "      <td>442500</td>\n",
       "      <td>5000.000000</td>\n",
       "      <td>UKE45</td>\n",
       "      <td>UKE45</td>\n",
       "    </tr>\n",
       "    <tr>\n",
       "      <th>1</th>\n",
       "      <td>rel2</td>\n",
       "      <td>1000064</td>\n",
       "      <td>3178357</td>\n",
       "      <td>0.046</td>\n",
       "      <td>0.0138</td>\n",
       "      <td>0.0682</td>\n",
       "      <td>398500</td>\n",
       "      <td>451500</td>\n",
       "      <td>176500</td>\n",
       "      <td>318500</td>\n",
       "      <td>258791.421805</td>\n",
       "      <td>UKE31</td>\n",
       "      <td>UKL22</td>\n",
       "    </tr>\n",
       "    <tr>\n",
       "      <th>2</th>\n",
       "      <td>rel3</td>\n",
       "      <td>1000096</td>\n",
       "      <td>4107632</td>\n",
       "      <td>0.047</td>\n",
       "      <td>0.0137</td>\n",
       "      <td>0.0715</td>\n",
       "      <td>673500</td>\n",
       "      <td>327500</td>\n",
       "      <td>341500</td>\n",
       "      <td>456500</td>\n",
       "      <td>356181.133695</td>\n",
       "      <td>UKM25</td>\n",
       "      <td>UKF14</td>\n",
       "    </tr>\n",
       "    <tr>\n",
       "      <th>3</th>\n",
       "      <td>rel4</td>\n",
       "      <td>1000132</td>\n",
       "      <td>2772375</td>\n",
       "      <td>0.055</td>\n",
       "      <td>0.0085</td>\n",
       "      <td>0.1380</td>\n",
       "      <td>255500</td>\n",
       "      <td>427500</td>\n",
       "      <td>255500</td>\n",
       "      <td>427500</td>\n",
       "      <td>0.000000</td>\n",
       "      <td>UKG13</td>\n",
       "      <td>UKG13</td>\n",
       "    </tr>\n",
       "    <tr>\n",
       "      <th>4</th>\n",
       "      <td>rel5</td>\n",
       "      <td>1000176</td>\n",
       "      <td>2842606</td>\n",
       "      <td>0.047</td>\n",
       "      <td>0.0131</td>\n",
       "      <td>0.0755</td>\n",
       "      <td>520500</td>\n",
       "      <td>455500</td>\n",
       "      <td>520500</td>\n",
       "      <td>453500</td>\n",
       "      <td>2000.000000</td>\n",
       "      <td>UKC12</td>\n",
       "      <td>UKC12</td>\n",
       "    </tr>\n",
       "  </tbody>\n",
       "</table>\n",
       "</div>"
      ],
      "text/plain": [
       "  uniqID      ID1      ID2  HetHet    IBS0  Kinship  pob_north_id1  \\\n",
       "0   rel1  1000027  3239325   0.078  0.0041   0.2657         422500   \n",
       "1   rel2  1000064  3178357   0.046  0.0138   0.0682         398500   \n",
       "2   rel3  1000096  4107632   0.047  0.0137   0.0715         673500   \n",
       "3   rel4  1000132  2772375   0.055  0.0085   0.1380         255500   \n",
       "4   rel5  1000176  2842606   0.047  0.0131   0.0755         520500   \n",
       "\n",
       "   pob_east_id1  pob_north_id2  pob_east_id2       distance region1 region2  \n",
       "0        438500         425500        442500    5000.000000   UKE45   UKE45  \n",
       "1        451500         176500        318500  258791.421805   UKE31   UKL22  \n",
       "2        327500         341500        456500  356181.133695   UKM25   UKF14  \n",
       "3        427500         255500        427500       0.000000   UKG13   UKG13  \n",
       "4        455500         520500        453500    2000.000000   UKC12   UKC12  "
      ]
     },
     "execution_count": 2,
     "metadata": {},
     "output_type": "execute_result"
    }
   ],
   "source": [
    "kinship = pd.read_csv('../prob_of_kin_within_D/kinship_data.csv')\n",
    "kinship.head(5)"
   ]
  },
  {
   "cell_type": "code",
   "execution_count": 3,
   "metadata": {},
   "outputs": [],
   "source": [
    "nuts3_pops = pd.read_csv('../nuts/nuts3_sampling_corrections.csv')\n",
    "nuts1_pops = pd.read_csv('../nuts/nuts1_sampling_corrections.csv')"
   ]
  },
  {
   "cell_type": "code",
   "execution_count": 130,
   "metadata": {},
   "outputs": [
    {
     "data": {
      "text/html": [
       "<div>\n",
       "<style scoped>\n",
       "    .dataframe tbody tr th:only-of-type {\n",
       "        vertical-align: middle;\n",
       "    }\n",
       "\n",
       "    .dataframe tbody tr th {\n",
       "        vertical-align: top;\n",
       "    }\n",
       "\n",
       "    .dataframe thead th {\n",
       "        text-align: right;\n",
       "    }\n",
       "</style>\n",
       "<table border=\"1\" class=\"dataframe\">\n",
       "  <thead>\n",
       "    <tr style=\"text-align: right;\">\n",
       "      <th></th>\n",
       "      <th>NUTS_ID</th>\n",
       "      <th>ukb_points</th>\n",
       "      <th>census_pops</th>\n",
       "      <th>frac_sampled</th>\n",
       "      <th>weighting</th>\n",
       "    </tr>\n",
       "  </thead>\n",
       "  <tbody>\n",
       "    <tr>\n",
       "      <th>8</th>\n",
       "      <td>UKC</td>\n",
       "      <td>49828</td>\n",
       "      <td>2596885</td>\n",
       "      <td>0.019188</td>\n",
       "      <td>1.000000</td>\n",
       "    </tr>\n",
       "    <tr>\n",
       "      <th>10</th>\n",
       "      <td>UKD</td>\n",
       "      <td>74978</td>\n",
       "      <td>7052175</td>\n",
       "      <td>0.010632</td>\n",
       "      <td>1.804721</td>\n",
       "    </tr>\n",
       "    <tr>\n",
       "      <th>3</th>\n",
       "      <td>UKE</td>\n",
       "      <td>60351</td>\n",
       "      <td>5283735</td>\n",
       "      <td>0.011422</td>\n",
       "      <td>1.679876</td>\n",
       "    </tr>\n",
       "    <tr>\n",
       "      <th>2</th>\n",
       "      <td>UKF</td>\n",
       "      <td>32138</td>\n",
       "      <td>4533220</td>\n",
       "      <td>0.007089</td>\n",
       "      <td>2.706504</td>\n",
       "    </tr>\n",
       "    <tr>\n",
       "      <th>6</th>\n",
       "      <td>UKG</td>\n",
       "      <td>41758</td>\n",
       "      <td>5601845</td>\n",
       "      <td>0.007454</td>\n",
       "      <td>2.574021</td>\n",
       "    </tr>\n",
       "    <tr>\n",
       "      <th>9</th>\n",
       "      <td>UKH</td>\n",
       "      <td>11998</td>\n",
       "      <td>5846965</td>\n",
       "      <td>0.002052</td>\n",
       "      <td>9.350662</td>\n",
       "    </tr>\n",
       "    <tr>\n",
       "      <th>4</th>\n",
       "      <td>UKI</td>\n",
       "      <td>47533</td>\n",
       "      <td>8173940</td>\n",
       "      <td>0.005815</td>\n",
       "      <td>3.299567</td>\n",
       "    </tr>\n",
       "    <tr>\n",
       "      <th>1</th>\n",
       "      <td>UKJ</td>\n",
       "      <td>31839</td>\n",
       "      <td>8634750</td>\n",
       "      <td>0.003687</td>\n",
       "      <td>5.203686</td>\n",
       "    </tr>\n",
       "    <tr>\n",
       "      <th>7</th>\n",
       "      <td>UKK</td>\n",
       "      <td>31176</td>\n",
       "      <td>5288935</td>\n",
       "      <td>0.005895</td>\n",
       "      <td>3.255132</td>\n",
       "    </tr>\n",
       "    <tr>\n",
       "      <th>5</th>\n",
       "      <td>UKL</td>\n",
       "      <td>20995</td>\n",
       "      <td>3063455</td>\n",
       "      <td>0.006853</td>\n",
       "      <td>2.799731</td>\n",
       "    </tr>\n",
       "    <tr>\n",
       "      <th>0</th>\n",
       "      <td>UKM</td>\n",
       "      <td>39441</td>\n",
       "      <td>5295405</td>\n",
       "      <td>0.007448</td>\n",
       "      <td>2.576155</td>\n",
       "    </tr>\n",
       "  </tbody>\n",
       "</table>\n",
       "</div>"
      ],
      "text/plain": [
       "   NUTS_ID  ukb_points  census_pops  frac_sampled  weighting\n",
       "8      UKC       49828      2596885      0.019188   1.000000\n",
       "10     UKD       74978      7052175      0.010632   1.804721\n",
       "3      UKE       60351      5283735      0.011422   1.679876\n",
       "2      UKF       32138      4533220      0.007089   2.706504\n",
       "6      UKG       41758      5601845      0.007454   2.574021\n",
       "9      UKH       11998      5846965      0.002052   9.350662\n",
       "4      UKI       47533      8173940      0.005815   3.299567\n",
       "1      UKJ       31839      8634750      0.003687   5.203686\n",
       "7      UKK       31176      5288935      0.005895   3.255132\n",
       "5      UKL       20995      3063455      0.006853   2.799731\n",
       "0      UKM       39441      5295405      0.007448   2.576155"
      ]
     },
     "execution_count": 130,
     "metadata": {},
     "output_type": "execute_result"
    }
   ],
   "source": [
    "nuts1_pops.sort_values(by='NUTS_ID')"
   ]
  },
  {
   "cell_type": "code",
   "execution_count": 133,
   "metadata": {},
   "outputs": [
    {
     "data": {
      "text/plain": [
       "array([ 1.        ,  1.80472056,  1.67987627,  2.70650409,  2.5740213 ,\n",
       "        9.35066234,  3.29956705,  5.20368605,  3.25513178,  2.79973137,\n",
       "        2.57615507])"
      ]
     },
     "execution_count": 133,
     "metadata": {},
     "output_type": "execute_result"
    }
   ],
   "source": [
    "nuts1_weights = nuts1_pops.sort_values(by='NUTS_ID')['weighting'].values\n",
    "nuts1_weights"
   ]
  },
  {
   "cell_type": "code",
   "execution_count": 6,
   "metadata": {},
   "outputs": [
    {
     "data": {
      "text/plain": [
       "97692"
      ]
     },
     "execution_count": 6,
     "metadata": {},
     "output_type": "execute_result"
    }
   ],
   "source": [
    "len(kinship)"
   ]
  },
  {
   "cell_type": "markdown",
   "metadata": {},
   "source": [
    "#  make ~97k simulated kinship pairs 1000 times?"
   ]
  },
  {
   "cell_type": "code",
   "execution_count": 14,
   "metadata": {},
   "outputs": [
    {
     "name": "stdout",
     "output_type": "stream",
     "text": [
      "(1000, 134)\n",
      "1.0\n"
     ]
    }
   ],
   "source": [
    "# at one point, did a simulated population of 500k people, drawing from nuts3 regions.\n",
    "# each row in simulated pop = fraction of total population in a nuts3 region\n",
    "simpop = np.load('1000sims_500kpop.npy')\n",
    "print(np.shape(simpop))\n",
    "print(np.sum(simpop[0,:]))"
   ]
  },
  {
   "cell_type": "code",
   "execution_count": 7,
   "metadata": {},
   "outputs": [
    {
     "data": {
      "text/plain": [
       "'UKG'"
      ]
     },
     "execution_count": 7,
     "metadata": {},
     "output_type": "execute_result"
    }
   ],
   "source": [
    "# not really what I want\n",
    "# instead, draw two regions based on census probabilities to make a pair, and do this X times\n",
    "# either for nuts1 or nuts3 regions\n",
    "\n",
    "# do nuts1 first\n",
    "nuts1_ids = nuts1_pops.sort_values(by='NUTS_ID')['NUTS_ID'].values\n",
    "nuts1_cf = nuts1_pops.sort_values(by='NUTS_ID')['census_pops'].values / np.sum(nuts1_pops['census_pops'])\n",
    "\n",
    "# to pick one person (region) based on probability\n",
    "np.random.choice(nuts1_ids,replace=True,p=nuts1_cf)"
   ]
  },
  {
   "cell_type": "code",
   "execution_count": 27,
   "metadata": {},
   "outputs": [],
   "source": [
    "# simulate pairs ... takes about 5s for 97k pairs\n",
    "def sim_pairs(nuts_ids,nuts_cf,numPairs):\n",
    "    \n",
    "    sim_regions = np.zeros(2*numPairs)\n",
    "    num_regions = len(nuts_ids)\n",
    "    nuts_indices = np.arange(num_regions)\n",
    "    \n",
    "    # draw indices of nuts regions\n",
    "    for sim in range(2 * numPairs):\n",
    "        sim_regions[sim] = np.random.choice(nuts_indices,replace=True,p=nuts_cf)\n",
    "      \n",
    "    nutsInd = dict(zip(nuts_indices,nuts_ids))\n",
    "    \n",
    "    # convert indices to nuts names\n",
    "    sim_regions = list(sim_regions)\n",
    "    sim_regions = [nutsInd[x] for x in sim_regions]\n",
    "    \n",
    "    # make a dictionary of pair counts\n",
    "    d = {}\n",
    "    for i in np.arange(0,len(sim_regions),2):\n",
    "        pair = sorted([sim_regions[i],sim_regions[i+1]])\n",
    "        k = ','.join(pair)\n",
    "        if k in d.keys():\n",
    "            d[k] += 1\n",
    "        else:\n",
    "            d[k] = 1 \n",
    "\n",
    "    return d, sim_regions"
   ]
  },
  {
   "cell_type": "code",
   "execution_count": 28,
   "metadata": {},
   "outputs": [],
   "source": [
    "def pairdict_to_mat(pairdict,nuts_ids):\n",
    "    num_regions = len(nuts_ids)\n",
    "    m = np.zeros((num_regions,num_regions))\n",
    "    nutsInd = dict(zip(nuts_ids, np.arange(num_regions)))\n",
    "    for k in pairdict.keys():\n",
    "        r1,r2 = k.split(',')\n",
    "        m[nutsInd[r1],nutsInd[r2]] += pairdict[k]\n",
    "    return(m)"
   ]
  },
  {
   "cell_type": "code",
   "execution_count": 29,
   "metadata": {},
   "outputs": [],
   "source": [
    "d, sim_regions = sim_pairs(nuts1_ids,nuts1_cf,len(kinship))"
   ]
  },
  {
   "cell_type": "code",
   "execution_count": 109,
   "metadata": {},
   "outputs": [
    {
     "data": {
      "text/plain": [
       "array([ 0.11272411,  0.16962005,  0.13652991,  0.07270465,  0.09446763,\n",
       "        0.02714265,  0.10753221,  0.07202823,  0.07052835,  0.04749624,\n",
       "        0.08922597])"
      ]
     },
     "execution_count": 109,
     "metadata": {},
     "output_type": "execute_result"
    }
   ],
   "source": [
    "ukb_pops = nuts1_pops.sort_values(by='NUTS_ID')['ukb_points'].values\n",
    "ukb_fracs = ukb_pops / np.sum(ukb_pops)\n",
    "ukb_fracs"
   ]
  },
  {
   "cell_type": "code",
   "execution_count": 110,
   "metadata": {},
   "outputs": [
    {
     "name": "stdout",
     "output_type": "stream",
     "text": [
      "Census fractions\n",
      "UKC 0.0423143159238\n",
      "UKD 0.11490996363\n",
      "UKE 0.0860945448288\n",
      "UKF 0.0738654592838\n",
      "UKG 0.0912779114541\n",
      "UKH 0.095271960139\n",
      "UKI 0.133188292706\n",
      "UKJ 0.140696850043\n",
      "UKK 0.0861792749739\n",
      "UKL 0.0499167281911\n",
      "UKM 0.0862846988275\n",
      "\n",
      "Test cases\n",
      "UKI,UKI 0\n",
      "UKI,UKJ 1287\n",
      "UKJ,UKJ 0\n",
      "\n",
      "Simulated proportions\n",
      "UKC 0.04213241616509028\n",
      "UKD 0.11518343364860992\n",
      "UKE 0.08579003398435901\n",
      "UKF 0.07479629857101912\n",
      "UKG 0.09088768783523728\n",
      "UKH 0.09540699340785325\n",
      "UKI 0.13403349301887565\n",
      "UKJ 0.13929492691315562\n",
      "UKK 0.08713098308971051\n",
      "UKL 0.04884739794456046\n",
      "UKM 0.08649633542152889\n"
     ]
    }
   ],
   "source": [
    "print('Census fractions')\n",
    "for i,id in enumerate(nuts1_ids):\n",
    "    print(id,nuts1_cf[i])\n",
    "# from these probabilities, you would expect UKJ/UKJ to be the most common pair, no?\n",
    "# but it's not . . . UKI/UKJ is most common!?\n",
    "print('\\nTest cases')\n",
    "print('UKI,UKI',d['UKI,UKI'])\n",
    "print('UKI,UKJ',d['UKI,UKJ'])\n",
    "print('UKJ,UKJ',d['UKJ,UKJ'])\n",
    "print('\\nSimulated proportions')\n",
    "c = {}\n",
    "for r in sim_regions:\n",
    "    if r in c.keys():\n",
    "        c[r] += 1\n",
    "    else:\n",
    "        c[r] = 1\n",
    "nuts1_sim_fracs = []        \n",
    "for r in sorted(c.keys()):\n",
    "    print(r,c[r]/float(len(sim_regions)))\n",
    "    nuts1_sim_fracs.append(c[r]/float(len(sim_regions)))"
   ]
  },
  {
   "cell_type": "code",
   "execution_count": 111,
   "metadata": {},
   "outputs": [
    {
     "data": {
      "image/png": "[encoded data removed]",
      "text/plain": [
       "<matplotlib.figure.Figure at 0x113486898>"
      ]
     },
     "metadata": {},
     "output_type": "display_data"
    }
   ],
   "source": [
    "fig, (ax1,ax2) = plt.subplots(1,2,figsize = (14,6), sharex=True, sharey = True )\n",
    "\n",
    "ax1.scatter(nuts1_cf,nuts1_sim_fracs)\n",
    "ax1.set_xlabel('census',fontsize=24)\n",
    "ax1.set_ylabel('simulated',fontsize=24)\n",
    "ax1.set_aspect('equal')\n",
    "\n",
    "ax2.scatter(nuts1_cf,ukb_fracs)\n",
    "ax2.set_xlabel('census',fontsize=24)\n",
    "ax2.set_ylabel('ukb',fontsize=24)\n",
    "ax2.set_aspect('equal')\n",
    "fig.suptitle('Population proportions in nuts1 regions',fontsize=24)\n",
    "\n",
    "plt.show()"
   ]
  },
  {
   "cell_type": "code",
   "execution_count": 46,
   "metadata": {},
   "outputs": [
    {
     "data": {
      "image/png": "[encoded data removed]",
      "text/plain": [
       "<matplotlib.figure.Figure at 0x1133352e8>"
      ]
     },
     "metadata": {},
     "output_type": "display_data"
    }
   ],
   "source": [
    "m = pairdict_to_mat(d,nuts1_ids)\n",
    "fig,ax = plt.subplots(1,1,figsize=(8,8))\n",
    "im=ax.imshow(m,interpolation='nearest')\n",
    "ax.set_xticks(np.arange(np.shape(m)[0]))\n",
    "ax.set_yticks(np.arange(np.shape(m)[0]))\n",
    "ax.set_xticklabels(nuts1_ids,fontsize=12)\n",
    "ax.set_yticklabels(nuts1_ids,fontsize=12)\n",
    "plt.colorbar(im)\n",
    "plt.show()\n",
    "plt.show()"
   ]
  },
  {
   "cell_type": "code",
   "execution_count": 42,
   "metadata": {},
   "outputs": [],
   "source": [
    "def simulate_region_connections(numSims, nuts_ids, nuts_cf, numPairs): \n",
    "    m = np.zeros((len(nuts_ids),len(nuts_ids),numSims))\n",
    "    \n",
    "    for sim in range(numSims):\n",
    "    \n",
    "        d,s = sim_pairs(nuts1_ids,nuts1_cf,numPairs)\n",
    "        m[:,:,sim] = pairdict_to_mat(d,nuts1_ids)\n",
    "        \n",
    "    return m"
   ]
  },
  {
   "cell_type": "code",
   "execution_count": 44,
   "metadata": {},
   "outputs": [],
   "source": [
    "sim_mat = simulate_region_connections(10, nuts1_ids, nuts1_cf, len(kinship))"
   ]
  },
  {
   "cell_type": "code",
   "execution_count": 45,
   "metadata": {},
   "outputs": [
    {
     "data": {
      "image/png": "[encoded data removed]",
      "text/plain": [
       "<matplotlib.figure.Figure at 0x112f0cfd0>"
      ]
     },
     "metadata": {},
     "output_type": "display_data"
    }
   ],
   "source": [
    "## Simulated connections\n",
    "mm = np.mean(sim_mat,2)\n",
    "fig,ax = plt.subplots(1,1,figsize=(8,8))\n",
    "im=ax.imshow(mm,interpolation='nearest')\n",
    "ax.set_xticks(np.arange(np.shape(mm)[0]))\n",
    "ax.set_yticks(np.arange(np.shape(mm)[0]))\n",
    "ax.set_xticklabels(nuts1_ids)\n",
    "ax.set_yticklabels(nuts1_ids)\n",
    "plt.colorbar(im)\n",
    "plt.show()\n",
    "# this is surprising ... why is UKI/UKJ most ... why not UKI UKI? See tests above. I don't know."
   ]
  },
  {
   "cell_type": "code",
   "execution_count": 71,
   "metadata": {},
   "outputs": [
    {
     "name": "stdout",
     "output_type": "stream",
     "text": [
      "(11, 11, 1000)\n"
     ]
    }
   ],
   "source": [
    "print(np.shape(m))"
   ]
  },
  {
   "cell_type": "code",
   "execution_count": 51,
   "metadata": {},
   "outputs": [],
   "source": [
    "# for qgis, want csv:\n",
    "# region1,x1,y1,region2,x2,y2,connections\n",
    "# 1. convert connections matrix to dictionary pair=>count\n",
    "# 2. print out csv\n",
    "\n",
    "# 1. convert connections matrix to dictionary pair=>count\n",
    "def nuts_matrix_to_dict(m, nuts_ids):\n",
    "    nuts_ids = sorted(nuts_ids)\n",
    "    d = {}\n",
    "    for i in np.arange(len(nuts_ids)):\n",
    "        region1 = nuts_ids[i]\n",
    "        for j in np.arange(i,len(nuts_ids)):\n",
    "            region2 = nuts_ids[j]\n",
    "            k = ','.join([region1,region2])\n",
    "            d[k] = m[i,j]\n",
    "    return d"
   ]
  },
  {
   "cell_type": "code",
   "execution_count": 58,
   "metadata": {},
   "outputs": [],
   "source": [
    "nuts1_sim_connections_dict = nuts_matrix_to_dict(m, nuts1_ids)"
   ]
  },
  {
   "cell_type": "code",
   "execution_count": 60,
   "metadata": {},
   "outputs": [
    {
     "name": "stdout",
     "output_type": "stream",
     "text": [
      "Test cases\n",
      "UKI,UKI 1787.0\n",
      "UKI,UKJ 3600.0\n",
      "UKJ,UKJ 1923.0\n"
     ]
    }
   ],
   "source": [
    "print('Test cases') # looks good.\n",
    "print('UKI,UKI',nuts1_sim_connections_dict['UKI,UKI'])\n",
    "print('UKI,UKJ',nuts1_sim_connections_dict['UKI,UKJ'])\n",
    "print('UKJ,UKJ',nuts1_sim_connections_dict['UKJ,UKJ'])"
   ]
  },
  {
   "cell_type": "code",
   "execution_count": 56,
   "metadata": {},
   "outputs": [
    {
     "data": {
      "text/html": [
       "<div>\n",
       "<style scoped>\n",
       "    .dataframe tbody tr th:only-of-type {\n",
       "        vertical-align: middle;\n",
       "    }\n",
       "\n",
       "    .dataframe tbody tr th {\n",
       "        vertical-align: top;\n",
       "    }\n",
       "\n",
       "    .dataframe thead th {\n",
       "        text-align: right;\n",
       "    }\n",
       "</style>\n",
       "<table border=\"1\" class=\"dataframe\">\n",
       "  <thead>\n",
       "    <tr style=\"text-align: right;\">\n",
       "      <th></th>\n",
       "      <th>X</th>\n",
       "      <th>Y</th>\n",
       "      <th>NUTS_ID</th>\n",
       "      <th>NUTS_NAME</th>\n",
       "    </tr>\n",
       "  </thead>\n",
       "  <tbody>\n",
       "    <tr>\n",
       "      <th>0</th>\n",
       "      <td>406294.177291</td>\n",
       "      <td>569223.337055</td>\n",
       "      <td>UKC</td>\n",
       "      <td>North East (England)</td>\n",
       "    </tr>\n",
       "    <tr>\n",
       "      <th>1</th>\n",
       "      <td>353013.792259</td>\n",
       "      <td>461751.668628</td>\n",
       "      <td>UKD</td>\n",
       "      <td>North West (England)</td>\n",
       "    </tr>\n",
       "    <tr>\n",
       "      <th>2</th>\n",
       "      <td>450743.458406</td>\n",
       "      <td>452364.705629</td>\n",
       "      <td>UKE</td>\n",
       "      <td>Yorkshire and the Humber</td>\n",
       "    </tr>\n",
       "    <tr>\n",
       "      <th>3</th>\n",
       "      <td>480296.274210</td>\n",
       "      <td>337095.584610</td>\n",
       "      <td>UKF</td>\n",
       "      <td>East Midlands (England)</td>\n",
       "    </tr>\n",
       "    <tr>\n",
       "      <th>4</th>\n",
       "      <td>381704.551781</td>\n",
       "      <td>286827.770398</td>\n",
       "      <td>UKG</td>\n",
       "      <td>West Midlands (England)</td>\n",
       "    </tr>\n",
       "    <tr>\n",
       "      <th>5</th>\n",
       "      <td>573324.933398</td>\n",
       "      <td>264295.714506</td>\n",
       "      <td>UKH</td>\n",
       "      <td>East of England</td>\n",
       "    </tr>\n",
       "    <tr>\n",
       "      <th>6</th>\n",
       "      <td>531208.767022</td>\n",
       "      <td>179637.217083</td>\n",
       "      <td>UKI</td>\n",
       "      <td>London</td>\n",
       "    </tr>\n",
       "    <tr>\n",
       "      <th>7</th>\n",
       "      <td>502537.538208</td>\n",
       "      <td>154526.856816</td>\n",
       "      <td>UKJ</td>\n",
       "      <td>South East (England)</td>\n",
       "    </tr>\n",
       "    <tr>\n",
       "      <th>8</th>\n",
       "      <td>319488.205729</td>\n",
       "      <td>122922.782698</td>\n",
       "      <td>UKK</td>\n",
       "      <td>South West (England)</td>\n",
       "    </tr>\n",
       "    <tr>\n",
       "      <th>9</th>\n",
       "      <td>279854.826204</td>\n",
       "      <td>271791.586276</td>\n",
       "      <td>UKL</td>\n",
       "      <td>Wales</td>\n",
       "    </tr>\n",
       "    <tr>\n",
       "      <th>10</th>\n",
       "      <td>266438.265670</td>\n",
       "      <td>771276.110331</td>\n",
       "      <td>UKM</td>\n",
       "      <td>Scotland</td>\n",
       "    </tr>\n",
       "    <tr>\n",
       "      <th>11</th>\n",
       "      <td>96947.492392</td>\n",
       "      <td>533933.775531</td>\n",
       "      <td>UKN</td>\n",
       "      <td>Northern Ireland</td>\n",
       "    </tr>\n",
       "  </tbody>\n",
       "</table>\n",
       "</div>"
      ],
      "text/plain": [
       "                X              Y NUTS_ID                 NUTS_NAME\n",
       "0   406294.177291  569223.337055     UKC      North East (England)\n",
       "1   353013.792259  461751.668628     UKD      North West (England)\n",
       "2   450743.458406  452364.705629     UKE  Yorkshire and the Humber\n",
       "3   480296.274210  337095.584610     UKF   East Midlands (England)\n",
       "4   381704.551781  286827.770398     UKG   West Midlands (England)\n",
       "5   573324.933398  264295.714506     UKH           East of England\n",
       "6   531208.767022  179637.217083     UKI                    London\n",
       "7   502537.538208  154526.856816     UKJ      South East (England)\n",
       "8   319488.205729  122922.782698     UKK      South West (England)\n",
       "9   279854.826204  271791.586276     UKL                     Wales\n",
       "10  266438.265670  771276.110331     UKM                  Scotland\n",
       "11   96947.492392  533933.775531     UKN          Northern Ireland"
      ]
     },
     "execution_count": 56,
     "metadata": {},
     "output_type": "execute_result"
    }
   ],
   "source": [
    "nuts1_centroids = pd.read_csv('nuts1_centroids.csv')\n",
    "nuts1_centroids"
   ]
  },
  {
   "cell_type": "code",
   "execution_count": 63,
   "metadata": {},
   "outputs": [],
   "source": [
    "# print to csv\n",
    "def save_connections(fname,d,centroids):\n",
    "    o = open(fname,'w')\n",
    "    o.write('r1,x1,y1,r2,x2,y2,connections\\n')\n",
    "    for pair in sorted(d.keys()):\n",
    "        r1,r2 = pair.split(',')\n",
    "        x1 = centroids[centroids['NUTS_ID']==r1]['X'].values[0]\n",
    "        y1 = centroids[centroids['NUTS_ID']==r1]['Y'].values[0]\n",
    "        x2 = centroids[centroids['NUTS_ID']==r2]['X'].values[0]\n",
    "        y2 = centroids[centroids['NUTS_ID']==r2]['Y'].values[0]\n",
    "        connections = d[pair]\n",
    "        toPrint = [str(x) for x in [r1,x1,y1,r2,x2,y2,connections]]\n",
    "        o.write(','.join(toPrint) + '\\n')        "
   ]
  },
  {
   "cell_type": "code",
   "execution_count": 64,
   "metadata": {},
   "outputs": [],
   "source": [
    "save_connections('nuts1_sim.csv',nuts1_sim_connections_dict,nuts1_centroids)"
   ]
  },
  {
   "cell_type": "code",
   "execution_count": 73,
   "metadata": {},
   "outputs": [
    {
     "name": "stdout",
     "output_type": "stream",
     "text": [
      "108\n",
      "97\n"
     ]
    }
   ],
   "source": [
    "# make dictionary from kinship file of connections between nuts regions\n",
    "\n",
    "# then make matrix to visualize (raw, corrected)\n",
    "\n",
    "# then make csv files for qgis (raw, corrected)\n",
    "id1,id2 = ['UKE','UKL']\n",
    "df1=kinship[kinship['region1'].str.contains(id1)]\n",
    "num12 = len(df1[df1['region2'].str.contains(id2)])\n",
    "print(num12)\n",
    "\n",
    "df2 = kinship[kinship['region1'].str.contains(id2)]\n",
    "num21 = len(df2[df2['region2'].str.contains(id1)])\n",
    "print(num21)\n"
   ]
  },
  {
   "cell_type": "code",
   "execution_count": 134,
   "metadata": {},
   "outputs": [],
   "source": [
    "# make dictionary from kinship file of connections between nuts regions\n",
    "# takes about 10s\n",
    "# wildcard search within columns\n",
    "# kinship[kinship['region1'].str.contains('UKE')].head(2)\n",
    "\n",
    "nuts1_weight_dict = dict(zip(nuts1_ids,nuts1_weights))\n",
    "\n",
    "d = {}\n",
    "for id1 in sorted(nuts1_ids):\n",
    "    for id2 in sorted(nuts1_ids):\n",
    "        k = ','.join(sorted([id1,id2]))\n",
    "        if id1 != id2:\n",
    "            df1=kinship[kinship['region1'].str.contains(id1)]\n",
    "            num12 = len(df1[df1['region2'].str.contains(id2)])\n",
    "            df2 = kinship[kinship['region1'].str.contains(id2)]\n",
    "            num21 = len(df2[df2['region2'].str.contains(id1)])\n",
    "    \n",
    "            # uncorrected\n",
    "            # d[k] = num12 + num21 # uncorrected\n",
    "                            \n",
    "            # corrections & weights for uneven sampling\n",
    "            c1 = nuts1_weight_dict[id1]\n",
    "            c2 = nuts1_weight_dict[id2]\n",
    "            \n",
    "            d[k] = c1 * c2 * (num12 + num21) # corrected\n",
    "                            \n",
    "        else:\n",
    "            df1=kinship[kinship['region1'].str.contains(id1)]\n",
    "            num11 = len(df1[df1['region2'].str.contains(id2)])\n",
    "            \n",
    "            # uncorrected\n",
    "            #d[k] = num11 \n",
    "            \n",
    "            # corrections & weights for uneven sampling\n",
    "            c1 = nuts1_weight_dict[id1]\n",
    "            d[k] = num11 * c1 * c1"
   ]
  },
  {
   "cell_type": "code",
   "execution_count": 136,
   "metadata": {},
   "outputs": [
    {
     "name": "stdout",
     "output_type": "stream",
     "text": [
      "{'UKH,UKH': 34361.91026582077, 'UKH,UKJ': 13088.978114501688, 'UKK,UKM': 1601.6733280076819, 'UKD,UKL': 1783.6146739581791, 'UKF,UKM': 1603.6460731632692, 'UKC,UKJ': 1769.2532583133514, 'UKD,UKM': 1748.1142517160063, 'UKG,UKJ': 4326.3907892729376, 'UKG,UKI': 3864.385917547298, 'UKD,UKI': 3971.8492731607848, 'UKI,UKI': 38061.450970232669, 'UKL,UKM': 771.74201266865964, 'UKE,UKJ': 3330.5300613208024, 'UKC,UKM': 1107.746679849276, 'UKG,UKG': 50102.678611445685, 'UKK,UKK': 67358.027527566956, 'UKC,UKC': 14134.0, 'UKD,UKK': 1909.2460592370014, 'UKD,UKG': 3186.7369700634799, 'UKM,UKM': 39733.174175853135, 'UKG,UKL': 3041.1717746720533, 'UKE,UKI': 3835.6621579486, 'UKF,UKF': 43570.077778053099, 'UKK,UKL': 3800.3272344893007, 'UKD,UKH': 3813.8251708810885, 'UKG,UKK': 2664.4515699298167, 'UKF,UKK': 1585.8049443460409, 'UKF,UKH': 4175.7549671249944, 'UKE,UKK': 1552.9740904127975, 'UKJ,UKK': 8350.7711303719734, 'UKE,UKM': 1614.2029196283047, 'UKI,UKJ': 22097.675519607983, 'UKE,UKL': 964.15647119737491, 'UKJ,UKM': 3472.02507169401, 'UKC,UKK': 729.14951817564895, 'UKE,UKF': 3773.6713553927493, 'UKC,UKE': 1715.1536714666074, 'UKD,UKD': 45940.215137010353, 'UKE,UKG': 2062.5657900554065, 'UKC,UKH': 1991.6910781452568, 'UKC,UKL': 355.56588461324714, 'UKH,UKK': 5265.711394770562, 'UKL,UKL': 26478.438716603992, 'UKG,UKM': 1624.6141135443672, 'UKD,UKF': 2310.3607374435142, 'UKI,UKM': 3459.5799291399335, 'UKF,UKJ': 3140.6868617735709, 'UKD,UKJ': 4160.3012600829015, 'UKE,UKE': 35187.322010260701, 'UKH,UKI': 15796.806328658075, 'UKD,UKE': 2604.2365277091044, 'UKC,UKG': 1039.9046042096122, 'UKC,UKD': 1048.5426479839607, 'UKF,UKG': 2772.7064692048257, 'UKF,UKI': 4224.0279829326937, 'UKC,UKF': 874.20082098142075, 'UKI,UKK': 5542.1111894327978, 'UKG,UKH': 4356.4535250905165, 'UKH,UKL': 2487.0375589559671, 'UKI,UKL': 3251.7412917938623, 'UKC,UKI': 2012.7359012943416, 'UKH,UKM': 2746.1182052352333, 'UKJ,UKL': 2972.0603144742836, 'UKF,UKL': 977.4954897053525, 'UKJ,UKJ': 69212.258886556752, 'UKE,UKH': 3864.1571193508998}\n"
     ]
    }
   ],
   "source": [
    "ukb_nuts1_corrected_connections_dict = d\n",
    "print(ukb_nuts1_corrected_connections_dict)"
   ]
  },
  {
   "cell_type": "code",
   "execution_count": 137,
   "metadata": {},
   "outputs": [],
   "source": [
    "ukb_nuts1_corrected_connections_mat = pairdict_to_mat(ukb_nuts1_corrected_connections_dict,nuts1_ids)"
   ]
  },
  {
   "cell_type": "code",
   "execution_count": 138,
   "metadata": {},
   "outputs": [
    {
     "data": {
      "image/png": "[encoded data removed]",
      "text/plain": [
       "<matplotlib.figure.Figure at 0x1141786a0>"
      ]
     },
     "metadata": {},
     "output_type": "display_data"
    }
   ],
   "source": [
    "## UKB ALL INTERCONNECTIONS (including self)\n",
    "mm = ukb_nuts1_corrected_connections_mat\n",
    "fig,ax = plt.subplots(1,1,figsize=(8,8))\n",
    "im=ax.imshow(mm,interpolation='nearest',cmap='jet')\n",
    "ax.set_xticks(np.arange(np.shape(mm)[0]))\n",
    "ax.set_yticks(np.arange(np.shape(mm)[0]))\n",
    "ax.set_xticklabels(nuts1_ids,fontsize=12)\n",
    "ax.set_yticklabels(nuts1_ids,fontsize=12)\n",
    "plt.colorbar(im)\n",
    "plt.show()"
   ]
  },
  {
   "cell_type": "code",
   "execution_count": 139,
   "metadata": {},
   "outputs": [],
   "source": [
    "save_connections('nuts1_corrected_ukb.csv',ukb_nuts1_corrected_connections_dict,centroids)"
   ]
  },
  {
   "cell_type": "code",
   "execution_count": 140,
   "metadata": {},
   "outputs": [],
   "source": [
    "# clear out region1=region2 in ukb_nuts1_connections_dict dictionary\n",
    "ukb_nuts1_corrected_interconnections_dict = ukb_nuts1_corrected_connections_dict\n",
    "for id in nuts1_ids:\n",
    "    ukb_nuts1_corrected_interconnections_dict[id+','+id] = 0"
   ]
  },
  {
   "cell_type": "code",
   "execution_count": 141,
   "metadata": {},
   "outputs": [
    {
     "name": "stdout",
     "output_type": "stream",
     "text": [
      "{'UKH,UKH': 0, 'UKH,UKJ': 13088.978114501688, 'UKK,UKM': 1601.6733280076819, 'UKD,UKL': 1783.6146739581791, 'UKF,UKM': 1603.6460731632692, 'UKC,UKJ': 1769.2532583133514, 'UKD,UKM': 1748.1142517160063, 'UKG,UKJ': 4326.3907892729376, 'UKG,UKI': 3864.385917547298, 'UKD,UKI': 3971.8492731607848, 'UKI,UKI': 0, 'UKL,UKM': 771.74201266865964, 'UKE,UKJ': 3330.5300613208024, 'UKC,UKM': 1107.746679849276, 'UKG,UKG': 0, 'UKK,UKK': 0, 'UKC,UKC': 0, 'UKD,UKK': 1909.2460592370014, 'UKD,UKG': 3186.7369700634799, 'UKM,UKM': 0, 'UKG,UKL': 3041.1717746720533, 'UKE,UKI': 3835.6621579486, 'UKF,UKF': 0, 'UKK,UKL': 3800.3272344893007, 'UKD,UKH': 3813.8251708810885, 'UKG,UKK': 2664.4515699298167, 'UKF,UKK': 1585.8049443460409, 'UKF,UKH': 4175.7549671249944, 'UKE,UKK': 1552.9740904127975, 'UKJ,UKK': 8350.7711303719734, 'UKE,UKM': 1614.2029196283047, 'UKI,UKJ': 22097.675519607983, 'UKE,UKL': 964.15647119737491, 'UKJ,UKM': 3472.02507169401, 'UKC,UKK': 729.14951817564895, 'UKE,UKF': 3773.6713553927493, 'UKC,UKE': 1715.1536714666074, 'UKD,UKD': 0, 'UKE,UKG': 2062.5657900554065, 'UKC,UKH': 1991.6910781452568, 'UKC,UKL': 355.56588461324714, 'UKH,UKK': 5265.711394770562, 'UKL,UKL': 0, 'UKG,UKM': 1624.6141135443672, 'UKD,UKF': 2310.3607374435142, 'UKI,UKM': 3459.5799291399335, 'UKF,UKJ': 3140.6868617735709, 'UKD,UKJ': 4160.3012600829015, 'UKE,UKE': 0, 'UKH,UKI': 15796.806328658075, 'UKD,UKE': 2604.2365277091044, 'UKC,UKG': 1039.9046042096122, 'UKC,UKD': 1048.5426479839607, 'UKF,UKG': 2772.7064692048257, 'UKF,UKI': 4224.0279829326937, 'UKC,UKF': 874.20082098142075, 'UKI,UKK': 5542.1111894327978, 'UKG,UKH': 4356.4535250905165, 'UKH,UKL': 2487.0375589559671, 'UKI,UKL': 3251.7412917938623, 'UKC,UKI': 2012.7359012943416, 'UKH,UKM': 2746.1182052352333, 'UKJ,UKL': 2972.0603144742836, 'UKF,UKL': 977.4954897053525, 'UKJ,UKJ': 0, 'UKE,UKH': 3864.1571193508998}\n"
     ]
    }
   ],
   "source": [
    "print(ukb_nuts1_corrected_interconnections_dict)\n",
    "ukb_nuts1_corrected_interconnections_mat = pairdict_to_mat(ukb_nuts1_corrected_interconnections_dict,nuts1_ids)"
   ]
  },
  {
   "cell_type": "code",
   "execution_count": 144,
   "metadata": {},
   "outputs": [],
   "source": [
    "np.sum(np.sum(ukb_nuts1_corrected_interconnections_mat))\n",
    "rescale = 21307/192192.09805670148\n",
    "ukb_nuts1_corrected_interconnections_mat = ukb_nuts1_corrected_interconnections_mat * rescale"
   ]
  },
  {
   "cell_type": "code",
   "execution_count": 146,
   "metadata": {},
   "outputs": [
    {
     "name": "stdout",
     "output_type": "stream",
     "text": [
      "21307.0\n"
     ]
    },
    {
     "data": {
      "image/png": "[encoded data removed]",
      "text/plain": [
       "<matplotlib.figure.Figure at 0x112f0c518>"
      ]
     },
     "metadata": {},
     "output_type": "display_data"
    }
   ],
   "source": [
    "## UKB INTERCONNECTIONS\n",
    "mm = ukb_nuts1_corrected_interconnections_mat\n",
    "\n",
    "print(np.sum(np.sum(ukb_nuts1_corrected_interconnections_mat)))\n",
    "fig,ax = plt.subplots(1,1,figsize=(8,8))\n",
    "im=ax.imshow(mm,interpolation='nearest')\n",
    "ax.set_xticks(np.arange(np.shape(mm)[0]))\n",
    "ax.set_yticks(np.arange(np.shape(mm)[0]))\n",
    "ax.set_xticklabels(nuts1_ids)\n",
    "ax.set_yticklabels(nuts1_ids)\n",
    "plt.colorbar(im)\n",
    "plt.show()"
   ]
  },
  {
   "cell_type": "code",
   "execution_count": 147,
   "metadata": {},
   "outputs": [],
   "source": [
    "save_connections('nuts1_corrected_inter_ukb.csv',ukb_nuts1_corrected_interconnections_dict,centroids)"
   ]
  },
  {
   "cell_type": "code",
   "execution_count": 131,
   "metadata": {},
   "outputs": [
    {
     "name": "stdout",
     "output_type": "stream",
     "text": [
      "97692\n",
      "21307.0\n"
     ]
    }
   ],
   "source": [
    "print(len(kinship))\n",
    "print(np.sum(np.sum(ukb_nuts1_interconnections_mat)))"
   ]
  },
  {
   "cell_type": "code",
   "execution_count": null,
   "metadata": {},
   "outputs": [],
   "source": []
  }
 ],
 "metadata": {
  "kernelspec": {
   "display_name": "Python 3",
   "language": "python",
   "name": "python3"
  },
  "language_info": {
   "codemirror_mode": {
    "name": "ipython",
    "version": 3
   },
   "file_extension": ".py",
   "mimetype": "text/x-python",
   "name": "python",
   "nbconvert_exporter": "python",
   "pygments_lexer": "ipython3",
   "version": "3.5.2"
  }
 },
 "nbformat": 4,
 "nbformat_minor": 2
}
