{
 "cells": [
  {
   "cell_type": "code",
   "execution_count": 1,
   "metadata": {},
   "outputs": [],
   "source": [
    "import pandas as pd\n",
    "import numpy as np\n",
    "import matplotlib.pyplot as plt\n",
    "from matplotlib import cm\n",
    "from IPython.display import Image\n",
    "import math\n",
    "import pickle\n",
    "import matplotlib.image as mpimg\n",
    "from matplotlib.gridspec import GridSpec\n",
    "from ukb_functions import *"
   ]
  },
  {
   "cell_type": "markdown",
   "metadata": {},
   "source": [
    "# comparing phenotypes between lists of eids"
   ]
  },
  {
   "cell_type": "code",
   "execution_count": 2,
   "metadata": {},
   "outputs": [],
   "source": [
    "# load phenotype data\n",
    "pheno_cat = pd.read_csv('../00_csv_files/pheno_cat.csv')\n",
    "pheno_strat = pd.read_csv('../00_csv_files/pheno_strat.csv')\n",
    "pheno_int = pd.read_csv('../00_csv_files/pheno_int.csv')\n",
    "pheno_cont = pd.read_csv('../00_csv_files/pheno_cont.csv')\n",
    "pheno_dfs = [pheno_cat, pheno_cont, pheno_int, pheno_strat]"
   ]
  },
  {
   "cell_type": "code",
   "execution_count": 3,
   "metadata": {},
   "outputs": [],
   "source": [
    "movethreshold = 20000\n",
    "pob_por = pd.read_csv('../00_csv_files/pob_por_migration.csv')\n",
    "allStayers, allMovers = get_stayers_movers(pob_por, movethreshold)"
   ]
  },
  {
   "cell_type": "code",
   "execution_count": 5,
   "metadata": {},
   "outputs": [
    {
     "name": "stdout",
     "output_type": "stream",
     "text": [
      "numbers:  245673 194628\n",
      "means:  168.04  169.43\n"
     ]
    },
    {
     "data": {
      "image/png": "[encoded data removed]",
      "text/plain": [
       "<Figure size 360x576 with 1 Axes>"
      ]
     },
     "metadata": {
      "needs_background": "light"
     },
     "output_type": "display_data"
    }
   ],
   "source": [
    "phe = 'Height'\n",
    "plotType = 'big'\n",
    "sm = get_pheno_vector(phe, pheno_dfs, allStayers, allMovers, plotType)"
   ]
  },
  {
   "cell_type": "markdown",
   "metadata": {},
   "source": [
    "### Comparing height in males vs. females"
   ]
  },
  {
   "cell_type": "code",
   "execution_count": 7,
   "metadata": {},
   "outputs": [],
   "source": [
    "females = pheno_cat[pheno_cat.sex == 0].eid.tolist()\n",
    "males = pheno_cat[pheno_cat.sex == 1].eid.tolist()\n",
    "\n",
    "female_stayers = list(set(females) & set(allStayers))\n",
    "female_movers = list(set(females) & set(allMovers))\n",
    "\n",
    "male_stayers = list(set(males) & set(allStayers))\n",
    "male_movers = list(set(males) & set(allMovers))"
   ]
  },
  {
   "cell_type": "code",
   "execution_count": 8,
   "metadata": {},
   "outputs": [
    {
     "name": "stdout",
     "output_type": "stream",
     "text": [
      "numbers:  132083 113590\n",
      "means:  161.94  175.12\n"
     ]
    },
    {
     "data": {
      "image/png": "[encoded data removed]",
      "text/plain": [
       "<Figure size 360x576 with 1 Axes>"
      ]
     },
     "metadata": {
      "needs_background": "light"
     },
     "output_type": "display_data"
    }
   ],
   "source": [
    "sm = get_pheno_vector('Height', pheno_dfs, female_stayers, male_stayers, 'big')"
   ]
  },
  {
   "cell_type": "markdown",
   "metadata": {},
   "source": [
    "## Comparing last generation stayers/movers"
   ]
  },
  {
   "cell_type": "code",
   "execution_count": 58,
   "metadata": {},
   "outputs": [],
   "source": [
    "# load pickled data\n",
    "with open('kinlists_190512.pic','rb') as f:\n",
    "    parents_stayed, parents_moved, sib_parents_stayed, sib_parents_moved, cousins_in_clusters_stayers, outlier_cousins_stayers = pickle.load(f)"
   ]
  },
  {
   "cell_type": "code",
   "execution_count": 59,
   "metadata": {},
   "outputs": [
    {
     "name": "stdout",
     "output_type": "stream",
     "text": [
      "set()\n",
      "set()\n",
      "set()\n"
     ]
    }
   ],
   "source": [
    "print(set(parents_stayed) & set(sib_parents_stayed))\n",
    "print(set(parents_stayed) & set(outlier_cousins_stayers))\n",
    "print(set(sib_parents_stayed) & set(outlier_cousins_stayers)) "
   ]
  },
  {
   "cell_type": "code",
   "execution_count": 60,
   "metadata": {},
   "outputs": [
    {
     "name": "stdout",
     "output_type": "stream",
     "text": [
      "27636\n",
      "1935\n"
     ]
    }
   ],
   "source": [
    "groupedStayers = list(set(parents_stayed + sib_parents_stayed + cousins_in_clusters_stayers))  # 36739\n",
    "#groupedStayers = parents_stayed + sib_parents_stayed # 34700`\n",
    "print(len(groupedStayers))\n",
    "groupedMovers = list(set(parents_moved + sib_parents_moved + outlier_cousins_stayers))  # 5919\n",
    "#groupedMovers = parents_moved + sib_parents_moved # 5867\n",
    "print(len(groupedMovers))"
   ]
  },
  {
   "cell_type": "code",
   "execution_count": 84,
   "metadata": {},
   "outputs": [
    {
     "data": {
      "image/png": "[encoded data removed]",
      "text/plain": [
       "<Figure size 288x432 with 1 Axes>"
      ]
     },
     "metadata": {
      "needs_background": "light"
     },
     "output_type": "display_data"
    },
    {
     "data": {
      "text/plain": [
       "(10.846921458149481, 10.335864978902954, -4.711534800158079, 14731, 1185)"
      ]
     },
     "execution_count": 84,
     "metadata": {},
     "output_type": "execute_result"
    }
   ],
   "source": [
    "get_pheno_vector('Distance between home and job workplace', pheno_type, pheno_dfs, groupedStayers, groupedMovers)"
   ]
  },
  {
   "cell_type": "markdown",
   "metadata": {},
   "source": [
    "### get and save summary data for all phenotypes"
   ]
  },
  {
   "cell_type": "code",
   "execution_count": 67,
   "metadata": {},
   "outputs": [],
   "source": [
    "phenotypes_to_get = [x.rstrip() for x in open('../06_AC_phenotype_matrix_data/phenotypes_to_include_on_matrix.csv').readlines()]\n",
    "\n",
    "# slist, mlist = groupedStayers, groupedMovers\n",
    "# fname = 'lastGenData.npy'\n",
    "\n",
    "slist, mlist = allStayers, allMovers\n",
    "fname = 'allStayersAllMovers.npy'\n",
    "\n",
    "collected_data = np.zeros([len(phenotypes_to_get),5])\n",
    "for i,p in enumerate(phenotypes_to_get):\n",
    "    ms, mm, pdiff, ns, nm = get_pheno_vector(p, pheno_type, pheno_dfs, slist, mlist, False)\n",
    "    collected_data[i,:] = np.array([ms, mm, pdiff, ns, nm])   \n",
    "\n",
    "# save vector ... eventually want to include as a column on the heatmap.\n",
    "np.save('../06_AC_phenotype_matrix_data/' + fname, collected_data)"
   ]
  },
  {
   "cell_type": "markdown",
   "metadata": {},
   "source": [
    "## Compare between more than two lists (containing pairs of stayers, movers)"
   ]
  },
  {
   "cell_type": "code",
   "execution_count": 80,
   "metadata": {},
   "outputs": [
    {
     "name": "stdout",
     "output_type": "stream",
     "text": [
      "308\n",
      "2345 1888 1888\n",
      "503 390 390\n",
      "23233 11851 11851\n",
      "1387 770 770\n",
      "2058 992 992\n",
      "45 25 25\n"
     ]
    }
   ],
   "source": [
    "# collect data for each eidGroup \n",
    "col = 'Distance between home and job workplace'\n",
    "eidGroups = [parents_stayed, parents_moved, sib_parents_stayed, sib_parents_moved,\n",
    "             cousins_in_clusters_stayers, outlier_cousins_stayers]\n",
    "grouplabels = ['pc_stayed','pc_moved','sibp_stayed','sibp_moved',\n",
    "               'cousins_clusters','cousins_outlier']\n",
    "\n",
    "# Make dictionary: eid => phenotype of interest\n",
    "dtype = pheno_type[col]\n",
    "phenodf = pd.read_csv('../00_csv_files/pheno_' + dtype + '.csv')\n",
    "phenotypes = dict(zip(phenodf.eid,phenodf[col]))\n",
    "\n",
    "m_to_plot = []\n",
    "\n",
    "# total number of categories\n",
    "n = np.unique(phenodf[col])\n",
    "n = n[~np.isnan(n)]\n",
    "n = n[np.where(n>=0)]\n",
    "numCats = len(n)\n",
    "print(numCats)\n",
    "\n",
    "# for each eidGroup\n",
    "for g in eidGroups:\n",
    "    # collect data in a column\n",
    "    d = phenodf[phenodf['eid'].isin(g)][col].values\n",
    "    # ... remove NaN\n",
    "    d_with_data = d[~np.isnan(d)] \n",
    "    # ... remove negative numbers\n",
    "    d_pos = d_with_data[np.where(d_with_data>=0)]\n",
    "    \n",
    "    print(len(d),len(d_with_data),len(d_pos))\n",
    "    m_to_plot.append(d_pos)"
   ]
  },
  {
   "cell_type": "code",
   "execution_count": 79,
   "metadata": {},
   "outputs": [
    {
     "name": "stdout",
     "output_type": "stream",
     "text": [
      "numbers:\t 682\t\t169\t\t6695\t\t436\t\t560\t\t16\n"
     ]
    },
    {
     "data": {
      "image/png": "[encoded data removed]",
      "text/plain": [
       "<Figure size 1152x432 with 2 Axes>"
      ]
     },
     "metadata": {
      "needs_background": "light"
     },
     "output_type": "display_data"
    }
   ],
   "source": [
    "# PLOT: categorized or stratified data: stacked bars of percentages\n",
    "\n",
    "f = plt.figure(figsize=(16,6))\n",
    "gs = GridSpec(1, 20, figure=f)\n",
    "ax = f.add_subplot(gs[:,:15])\n",
    "ax2 = f.add_subplot(gs[:,15:])  \n",
    "\n",
    "plotVals = []\n",
    "cols = get_ncolors_from_cmap(numCats,colormap='jet')\n",
    "\n",
    "table_for_stats = []\n",
    "\n",
    "for i,m in enumerate(m_to_plot):\n",
    "    labels, counts = np.unique(m, return_counts=True)\n",
    "    percentages = [x/np.sum(counts)*100 for x in counts]\n",
    "    table_for_stats.append(counts)\n",
    "    bot = 0\n",
    "    for j,p in enumerate(percentages):\n",
    "        ax.bar(i+1, p , align='center', bottom=bot, color=cols[j])\n",
    "        bot = bot + p\n",
    "\n",
    "ax.set_ylabel('percentage',fontsize=12)\n",
    "ax.set_xticks(np.arange(len(grouplabels))+1)\n",
    "ax.set_xticklabels(grouplabels,fontsize=12)\n",
    "ax.set_title(col,fontsize=16)\n",
    "\n",
    "fname = col + '.png'\n",
    "#fname = 'Leisure social activities.png'\n",
    "img=mpimg.imread('../05_pheno_codes/' + fname)\n",
    "ax2.imshow(img)\n",
    "ax2.set_axis_off()\n",
    "\n",
    "print('numbers:\\t','\\t\\t'.join(str(y) for y in [len(x) for x in m_to_plot]))\n",
    "\n",
    "plt.show()"
   ]
  },
  {
   "cell_type": "code",
   "execution_count": 81,
   "metadata": {},
   "outputs": [
    {
     "name": "stdout",
     "output_type": "stream",
     "text": [
      "numbers:  1888\t\t390\t\t11851\t\t770\t\t992\t\t25\n",
      "means:    13.34\t\t10.07\t\t10.26\t\t10.22\t\t13.17\t\t17.96\n"
     ]
    },
    {
     "data": {
      "image/png": "[encoded data removed]",
      "text/plain": [
       "<Figure size 864x432 with 1 Axes>"
      ]
     },
     "metadata": {
      "needs_background": "light"
     },
     "output_type": "display_data"
    }
   ],
   "source": [
    "# PLOT: integer or continuous data:  boxplots (or violinplots)\n",
    "fig, ax = plt.subplots(1,1,figsize=(12,6))\n",
    "\n",
    "ax.boxplot(m_to_plot,showfliers=False)\n",
    "#ax.boxplot(m_to_plot)\n",
    "#ax.violinplot(m_to_plot)\n",
    "\n",
    "ax.set_ylabel('percentage',fontsize=12)\n",
    "ax.set_xticks(np.arange(len(grouplabels))+1)\n",
    "ax.set_xticklabels(grouplabels,fontsize=12)\n",
    "ax.set_title(col,fontsize=16)\n",
    "\n",
    "print('numbers: ','\\t\\t'.join(str(y) for y in [len(x) for x in m_to_plot]))\n",
    "print('means:   ','\\t\\t'.join(['{:01.2f}'.format(y) for y in [np.mean(x) for x in m_to_plot]]))\n",
    "\n",
    "plt.show()"
   ]
  },
  {
   "cell_type": "markdown",
   "metadata": {},
   "source": [
    "## Classifying last generation movers/stayers inferred from parent_child, sibs, cousins"
   ]
  },
  {
   "cell_type": "code",
   "execution_count": 2,
   "metadata": {},
   "outputs": [],
   "source": [
    "# load stuff\n",
    "# parent_child\n",
    "kinship = pd.read_csv('../00_csv_files/kinship_data.csv')\n",
    "kinship_1degree = kinship[kinship['Kinship'].between(0.17, 0.35)]\n",
    "parent_child = kinship_1degree[kinship_1degree['IBS0'].between(0, 0.001)]\n",
    "\n",
    "# cousins\n",
    "cousins = pd.read_csv('../00_csv_files/reciprocal_clusters_3.csv')\n",
    "# POB-POR distances\n",
    "pob_por_migration = pd.read_csv('../00_csv_files/pob_por_migration.csv')"
   ]
  },
  {
   "cell_type": "markdown",
   "metadata": {},
   "source": [
    "### Parent-oldest kid:\n",
    "  * Start with parent_child = all pairs from kinship\n",
    "  * reorder columns so that parents are first => save as .csv parent_child_pairs.csv\n",
    "  * only keep the parent_oldest_child pairs => save as .csv parent_oldest_child_pairs.csv\n",
    "  * Of these, find kids who DIDN’T move. \n",
    "  * Of these, divide into Parents Moved vs. Parents Stayed\n",
    "  * Hypothesis parents-moved = better off"
   ]
  },
  {
   "cell_type": "code",
   "execution_count": 3,
   "metadata": {},
   "outputs": [
    {
     "data": {
      "text/html": [
       "<div>\n",
       "<style scoped>\n",
       "    .dataframe tbody tr th:only-of-type {\n",
       "        vertical-align: middle;\n",
       "    }\n",
       "\n",
       "    .dataframe tbody tr th {\n",
       "        vertical-align: top;\n",
       "    }\n",
       "\n",
       "    .dataframe thead th {\n",
       "        text-align: right;\n",
       "    }\n",
       "</style>\n",
       "<table border=\"1\" class=\"dataframe\">\n",
       "  <thead>\n",
       "    <tr style=\"text-align: right;\">\n",
       "      <th></th>\n",
       "      <th>uniqID</th>\n",
       "      <th>ID1</th>\n",
       "      <th>DOB_id1</th>\n",
       "      <th>ID2</th>\n",
       "      <th>DOB_id2</th>\n",
       "      <th>HetHet</th>\n",
       "      <th>IBS0</th>\n",
       "      <th>Kinship</th>\n",
       "      <th>POB_distance</th>\n",
       "      <th>POR_distance</th>\n",
       "    </tr>\n",
       "  </thead>\n",
       "  <tbody>\n",
       "    <tr>\n",
       "      <th>346</th>\n",
       "      <td>rel26</td>\n",
       "      <td>1001138</td>\n",
       "      <td>1966</td>\n",
       "      <td>5723574</td>\n",
       "      <td>1940</td>\n",
       "      <td>0.067</td>\n",
       "      <td>0.0001</td>\n",
       "      <td>0.2465</td>\n",
       "      <td>0.000000</td>\n",
       "      <td>0.000000</td>\n",
       "    </tr>\n",
       "    <tr>\n",
       "      <th>377</th>\n",
       "      <td>rel49</td>\n",
       "      <td>1002195</td>\n",
       "      <td>1962</td>\n",
       "      <td>5556470</td>\n",
       "      <td>1937</td>\n",
       "      <td>0.066</td>\n",
       "      <td>0.0000</td>\n",
       "      <td>0.2465</td>\n",
       "      <td>9848.857802</td>\n",
       "      <td>54424.259297</td>\n",
       "    </tr>\n",
       "    <tr>\n",
       "      <th>398</th>\n",
       "      <td>rel65</td>\n",
       "      <td>1003047</td>\n",
       "      <td>1944</td>\n",
       "      <td>4606394</td>\n",
       "      <td>1963</td>\n",
       "      <td>0.065</td>\n",
       "      <td>0.0000</td>\n",
       "      <td>0.2461</td>\n",
       "      <td>0.000000</td>\n",
       "      <td>7071.067812</td>\n",
       "    </tr>\n",
       "  </tbody>\n",
       "</table>\n",
       "</div>"
      ],
      "text/plain": [
       "    uniqID      ID1  DOB_id1      ID2  DOB_id2  HetHet    IBS0  Kinship  \\\n",
       "346  rel26  1001138     1966  5723574     1940   0.067  0.0001   0.2465   \n",
       "377  rel49  1002195     1962  5556470     1937   0.066  0.0000   0.2465   \n",
       "398  rel65  1003047     1944  4606394     1963   0.065  0.0000   0.2461   \n",
       "\n",
       "     POB_distance  POR_distance  \n",
       "346      0.000000      0.000000  \n",
       "377   9848.857802  54424.259297  \n",
       "398      0.000000   7071.067812  "
      ]
     },
     "execution_count": 3,
     "metadata": {},
     "output_type": "execute_result"
    }
   ],
   "source": [
    "parent_child.head(3)"
   ]
  },
  {
   "cell_type": "code",
   "execution_count": 4,
   "metadata": {},
   "outputs": [],
   "source": [
    "# re-order parent_child so that parents are first, children are second\n",
    "# save in new df = parent_child_pairs\n",
    "# save new df as parent_child_pairs.csv\n",
    "# o = open('tmp.csv','w')\n",
    "# cols = ['parent','DOB_parent','Child','DOB_child','HetHet','IBS0','Kinship','POB_distance','POR_distance']\n",
    "# o.write(','.join(cols) + '\\n')\n",
    "# for i,row in parent_child.iterrows():\n",
    "#     r = row.tolist()\n",
    "#     if r[2] > r[4]:\n",
    "#         dob1 = r[4]\n",
    "#         id1 = r[3]\n",
    "#         dob2 = r[2]\n",
    "#         id2 = r[1]\n",
    "#         r[1] = id1\n",
    "#         r[2] = dob1\n",
    "#         r[3] = id2\n",
    "#         r[4] = dob2\n",
    "#     o.write(','.join([str(x) for x in r[1:]]) + '\\n')\n",
    "# o.close()\n",
    "# parent_child_pairs = pd.read_csv('tmp.csv')\n",
    "# !rm tmp.csv\n",
    "# parent_child_pairs.to_csv('../00_csv_files/parent_child_pairs.csv',index=False)\n",
    "# parent_child_pairs.head(5)"
   ]
  },
  {
   "cell_type": "code",
   "execution_count": 5,
   "metadata": {},
   "outputs": [],
   "source": [
    "# only keep the parent_oldest_child pairs => save as .csv parent_oldest_child_pairs.csv\n",
    "# cols = parent_child_pairs.columns.tolist()\n",
    "# info = {}\n",
    "# o = open('tmp.csv','w')\n",
    "# o.write(','.join(cols) + '\\n')\n",
    "# for i,row in parent_child_pairs.iterrows():\n",
    "#     r = row.tolist()\n",
    "#     if r[0] in info.keys():\n",
    "#         if r[3] < info[r[0]][3]:\n",
    "#             info[r[0]] = r\n",
    "#     else:\n",
    "#         info[r[0]] = r\n",
    "\n",
    "# for parent in sorted(info.keys()):\n",
    "#     o.write(','.join([str(x) for x in info[parent]]) + '\\n')\n",
    "\n",
    "# parent_oldest_child_pairs = pd.read_csv('tmp.csv')\n",
    "# !rm tmp.csv\n",
    "# parent_oldest_child_pairs.to_csv('../00_csv_files/parent_oldest_child_pairs.csv',index=False)\n",
    "# o.close()\n",
    "# print(len(parent_child_pairs),len(parent_oldest_child_pairs))\n",
    "# parent_oldest_child_pairs.head(5)"
   ]
  },
  {
   "cell_type": "code",
   "execution_count": 6,
   "metadata": {},
   "outputs": [],
   "source": [
    "# multiple_parents = parent_oldest_child_pairs[parent_oldest_child_pairs.duplicated(subset='Child',keep=False)].sort_values(by='Child')\n",
    "# print(len(multiple_parents))\n",
    "# multiple_parents.head(8)"
   ]
  },
  {
   "cell_type": "code",
   "execution_count": 7,
   "metadata": {},
   "outputs": [
    {
     "data": {
      "image/png": "[encoded data removed]",
      "text/plain": [
       "<Figure size 720x360 with 1 Axes>"
      ]
     },
     "metadata": {
      "needs_background": "light"
     },
     "output_type": "display_data"
    }
   ],
   "source": [
    "f,a = plt.subplots(1,1,figsize=(10,5))\n",
    "parent_oldest_child_pairs = pd.read_csv('../00_csv_files/parent_oldest_child_pairs.csv')\n",
    "a.hist(parent_oldest_child_pairs['POB_distance']/1000, 1000, density=True, histtype='step', cumulative=True, color='k', linewidth = 2)\n",
    "a.set_xlim([-10,400])\n",
    "a.set_xlabel('POB distance from parent to oldest child (km)',fontsize=24)\n",
    "a.set_ylabel('Proportion of samples',fontsize=24)\n",
    "a.tick_params(axis='both', which='major', labelsize=12)\n",
    "a.plot([20,20],[0,1],'--b')\n",
    "plt.show()"
   ]
  },
  {
   "cell_type": "code",
   "execution_count": 8,
   "metadata": {},
   "outputs": [],
   "source": [
    "# what to do with children with more than one parent?\n",
    "# if both parents moved: keep one parent\n",
    "# if one parent moved, and one parent stayed: REMOVE from analysis\n",
    "# if both parents stayed: keep one parent.\n",
    "\n",
    "# pob_por_dist = dict(zip(pob_por_migration.eid,pob_por_migration.distances))\n",
    "\n",
    "# children = multiple_parents.Child.tolist()\n",
    "# parents = multiple_parents.parent.tolist()\n",
    "\n",
    "# two_parents = {}\n",
    "\n",
    "# moveThreshold = 20000 \n",
    "\n",
    "# for i,c in enumerate(children):\n",
    "#     p = parents[i]\n",
    "#     sp = str(p).split('.')[0]\n",
    "#     if pob_por_dist[p] > moveThreshold:\n",
    "#         sp += '_m' # moved\n",
    "#     else:\n",
    "#         sp += '_s' # stayed\n",
    "#     if c in two_parents.keys():\n",
    "#         two_parents[c].append(sp)\n",
    "#     else:\n",
    "#         two_parents[c] = [sp]\n",
    "\n",
    "# # make list of parents to remove\n",
    "# # make two_parents dict: kid => [p1_m,p2_s] OR [p1_m,p2_m] OR [p1_s,p2_s]\n",
    "# # through dictionary: \n",
    "# #    if value = [_m and _s] add both parents to remove list\n",
    "# #    if vlaue = [_m and _m] add first parent to remove list\n",
    "\n",
    "# def parse_parentType(s):\n",
    "#     p,psm = s.split('_')\n",
    "#     return int(p), psm\n",
    "\n",
    "# parents_to_remove = []        \n",
    "# for c in two_parents.keys():\n",
    "#     parent1, parent1_stay_move = parse_parentType(two_parents[c][0])\n",
    "#     parent2, parent2_stay_move = parse_parentType(two_parents[c][1])\n",
    "#     if parent1_stay_move != parent2_stay_move:\n",
    "#         parents_to_remove.extend([parent1,parent2])\n",
    "#     else:\n",
    "#         parents_to_remove.append(parent1)\n",
    "\n",
    "# # make new df with removed parents dropped\n",
    "# i_to_remove = parent_oldest_child_pairs[parent_oldest_child_pairs.parent.isin(parents_to_remove)].index.tolist()\n",
    "# print(len(i_to_remove))\n",
    "\n",
    "# parent_oldestChild_pairs_nr = parent_oldest_child_pairs.drop(index=i_to_remove)\n",
    "# print(len(parent_oldest_child_pairs)-len(parent_oldestChild_pairs_nr))\n",
    "# parent_oldestChild_pairs_nr.to_csv('../00_csv_files/parent_oldestChild_pairs_nr.csv',index=False)"
   ]
  },
  {
   "cell_type": "code",
   "execution_count": 9,
   "metadata": {},
   "outputs": [
    {
     "name": "stdout",
     "output_type": "stream",
     "text": [
      "4236\n"
     ]
    },
    {
     "data": {
      "text/html": [
       "<div>\n",
       "<style scoped>\n",
       "    .dataframe tbody tr th:only-of-type {\n",
       "        vertical-align: middle;\n",
       "    }\n",
       "\n",
       "    .dataframe tbody tr th {\n",
       "        vertical-align: top;\n",
       "    }\n",
       "\n",
       "    .dataframe thead th {\n",
       "        text-align: right;\n",
       "    }\n",
       "</style>\n",
       "<table border=\"1\" class=\"dataframe\">\n",
       "  <thead>\n",
       "    <tr style=\"text-align: right;\">\n",
       "      <th></th>\n",
       "      <th>parent</th>\n",
       "      <th>DOB_parent</th>\n",
       "      <th>Child</th>\n",
       "      <th>DOB_child</th>\n",
       "      <th>HetHet</th>\n",
       "      <th>IBS0</th>\n",
       "      <th>Kinship</th>\n",
       "      <th>POB_distance</th>\n",
       "      <th>POR_distance</th>\n",
       "    </tr>\n",
       "  </thead>\n",
       "  <tbody>\n",
       "    <tr>\n",
       "      <th>0</th>\n",
       "      <td>1003047.0</td>\n",
       "      <td>1944.0</td>\n",
       "      <td>4606394.0</td>\n",
       "      <td>1963.0</td>\n",
       "      <td>0.065</td>\n",
       "      <td>0.0000</td>\n",
       "      <td>0.2461</td>\n",
       "      <td>0.000000</td>\n",
       "      <td>7071.067812</td>\n",
       "    </tr>\n",
       "    <tr>\n",
       "      <th>1</th>\n",
       "      <td>1003050.0</td>\n",
       "      <td>1937.0</td>\n",
       "      <td>2464947.0</td>\n",
       "      <td>1968.0</td>\n",
       "      <td>0.065</td>\n",
       "      <td>0.0001</td>\n",
       "      <td>0.2459</td>\n",
       "      <td>283028.267140</td>\n",
       "      <td>82855.295546</td>\n",
       "    </tr>\n",
       "    <tr>\n",
       "      <th>2</th>\n",
       "      <td>1003827.0</td>\n",
       "      <td>1940.0</td>\n",
       "      <td>1243359.0</td>\n",
       "      <td>1963.0</td>\n",
       "      <td>0.066</td>\n",
       "      <td>0.0001</td>\n",
       "      <td>0.2473</td>\n",
       "      <td>8485.281374</td>\n",
       "      <td>1414.213562</td>\n",
       "    </tr>\n",
       "    <tr>\n",
       "      <th>3</th>\n",
       "      <td>1005248.0</td>\n",
       "      <td>1940.0</td>\n",
       "      <td>2256925.0</td>\n",
       "      <td>1965.0</td>\n",
       "      <td>0.067</td>\n",
       "      <td>0.0001</td>\n",
       "      <td>0.2468</td>\n",
       "      <td>21260.291625</td>\n",
       "      <td>1000.000000</td>\n",
       "    </tr>\n",
       "    <tr>\n",
       "      <th>4</th>\n",
       "      <td>1006118.0</td>\n",
       "      <td>1940.0</td>\n",
       "      <td>5346915.0</td>\n",
       "      <td>1966.0</td>\n",
       "      <td>0.068</td>\n",
       "      <td>0.0001</td>\n",
       "      <td>0.2483</td>\n",
       "      <td>23345.235060</td>\n",
       "      <td>7280.109889</td>\n",
       "    </tr>\n",
       "  </tbody>\n",
       "</table>\n",
       "</div>"
      ],
      "text/plain": [
       "      parent  DOB_parent      Child  DOB_child  HetHet    IBS0  Kinship  \\\n",
       "0  1003047.0      1944.0  4606394.0     1963.0   0.065  0.0000   0.2461   \n",
       "1  1003050.0      1937.0  2464947.0     1968.0   0.065  0.0001   0.2459   \n",
       "2  1003827.0      1940.0  1243359.0     1963.0   0.066  0.0001   0.2473   \n",
       "3  1005248.0      1940.0  2256925.0     1965.0   0.067  0.0001   0.2468   \n",
       "4  1006118.0      1940.0  5346915.0     1966.0   0.068  0.0001   0.2483   \n",
       "\n",
       "    POB_distance  POR_distance  \n",
       "0       0.000000   7071.067812  \n",
       "1  283028.267140  82855.295546  \n",
       "2    8485.281374   1414.213562  \n",
       "3   21260.291625   1000.000000  \n",
       "4   23345.235060   7280.109889  "
      ]
     },
     "execution_count": 9,
     "metadata": {},
     "output_type": "execute_result"
    }
   ],
   "source": [
    "# load dataframe where 1 parent, 1 oldest child\n",
    "parent_oldestChild_pairs_nr = pd.read_csv('../00_csv_files/parent_oldestChild_pairs_nr.csv')\n",
    "print(len(parent_oldestChild_pairs_nr))\n",
    "parent_oldestChild_pairs_nr.head(5)"
   ]
  },
  {
   "cell_type": "code",
   "execution_count": 10,
   "metadata": {},
   "outputs": [
    {
     "name": "stdout",
     "output_type": "stream",
     "text": [
      "2848\n"
     ]
    },
    {
     "data": {
      "text/html": [
       "<div>\n",
       "<style scoped>\n",
       "    .dataframe tbody tr th:only-of-type {\n",
       "        vertical-align: middle;\n",
       "    }\n",
       "\n",
       "    .dataframe tbody tr th {\n",
       "        vertical-align: top;\n",
       "    }\n",
       "\n",
       "    .dataframe thead th {\n",
       "        text-align: right;\n",
       "    }\n",
       "</style>\n",
       "<table border=\"1\" class=\"dataframe\">\n",
       "  <thead>\n",
       "    <tr style=\"text-align: right;\">\n",
       "      <th></th>\n",
       "      <th>parent</th>\n",
       "      <th>DOB_parent</th>\n",
       "      <th>Child</th>\n",
       "      <th>DOB_child</th>\n",
       "      <th>HetHet</th>\n",
       "      <th>IBS0</th>\n",
       "      <th>Kinship</th>\n",
       "      <th>POB_distance</th>\n",
       "      <th>POR_distance</th>\n",
       "    </tr>\n",
       "  </thead>\n",
       "  <tbody>\n",
       "    <tr>\n",
       "      <th>0</th>\n",
       "      <td>1003047.0</td>\n",
       "      <td>1944.0</td>\n",
       "      <td>4606394.0</td>\n",
       "      <td>1963.0</td>\n",
       "      <td>0.065</td>\n",
       "      <td>0.0000</td>\n",
       "      <td>0.2461</td>\n",
       "      <td>0.000000</td>\n",
       "      <td>7071.067812</td>\n",
       "    </tr>\n",
       "    <tr>\n",
       "      <th>1</th>\n",
       "      <td>1003050.0</td>\n",
       "      <td>1937.0</td>\n",
       "      <td>2464947.0</td>\n",
       "      <td>1968.0</td>\n",
       "      <td>0.065</td>\n",
       "      <td>0.0001</td>\n",
       "      <td>0.2459</td>\n",
       "      <td>283028.267140</td>\n",
       "      <td>82855.295546</td>\n",
       "    </tr>\n",
       "    <tr>\n",
       "      <th>2</th>\n",
       "      <td>1003827.0</td>\n",
       "      <td>1940.0</td>\n",
       "      <td>1243359.0</td>\n",
       "      <td>1963.0</td>\n",
       "      <td>0.066</td>\n",
       "      <td>0.0001</td>\n",
       "      <td>0.2473</td>\n",
       "      <td>8485.281374</td>\n",
       "      <td>1414.213562</td>\n",
       "    </tr>\n",
       "    <tr>\n",
       "      <th>4</th>\n",
       "      <td>1006118.0</td>\n",
       "      <td>1940.0</td>\n",
       "      <td>5346915.0</td>\n",
       "      <td>1966.0</td>\n",
       "      <td>0.068</td>\n",
       "      <td>0.0001</td>\n",
       "      <td>0.2483</td>\n",
       "      <td>23345.235060</td>\n",
       "      <td>7280.109889</td>\n",
       "    </tr>\n",
       "    <tr>\n",
       "      <th>6</th>\n",
       "      <td>1006192.0</td>\n",
       "      <td>1938.0</td>\n",
       "      <td>2565124.0</td>\n",
       "      <td>1958.0</td>\n",
       "      <td>0.067</td>\n",
       "      <td>0.0000</td>\n",
       "      <td>0.2513</td>\n",
       "      <td>7000.000000</td>\n",
       "      <td>0.000000</td>\n",
       "    </tr>\n",
       "  </tbody>\n",
       "</table>\n",
       "</div>"
      ],
      "text/plain": [
       "      parent  DOB_parent      Child  DOB_child  HetHet    IBS0  Kinship  \\\n",
       "0  1003047.0      1944.0  4606394.0     1963.0   0.065  0.0000   0.2461   \n",
       "1  1003050.0      1937.0  2464947.0     1968.0   0.065  0.0001   0.2459   \n",
       "2  1003827.0      1940.0  1243359.0     1963.0   0.066  0.0001   0.2473   \n",
       "4  1006118.0      1940.0  5346915.0     1966.0   0.068  0.0001   0.2483   \n",
       "6  1006192.0      1938.0  2565124.0     1958.0   0.067  0.0000   0.2513   \n",
       "\n",
       "    POB_distance  POR_distance  \n",
       "0       0.000000   7071.067812  \n",
       "1  283028.267140  82855.295546  \n",
       "2    8485.281374   1414.213562  \n",
       "4   23345.235060   7280.109889  \n",
       "6    7000.000000      0.000000  "
      ]
     },
     "execution_count": 10,
     "metadata": {},
     "output_type": "execute_result"
    }
   ],
   "source": [
    "# find the kids that didn't move POB-POR\n",
    "moveThreshold = 20000\n",
    "stayers = pob_por_migration[pob_por_migration.distances < moveThreshold].eid.tolist()\n",
    "movers = pob_por_migration[pob_por_migration.distances >= moveThreshold].eid.tolist()\n",
    "kids_that_stayed = parent_oldestChild_pairs_nr[parent_oldestChild_pairs_nr.Child.isin(stayers)]\n",
    "print(len(kids_that_stayed))\n",
    "kids_that_stayed.head(5)"
   ]
  },
  {
   "cell_type": "code",
   "execution_count": 11,
   "metadata": {},
   "outputs": [
    {
     "name": "stdout",
     "output_type": "stream",
     "text": [
      "parents moved:  503 , parents_stayed:  2345\n"
     ]
    }
   ],
   "source": [
    "# divide kids_that_stayed into parent_moved & parent_stayed (list of eids for kids)\n",
    "moveThreshold = 20000\n",
    "parents_moved = kids_that_stayed[kids_that_stayed.POB_distance >= moveThreshold].Child.tolist()\n",
    "parents_stayed = kids_that_stayed[kids_that_stayed.POB_distance < moveThreshold].Child.tolist()\n",
    "print('parents moved: ', len(parents_moved), ', parents_stayed: ',len(parents_stayed))"
   ]
  },
  {
   "cell_type": "code",
   "execution_count": 12,
   "metadata": {},
   "outputs": [
    {
     "data": {
      "text/plain": [
       "set()"
      ]
     },
     "execution_count": 12,
     "metadata": {},
     "output_type": "execute_result"
    }
   ],
   "source": [
    "set(parents_moved) & set(parents_stayed)"
   ]
  },
  {
   "cell_type": "code",
   "execution_count": 13,
   "metadata": {},
   "outputs": [],
   "source": [
    "# To recap: I have kids that stayed (POB to POR)\n",
    "# ... and divided them into two groups: those where the parents moved or stayed (POB to POR)\n",
    "# now we can compare phenotypes! between the two groups. See bottom of this Notebook"
   ]
  },
  {
   "cell_type": "markdown",
   "metadata": {},
   "source": [
    "### Sibs: \n",
    "  * Load from uniq_sib_clusters_190429.pic\n",
    "  * find sibs where parents NOT in dataset\n",
    "  * Divide into parents moved (sib POB > 20km) vs. parents didn’t move (sib POB < 20km)\n",
    "  * Hypothesis: parents-moved = better off"
   ]
  },
  {
   "cell_type": "code",
   "execution_count": 14,
   "metadata": {},
   "outputs": [],
   "source": [
    "with open('uniq_sib_clusters_190429.pic', 'rb') as f:\n",
    "    sibs = pickle.load(f)\n",
    "parent_child_pairs = pd.read_csv('../00_csv_files/parent_child_pairs.csv')\n",
    "chidren_with_parents_set = set(parent_child_pairs.Child.tolist())"
   ]
  },
  {
   "cell_type": "code",
   "execution_count": 15,
   "metadata": {},
   "outputs": [
    {
     "name": "stdout",
     "output_type": "stream",
     "text": [
      "18516 18330\n"
     ]
    }
   ],
   "source": [
    "# go through sibs and remove groups where one or more member is in 'child' of parent_child_pairs\n",
    "sibs_no_parents = []\n",
    "for sgroup in sibs:\n",
    "    sibset = set([int(x) for x in sgroup.split(',')])\n",
    "    if len(sibset & chidren_with_parents_set) == 0:\n",
    "        sibs_no_parents.append(sgroup)\n",
    "print(len(sibs), len(sibs_no_parents))"
   ]
  },
  {
   "cell_type": "code",
   "execution_count": 17,
   "metadata": {},
   "outputs": [],
   "source": [
    "# go through each sib group and determine if parents MOVED or not\n",
    "# get POB each sib, get all pairwise distances\n",
    "# add all distances ... mover if > moveThreshold\n",
    "pobE = dict(zip(pob_por_migration.eid,pob_por_migration.POB_east))\n",
    "pobN = dict(zip(pob_por_migration.eid,pob_por_migration.POB_north))"
   ]
  },
  {
   "cell_type": "code",
   "execution_count": 18,
   "metadata": {},
   "outputs": [
    {
     "name": "stdout",
     "output_type": "stream",
     "text": [
      "parents moved:  5364 , parents_stayed:  32355\n"
     ]
    }
   ],
   "source": [
    "sib_parents_moved = []\n",
    "sib_parents_stayed = []\n",
    "moveThreshold = 20000\n",
    "for sgroup in sibs_no_parents:\n",
    "    s = [int(x) for x in sgroup.split(',')]\n",
    "    totalDist = 0\n",
    "    coords = [(pobE[eid],pobN[eid]) for eid in s if eid in pobE.keys()]\n",
    "    for i, point in enumerate(coords[:-1]):\n",
    "        totalDist += dist_between_points(point, coords[i+1])\n",
    "    if totalDist > moveThreshold:\n",
    "        sib_parents_moved.extend(s)\n",
    "    else:\n",
    "        sib_parents_stayed.extend(s)\n",
    "print('parents moved: ', len(sib_parents_moved), ', parents_stayed: ',len(sib_parents_stayed))"
   ]
  },
  {
   "cell_type": "code",
   "execution_count": 19,
   "metadata": {},
   "outputs": [
    {
     "name": "stdout",
     "output_type": "stream",
     "text": [
      "parents moved:  1387  stayers,  3976  movers.\n",
      "parents stayed:  23233  stayers,  9084  movers.\n"
     ]
    }
   ],
   "source": [
    "moveThreshold = 20000\n",
    "pob_por_movers = pob_por_migration[pob_por_migration.distances > moveThreshold].eid.tolist()\n",
    "pob_por_stayers = pob_por_migration[pob_por_migration.distances <= moveThreshold].eid.tolist()\n",
    "sib_stayed_parents_stayed = list(set(sib_parents_stayed) & set(pob_por_stayers))\n",
    "sib_stayed_parents_moved = list(set(sib_parents_moved) & set(pob_por_stayers))\n",
    "sib_moved_parents_stayed = list(set(sib_parents_stayed) & set(pob_por_movers))\n",
    "sib_moved_parents_moved = list(set(sib_parents_moved) & set(pob_por_movers))\n",
    "print('parents moved: ', len(sib_stayed_parents_moved), ' stayers, ', len(sib_moved_parents_moved), ' movers.')\n",
    "print('parents stayed: ', len(sib_stayed_parents_stayed), ' stayers, ', len(sib_moved_parents_stayed), ' movers.')"
   ]
  },
  {
   "cell_type": "code",
   "execution_count": 34,
   "metadata": {},
   "outputs": [],
   "source": [
    "# # filter each of these lists for folks who stayed?\n",
    "# # doesn't really make sense. Drop off kid, kid stays, parent moves on?\n",
    "# def filter_for_stayers(eids,pob_por_migration):\n",
    "#     moveThreshold = 20000\n",
    "#     filtered_list = []\n",
    "#     pob_por_distances = dict(zip(pob_por_migration.eid,pob_por_migration.distances))\n",
    "#     for eid in eids:\n",
    "#         if eid in pob_por_distances.keys() and pob_por_distances[eid] < moveThreshold:\n",
    "#             filtered_list.append(eid)\n",
    "#     return filtered_list\n",
    "\n",
    "# parents_stayed_sib_stayed = filter_for_stayers(parents_stayed,pob_por_migration)\n",
    "# parents_moved_sib_stayed = filter_for_stayers(parents_moved,pob_por_migration)\n",
    "\n",
    "# print('parents moved: ', len(parents_moved_sib_stayed), ', parents_stayed: ',len(parents_stayed_sib_stayed))"
   ]
  },
  {
   "cell_type": "markdown",
   "metadata": {},
   "source": [
    "### Cousins:\n",
    "  * Load from '../00_csv_files/reciprocal_clusters_3.csv'\n",
    "  * Modify sliding window to get eids of points included and excluded\n",
    "  * Clusters. Main group vs. outliers. Compare.\n",
    "  * Predict outliers better off."
   ]
  },
  {
   "cell_type": "code",
   "execution_count": 21,
   "metadata": {},
   "outputs": [
    {
     "name": "stdout",
     "output_type": "stream",
     "text": [
      "['1081950|1960501|5315026', '1842757|1888351|2276515', '1867648|3240943|5947758']\n"
     ]
    }
   ],
   "source": [
    "cousins = pd.read_csv('../00_csv_files/reciprocal_clusters_3.csv')\n",
    "cousin_clusters = cousins.clusterID.tolist()\n",
    "print(cousin_clusters[:3])"
   ]
  },
  {
   "cell_type": "code",
   "execution_count": 24,
   "metadata": {},
   "outputs": [
    {
     "name": "stdout",
     "output_type": "stream",
     "text": [
      "[1081950, 1960501, 5315026]\n"
     ]
    },
    {
     "data": {
      "image/png": "[encoded data removed]",
      "text/plain": [
       "<Figure size 480x320 with 1 Axes>"
      ]
     },
     "metadata": {},
     "output_type": "display_data"
    },
    {
     "name": "stdout",
     "output_type": "stream",
     "text": [
      "mean distance:  115450.37356770465\n",
      "points in cluster:  [1960501, 5315026]\n",
      "point[s] outside cluster:  [1081950]\n"
     ]
    }
   ],
   "source": [
    "# testing code . . . \n",
    "pobE = dict(zip(pob_por_migration.eid,pob_por_migration.POB_east))\n",
    "pobN = dict(zip(pob_por_migration.eid,pob_por_migration.POB_north))\n",
    "\n",
    "testList = [int(x) for x in cousin_clusters[0].split('|')]\n",
    "print(testList)\n",
    "d, ins, outs, jnk1, jnk2 = slidingWindowDisplacement(testList, pobE, pobN, 2, True)\n",
    "print('mean distance: ', d)\n",
    "print('points in cluster: ' , ins)\n",
    "print('point[s] outside cluster: ' , outs)"
   ]
  },
  {
   "cell_type": "code",
   "execution_count": 25,
   "metadata": {},
   "outputs": [
    {
     "data": {
      "text/html": [
       "<div>\n",
       "<style scoped>\n",
       "    .dataframe tbody tr th:only-of-type {\n",
       "        vertical-align: middle;\n",
       "    }\n",
       "\n",
       "    .dataframe tbody tr th {\n",
       "        vertical-align: top;\n",
       "    }\n",
       "\n",
       "    .dataframe thead th {\n",
       "        text-align: right;\n",
       "    }\n",
       "</style>\n",
       "<table border=\"1\" class=\"dataframe\">\n",
       "  <thead>\n",
       "    <tr style=\"text-align: right;\">\n",
       "      <th></th>\n",
       "      <th>eid</th>\n",
       "      <th>POB_east</th>\n",
       "      <th>POB_north</th>\n",
       "      <th>POR_east</th>\n",
       "      <th>POR_north</th>\n",
       "      <th>distances</th>\n",
       "      <th>angles</th>\n",
       "      <th>POR_POB_popDensity</th>\n",
       "    </tr>\n",
       "  </thead>\n",
       "  <tbody>\n",
       "    <tr>\n",
       "      <th>1332</th>\n",
       "      <td>1081950</td>\n",
       "      <td>196500</td>\n",
       "      <td>203500</td>\n",
       "      <td>534000.0</td>\n",
       "      <td>158000.0</td>\n",
       "      <td>340553.226383</td>\n",
       "      <td>97.678027</td>\n",
       "      <td>10.280795</td>\n",
       "    </tr>\n",
       "    <tr>\n",
       "      <th>159386</th>\n",
       "      <td>5315026</td>\n",
       "      <td>386500</td>\n",
       "      <td>351500</td>\n",
       "      <td>386000.0</td>\n",
       "      <td>351000.0</td>\n",
       "      <td>707.106781</td>\n",
       "      <td>225.000000</td>\n",
       "      <td>1.000000</td>\n",
       "    </tr>\n",
       "    <tr>\n",
       "      <th>294769</th>\n",
       "      <td>1960501</td>\n",
       "      <td>435500</td>\n",
       "      <td>335500</td>\n",
       "      <td>395000.0</td>\n",
       "      <td>289000.0</td>\n",
       "      <td>61664.414373</td>\n",
       "      <td>221.054814</td>\n",
       "      <td>1.007249</td>\n",
       "    </tr>\n",
       "  </tbody>\n",
       "</table>\n",
       "</div>"
      ],
      "text/plain": [
       "            eid  POB_east  POB_north  POR_east  POR_north      distances  \\\n",
       "1332    1081950    196500     203500  534000.0   158000.0  340553.226383   \n",
       "159386  5315026    386500     351500  386000.0   351000.0     707.106781   \n",
       "294769  1960501    435500     335500  395000.0   289000.0   61664.414373   \n",
       "\n",
       "            angles  POR_POB_popDensity  \n",
       "1332     97.678027           10.280795  \n",
       "159386  225.000000            1.000000  \n",
       "294769  221.054814            1.007249  "
      ]
     },
     "execution_count": 25,
     "metadata": {},
     "output_type": "execute_result"
    }
   ],
   "source": [
    "# checking above\n",
    "pob_por_migration[pob_por_migration.eid.isin(testList)]"
   ]
  },
  {
   "cell_type": "code",
   "execution_count": 26,
   "metadata": {},
   "outputs": [],
   "source": [
    "# what should the distance cutoff be for being outside a cluster? \n",
    "# see below = I'm choosing 12km (so max distance b/t two points ~ 24km)\n",
    "distances_to_centroid = []\n",
    "\n",
    "for cluster in cousin_clusters:\n",
    "    eids = [int(x) for x in cluster.split('|')]\n",
    "    d,i,o,j1,j2 = slidingWindowDisplacement(eids, pobE, pobN)\n",
    "    distances_to_centroid.append(d)\n",
    "    \n",
    "distances_to_centroid = np.array(distances_to_centroid)"
   ]
  },
  {
   "cell_type": "code",
   "execution_count": 27,
   "metadata": {},
   "outputs": [
    {
     "data": {
      "image/png": "[encoded data removed]",
      "text/plain": [
       "<Figure size 720x360 with 1 Axes>"
      ]
     },
     "metadata": {
      "needs_background": "light"
     },
     "output_type": "display_data"
    }
   ],
   "source": [
    "f,a = plt.subplots(1,1,figsize=(10,5))\n",
    "parent_oldest_child_pairs = pd.read_csv('../00_csv_files/parent_oldest_child_pairs.csv')\n",
    "a.hist(distances_to_centroid/1000, 100, density=True, histtype='step', cumulative=True, color='k', linewidth = 2)\n",
    "#a.set_xlim([-10,300])\n",
    "a.set_xlabel('Distance to cousin cluster centroid (km)',fontsize=24)\n",
    "a.set_ylabel('Proportion of samples',fontsize=24)\n",
    "a.tick_params(axis='both', which='major', labelsize=12)\n",
    "a.plot([12,12],[0,1],'--b')\n",
    "plt.show()\n"
   ]
  },
  {
   "cell_type": "code",
   "execution_count": 28,
   "metadata": {},
   "outputs": [
    {
     "name": "stdout",
     "output_type": "stream",
     "text": [
      "1233 1211\n"
     ]
    }
   ],
   "source": [
    "# filter out any cousin clusters with parents in the dataset\n",
    "cousins_no_parents = []\n",
    "for cgroup in cousin_clusters:\n",
    "    cousin_set = set([int(x) for x in cgroup.split('|')])\n",
    "    if len(cousin_set & chidren_with_parents_set) == 0:\n",
    "        cousins_no_parents.append(cgroup)\n",
    "print(len(cousin_clusters), len(cousins_no_parents))"
   ]
  },
  {
   "cell_type": "code",
   "execution_count": 29,
   "metadata": {},
   "outputs": [
    {
     "name": "stdout",
     "output_type": "stream",
     "text": [
      "Cousins in clusters:  3533\n",
      "Outlier cousins:  190\n"
     ]
    }
   ],
   "source": [
    "# collect eids in clusters and eids in outliers\n",
    "cousins_in_clusters = []\n",
    "outlier_cousins = []\n",
    "distance_to_centroid_threshold = 12000\n",
    "\n",
    "for cluster in cousins_no_parents:\n",
    "    eids = [int(x) for x in cluster.split('|')]\n",
    "    d,ins,outs,j1,j2 = slidingWindowDisplacement(eids, pobE, pobN)\n",
    "\n",
    "    if d > distance_to_centroid_threshold:\n",
    "        cousins_in_clusters.extend(ins)\n",
    "        outlier_cousins.extend(outs)\n",
    "    else:\n",
    "        cousins_in_clusters.extend(ins)\n",
    "        cousins_in_clusters.extend(outs)\n",
    "    \n",
    "print('Cousins in clusters: ', len(cousins_in_clusters))\n",
    "print('Outlier cousins: ', len(outlier_cousins))"
   ]
  },
  {
   "cell_type": "code",
   "execution_count": 30,
   "metadata": {},
   "outputs": [
    {
     "name": "stdout",
     "output_type": "stream",
     "text": [
      "Cousins in clusters:  2427  stayers,  806  movers.\n",
      "Outlier cousins:  54  stayers,  123  movers.\n"
     ]
    }
   ],
   "source": [
    "# filter these for stayers.\n",
    "cousins_in_clusters_movers = list(set(cousins_in_clusters) & set(pob_por_movers))\n",
    "cousins_in_clusters_stayers = list(set(cousins_in_clusters) & set(pob_por_stayers))\n",
    "outlier_cousins_movers = list(set(outlier_cousins) & set(pob_por_movers))\n",
    "outlier_cousins_stayers = list(set(outlier_cousins) & set(pob_por_stayers))\n",
    "print('Cousins in clusters: ', len(cousins_in_clusters_stayers), ' stayers, ', len(cousins_in_clusters_movers), ' movers.')\n",
    "print('Outlier cousins: ', len(outlier_cousins_stayers), ' stayers, ', len(outlier_cousins_movers), ' movers.')\n"
   ]
  },
  {
   "cell_type": "code",
   "execution_count": 23,
   "metadata": {},
   "outputs": [],
   "source": [
    "from shapely.geometry import Point\n",
    "from shapely.geometry.polygon import Polygon\n",
    "\n",
    "# x and y are arrays of xcoords, ycoords\n",
    "def get_centroid(x,y):\n",
    "    return np.mean(x), np.mean(y)\n",
    "\n",
    "# should also feed this eids (or feed it eids instead, and get coordinates from the eids.)\n",
    "# want to return eids that are in clusters and outliers\n",
    "def slidingWindowDisplacement(eidList, pobE, pobN, windowIncreaseFactor = 2, showPlot=False):\n",
    "    \n",
    "    x = [pobE[eid] for eid in eidList if eid in pobE.keys()]\n",
    "    y = [pobN[eid] for eid in eidList if eid in pobE.keys()]\n",
    "    \n",
    "    centroid = get_centroid(x,y)\n",
    "    distancesToCentroid = [math.hypot(val-centroid[0],y[i]-centroid[1]) for i, val in enumerate(x)]\n",
    "    meanD = np.mean(distancesToCentroid)\n",
    "    \n",
    "    stepSize = np.floor(meanD + windowIncreaseFactor * np.std(distancesToCentroid))\n",
    "    stepFraction = 0.5\n",
    "    windowBuffer = stepFraction*stepSize\n",
    "\n",
    "    lowerLeftCorner = (min(x)-windowBuffer,min(y)-windowBuffer)\n",
    "    upperRightCorner = (max(x)+windowBuffer,max(y)+windowBuffer)\n",
    "    xSpan = upperRightCorner[0] - lowerLeftCorner[0]\n",
    "    ySpan = upperRightCorner[1] - lowerLeftCorner[1]\n",
    "\n",
    "    if xSpan > 0 or ySpan > 0:\n",
    "        numCols = int(np.ceil(xSpan/windowBuffer))\n",
    "        numRows = int(np.ceil(ySpan/windowBuffer))\n",
    "    else:\n",
    "        numCols,numRows = 1,1\n",
    "    \n",
    "    pointCounts = np.zeros([numRows,numCols])\n",
    "    \n",
    "    maxCount = 0\n",
    "    maxPol = (0,0)\n",
    "    maxCentroid = (0,0)\n",
    "    centroidIn = centroid\n",
    "    centroidOut = centroid\n",
    "    \n",
    "    insideCluster = eidList\n",
    "    outsideCluster = []\n",
    "\n",
    "    for r in np.arange(numRows):\n",
    "        for c in np.arange(numCols):\n",
    "            pointList = []\n",
    "            excludedPoints = []\n",
    "            \n",
    "            clusterEids = []\n",
    "            outlierEids = []\n",
    "            \n",
    "            ll = (lowerLeftCorner[0] + c * windowBuffer, lowerLeftCorner[0] + r * windowBuffer)\n",
    "            ur = (ll[0]+stepSize,ll[1] + stepSize)\n",
    "            polygon = Polygon([ (ll[0],ll[1]), (ll[0],ur[1]), (ur[0],ur[1]), (ur[0],ll[1]) ])\n",
    "            for i,xc in enumerate(x):\n",
    "                point = Point(xc,y[i])\n",
    "                if polygon.contains(point):\n",
    "                    pointList.append((xc,y[i]))\n",
    "                    clusterEids.append(eidList[i])\n",
    "                else:\n",
    "                    excludedPoints.append((xc,y[i]))\n",
    "                    outlierEids.append(eidList[i])\n",
    "            \n",
    "            if len(pointList) > maxCount:\n",
    "                maxCount = len(pointList)\n",
    "                xPoints = np.array([p[0] for p in pointList])\n",
    "                yPoints = np.array([p[1] for p in pointList])\n",
    "\n",
    "                if len(excludedPoints) > 0 and len(pointList) >= 2*len(excludedPoints):\n",
    "                    centroidIn = get_centroid(xPoints,yPoints)\n",
    "                    xPoints = np.array([p[0] for p in excludedPoints])\n",
    "                    yPoints = np.array([p[1] for p in excludedPoints])\n",
    "                    centroidOut = get_centroid(xPoints,yPoints)\n",
    "                    insideCluster = clusterEids\n",
    "                    outsideCluster = outlierEids\n",
    "\n",
    "                maxPol = (ll,ur)\n",
    "    \n",
    "    if showPlot == True:\n",
    "        # setup figure\n",
    "        fig=plt.figure(dpi= 80, facecolor='w', edgecolor='k')#, figsize=(5, 5))\n",
    "        ax = plt.subplot(111)\n",
    "\n",
    "        # plot all points\n",
    "        ax.plot(x,y,'bo')\n",
    "\n",
    "        # plot centroid of points\n",
    "        ax.plot(centroid[0],centroid[1], 'go', markersize = 16)\n",
    "\n",
    "        # if cluster & outlier(s) . . . \n",
    "        if centroidIn != centroid:\n",
    "            # plot line connecting centroids\n",
    "            ax.plot((centroidIn[0],centroidOut[0]),(centroidIn[1],centroidOut[1]),'k-', linewidth=3)\n",
    "\n",
    "            # plot centroid of points WITHIN max region\n",
    "            ax.plot(centroidIn[0],centroidIn[1],'r*', markersize = 16)\n",
    "\n",
    "            # plot centroid of points NOT WITHIN max region\n",
    "            ax.plot(centroidOut[0],centroidOut[1],'m*', markersize = 16)\n",
    "        \n",
    "        # equal scale\n",
    "        ax.set_aspect('equal')\n",
    "        \n",
    "        # buffer axes\n",
    "        if lowerLeftCorner[0] != upperRightCorner[0]:\n",
    "            ax.set_xlim([lowerLeftCorner[0],upperRightCorner[0]])\n",
    "        if lowerLeftCorner[1] != upperRightCorner[1]:\n",
    "            ax.set_ylim([lowerLeftCorner[1],upperRightCorner[1]])\n",
    "        \n",
    "        plt.show()\n",
    "\n",
    "    return meanD, insideCluster, outsideCluster, centroidIn, centroidOut"
   ]
  },
  {
   "cell_type": "code",
   "execution_count": 52,
   "metadata": {},
   "outputs": [
    {
     "name": "stdout",
     "output_type": "stream",
     "text": [
      "2345 2345\n",
      "503 503\n",
      "23233 23233\n",
      "1387 1387\n",
      "54 54\n",
      "2427 2427\n",
      "8\n",
      "1\n",
      "0\n",
      "0\n",
      "0\n",
      "0\n",
      "357\n",
      "12\n"
     ]
    }
   ],
   "source": [
    "# check for overlap\n",
    "movethreshold=20000\n",
    "allStayers = pob_por_migration[pob_por_migration.distances<=movethreshold].eid.tolist()\n",
    "allMovers =  pob_por_migration[pob_por_migration.distances> movethreshold].eid.tolist()\n",
    "print(len(parents_stayed), len(set(parents_stayed) & set(allStayers))) # should be all of them\n",
    "print(len(parents_moved), len(set(parents_moved) & set(allStayers))) # should be all of them\n",
    "print(len(sib_stayed_parents_stayed), len(set(sib_stayed_parents_stayed) & set(allStayers))) # should be all of them\n",
    "print(len(sib_stayed_parents_moved), len(set(sib_stayed_parents_moved) & set(allStayers))) # should be all of them\n",
    "print(len(outlier_cousins_stayers), len(set(outlier_cousins_stayers) & set(allStayers))) # should be all of them\n",
    "print(len(cousins_in_clusters_stayers), len(set(cousins_in_clusters_stayers) & set(allStayers))) # should be all of them\n",
    "print(len(set(outlier_cousins_stayers) & set(sib_stayed_parents_stayed))) # oops there are 8\n",
    "print(len(set(outlier_cousins_stayers) & set(sib_stayed_parents_moved))) # oops there is 1\n",
    "print(len(set(outlier_cousins_stayers) & set(parents_stayed))) # ok 0\n",
    "print(len(set(outlier_cousins_stayers) & set(parents_moved))) # ok 0\n",
    "print(len(set(sib_stayed_parents_stayed) & set(parents_stayed))) # ok 0\n",
    "print(len(set(sib_stayed_parents_moved) & set(parents_moved))) # ok 0\n",
    "\n",
    "print(len(set(cousins_in_clusters_stayers) & set(sib_stayed_parents_stayed))) # oops there are 357\n",
    "print(len(set(cousins_in_clusters_stayers) & set(sib_stayed_parents_moved))) # oops there is 12"
   ]
  },
  {
   "cell_type": "code",
   "execution_count": 53,
   "metadata": {},
   "outputs": [
    {
     "name": "stdout",
     "output_type": "stream",
     "text": [
      "[3641088, 1146208, 4507139, 1459620, 2048652, 2039373, 5133941, 5884567, 5281011]\n",
      "54\n"
     ]
    }
   ],
   "source": [
    "removeUs = list(set(outlier_cousins_stayers) & set(sib_stayed_parents_stayed))\n",
    "removeUs.extend(list(set(outlier_cousins_stayers) & set(sib_stayed_parents_moved)))\n",
    "print(removeUs)\n",
    "print(len(outlier_cousins_stayers))\n",
    "os = list(set(outlier_cousins_stayers) - set(removeUs))\n",
    "outlier_cousins_stayers = os"
   ]
  },
  {
   "cell_type": "code",
   "execution_count": 54,
   "metadata": {},
   "outputs": [
    {
     "name": "stdout",
     "output_type": "stream",
     "text": [
      "45\n"
     ]
    }
   ],
   "source": [
    "print(len(outlier_cousins_stayers))"
   ]
  },
  {
   "cell_type": "code",
   "execution_count": 55,
   "metadata": {},
   "outputs": [
    {
     "name": "stdout",
     "output_type": "stream",
     "text": [
      "369\n",
      "2427\n"
     ]
    }
   ],
   "source": [
    "removeUs = list(set(cousins_in_clusters_stayers) & set(sib_stayed_parents_stayed))\n",
    "removeUs.extend(list(set(cousins_in_clusters_stayers) & set(sib_stayed_parents_moved)))\n",
    "print(len(removeUs))\n",
    "print(len(cousins_in_clusters_stayers))\n",
    "ccs = list(set(cousins_in_clusters_stayers) - set(removeUs))\n",
    "cousins_in_clusters_stayers = ccs"
   ]
  },
  {
   "cell_type": "code",
   "execution_count": 56,
   "metadata": {},
   "outputs": [
    {
     "name": "stdout",
     "output_type": "stream",
     "text": [
      "2058\n"
     ]
    }
   ],
   "source": [
    "print(len(cousins_in_clusters_stayers))"
   ]
  },
  {
   "cell_type": "code",
   "execution_count": 57,
   "metadata": {},
   "outputs": [],
   "source": [
    "# save lists of eids\n",
    "eidGroups = [parents_stayed, parents_moved, sib_stayed_parents_stayed, sib_stayed_parents_moved,\n",
    "             cousins_in_clusters_stayers, outlier_cousins_stayers]\n",
    "with open('kinlists_190512.pic','wb') as o:\n",
    "     pickle.dump(eidGroups, o)"
   ]
  },
  {
   "cell_type": "markdown",
   "metadata": {},
   "source": [
    "## movers vs. stayers num kin"
   ]
  },
  {
   "cell_type": "code",
   "execution_count": 41,
   "metadata": {},
   "outputs": [
    {
     "name": "stdout",
     "output_type": "stream",
     "text": [
      "numbers:  88259 47321\n",
      "means:  1.48 1.37\n"
     ]
    },
    {
     "data": {
      "image/png": "[encoded data removed]",
      "text/plain": [
       "<Figure size 1152x432 with 2 Axes>"
      ]
     },
     "metadata": {
      "needs_background": "light"
     },
     "output_type": "display_data"
    }
   ],
   "source": [
    "# from a kinship dataframe (or slice), make dictionary: kinDict[eid] = [list,of,kin]\n",
    "def kindf_to_kindict(df):\n",
    "    id1 = df.ID1.values.tolist()\n",
    "    id2 = df.ID2.values.tolist()\n",
    "    kinDict = {}\n",
    "    \n",
    "    for i,id in enumerate(id1):\n",
    "        kin = id2[i]\n",
    "        if id in kinDict.keys():\n",
    "            kinDict[id].append(kin)\n",
    "        else:\n",
    "            kinDict[id] = [kin]\n",
    "            \n",
    "    for i,id in enumerate(id2):\n",
    "        kin = id1[i]\n",
    "        if id in kinDict.keys():\n",
    "            kinDict[id].append(kin)\n",
    "        else:\n",
    "            kinDict[id] = [kin]\n",
    "    \n",
    "    return kinDict\n",
    "\n",
    "kinship = pd.read_csv('../00_csv_files/kinship_data.csv')\n",
    "kinDict = kindf_to_kindict(kinship)\n",
    "\n",
    "move_kinnumber = [len(kinDict[x]) for x in movers if x in kinDict.keys()] \n",
    "stay_kinnumber = [len(kinDict[x]) for x in stayers if x in kinDict.keys()] \n",
    "m_to_plot = [stay_kinnumber,move_kinnumber]\n",
    "fig, (ax1,ax2) = plt.subplots(1,2,figsize=(16,6))\n",
    "grouplabels = ['stayers','movers']\n",
    "#ax.boxplot(m_to_plot)\n",
    "#ax.boxplot(m_to_plot)\n",
    "ax1.violinplot(m_to_plot)\n",
    "ax1.set_xticks([1,2])\n",
    "ax1.set_xticklabels(grouplabels,fontsize=16)\n",
    "ax1.set_ylabel('Number of Kin',fontsize=16)\n",
    "ax2.violinplot(m_to_plot)\n",
    "ax2.set_xticks([1,2])\n",
    "ax2.set_ylabel('Number of Kin',fontsize=16)\n",
    "ax2.set_xticklabels(grouplabels,fontsize=16)\n",
    "ax2.set_ylim([-0.2,5])\n",
    "print('numbers: ',' '.join(str(y) for y in [len(x) for x in m_to_plot]))\n",
    "print('means: ','{:01.2f}'.format(np.mean(stay_kinnumber)),'{:01.2f}'.format(np.mean(move_kinnumber)))\n",
    "plt.show()"
   ]
  }
 ],
 "metadata": {
  "kernelspec": {
   "display_name": "Python 3",
   "language": "python",
   "name": "python3"
  },
  "language_info": {
   "codemirror_mode": {
    "name": "ipython",
    "version": 3
   },
   "file_extension": ".py",
   "mimetype": "text/x-python",
   "name": "python",
   "nbconvert_exporter": "python",
   "pygments_lexer": "ipython3",
   "version": "3.7.3"
  }
 },
 "nbformat": 4,
 "nbformat_minor": 2
}
