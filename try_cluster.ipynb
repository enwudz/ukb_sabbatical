{
 "cells": [
  {
   "cell_type": "code",
   "execution_count": 6,
   "metadata": {},
   "outputs": [],
   "source": [
    "import numpy as np"
   ]
  },
  {
   "cell_type": "code",
   "execution_count": 42,
   "metadata": {},
   "outputs": [
    {
     "name": "stdout",
     "output_type": "stream",
     "text": [
      "88\n",
      "0\n",
      "[ 0.03844454 -0.00890206  0.0005717  -0.00491667  0.01803254 -0.02209822\n",
      " -0.10041822  0.00623977  0.01597464  0.01008517 -0.02427001 -0.0211423\n",
      "  0.00792797  0.03178216 -0.0429069  -0.07365599 -0.03598457 -0.04335962\n",
      " -0.02352094 -0.06338764 -0.0333717 ]\n"
     ]
    }
   ],
   "source": [
    "ac_phenotype_matrix = np.load('ac_phenotype_matrix.npy')\n",
    "print(len(np.argwhere(np.isnan(ac_phenotype_matrix))))\n",
    "print(len(np.argwhere(np.isnan(ac_phenotype_matrix[0,:]))))\n",
    "print(ac_phenotype_matrix[0,:])"
   ]
  },
  {
   "cell_type": "code",
   "execution_count": 65,
   "metadata": {},
   "outputs": [],
   "source": [
    "# there are nan in the ac_phenotype_matrix ... cluster doesn't like this.\n",
    "ac_phenotype_matrix_nonan = np.zeros(np.shape(ac_phenotype_matrix))\n",
    "rowswithdata = 0\n",
    "for i in np.arange(ac_phenotype_matrix.shape[0]):\n",
    "    r = ac_phenotype_matrix[i,:]\n",
    "    if len(np.argwhere(np.isnan(r))) == 0:\n",
    "        ac_phenotype_matrix_nonan[rowswithdata,:] =  r\n",
    "        rowswithdata += 1\n",
    "D = ac_phenotype_matrix_nonan"
   ]
  },
  {
   "cell_type": "code",
   "execution_count": 66,
   "metadata": {},
   "outputs": [],
   "source": [
    "D = np.flipud(np.rot90(D,3))"
   ]
  },
  {
   "cell_type": "code",
   "execution_count": 67,
   "metadata": {},
   "outputs": [
    {
     "data": {
      "image/png": "[encoded data removed]",
      "text/plain": [
       "<Figure size 432x288 with 3 Axes>"
      ]
     },
     "metadata": {
      "needs_background": "light"
     },
     "output_type": "display_data"
    }
   ],
   "source": [
    "import scipy\n",
    "import matplotlib.pyplot as plt\n",
    "import scipy.cluster.hierarchy as sch\n",
    "\n",
    "# Compute and plot dendrogram.\n",
    "fig = plt.figure()\n",
    "axdendro = fig.add_axes([0.09,0.1,0.2,0.8])\n",
    "Y = sch.linkage(D, method='centroid')\n",
    "Z = sch.dendrogram(Y, orientation='left')\n",
    "axdendro.set_xticks([])\n",
    "axdendro.set_yticks([])\n",
    "\n",
    "# Plot distance matrix.\n",
    "axmatrix = fig.add_axes([0.3,0.1,0.6,0.8])\n",
    "index = Z['leaves']\n",
    "D = D[index,:]\n",
    "#D = D[:,index]\n",
    "im = axmatrix.matshow(D, aspect='auto', origin='lower')\n",
    "axmatrix.set_xticks([])\n",
    "axmatrix.set_yticks([])\n",
    "\n",
    "# Plot colorbar.\n",
    "axcolor = fig.add_axes([0.91,0.1,0.02,0.8])\n",
    "plt.colorbar(im, cax=axcolor)\n",
    "\n",
    "# Display and save figure.\n",
    "fig.show()\n",
    "#fig.savefig('dendrogram.png')"
   ]
  },
  {
   "cell_type": "code",
   "execution_count": 64,
   "metadata": {},
   "outputs": [
    {
     "data": {
      "image/png": "[encoded data removed]",
      "text/plain": [
       "<Figure size 432x288 with 1 Axes>"
      ]
     },
     "metadata": {},
     "output_type": "display_data"
    }
   ],
   "source": [
    "# fig = plt.figure()\n",
    "# axmatrix = fig.add_axes([0.3,0.1,0.6,0.8])\n",
    "# rD = np.flipud(np.rot90(D,3))\n",
    "# im = axmatrix.matshow(rD, aspect='auto', origin='lower')\n",
    "# axmatrix.set_xticks([])\n",
    "# axmatrix.set_yticks([])\n",
    "# plt.show()"
   ]
  },
  {
   "cell_type": "code",
   "execution_count": 57,
   "metadata": {},
   "outputs": [
    {
     "data": {
      "text/plain": [
       "[0, 1, 17, 5, 20, 9, 4, 2, 8, 14, 10, 6, 11, 13, 12, 18, 3, 7, 16, 15, 19]"
      ]
     },
     "execution_count": 57,
     "metadata": {},
     "output_type": "execute_result"
    }
   ],
   "source": [
    "ac_index = index"
   ]
  },
  {
   "cell_type": "code",
   "execution_count": 68,
   "metadata": {},
   "outputs": [
    {
     "data": {
      "text/plain": [
       "[0, 1, 17, 5, 20, 9, 4, 2, 8, 14, 10, 6, 11, 13, 12, 18, 3, 7, 16, 15, 19]"
      ]
     },
     "execution_count": 68,
     "metadata": {},
     "output_type": "execute_result"
    }
   ],
   "source": [
    "index"
   ]
  },
  {
   "cell_type": "code",
   "execution_count": null,
   "metadata": {},
   "outputs": [],
   "source": []
  }
 ],
 "metadata": {
  "kernelspec": {
   "display_name": "Python 3",
   "language": "python",
   "name": "python3"
  },
  "language_info": {
   "codemirror_mode": {
    "name": "ipython",
    "version": 3
   },
   "file_extension": ".py",
   "mimetype": "text/x-python",
   "name": "python",
   "nbconvert_exporter": "python",
   "pygments_lexer": "ipython3",
   "version": "3.7.3"
  }
 },
 "nbformat": 4,
 "nbformat_minor": 2
}
