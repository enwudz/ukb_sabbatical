{
 "cells": [
  {
   "cell_type": "code",
   "execution_count": 1,
   "metadata": {},
   "outputs": [],
   "source": [
    "import pandas as pd\n",
    "import numpy as np"
   ]
  },
  {
   "cell_type": "code",
   "execution_count": 12,
   "metadata": {},
   "outputs": [
    {
     "name": "stdout",
     "output_type": "stream",
     "text": [
      "502531\n"
     ]
    },
    {
     "data": {
      "text/plain": [
       "[4865591,\n",
       " 3706515,\n",
       " 4925122,\n",
       " 2075954,\n",
       " 3699099,\n",
       " 1389532,\n",
       " 2605985,\n",
       " 3820558,\n",
       " 3162271,\n",
       " 1374011]"
      ]
     },
     "execution_count": 12,
     "metadata": {},
     "output_type": "execute_result"
    }
   ],
   "source": [
    "newPhenosEids = pd.read_csv('../pheno/pheno_eids_190607.csv').eid.tolist()\n",
    "print(len(newPhenosEids))\n",
    "newPhenosEids[:10]"
   ]
  },
  {
   "cell_type": "code",
   "execution_count": 15,
   "metadata": {},
   "outputs": [
    {
     "name": "stdout",
     "output_type": "stream",
     "text": [
      "488377\n"
     ]
    },
    {
     "data": {
      "text/plain": [
       "[2032476,\n",
       " 2868665,\n",
       " 5580157,\n",
       " 5184402,\n",
       " 1114375,\n",
       " 1334561,\n",
       " 5551233,\n",
       " 2911257,\n",
       " 3261612,\n",
       " 5352063]"
      ]
     },
     "execution_count": 15,
     "metadata": {},
     "output_type": "execute_result"
    }
   ],
   "source": [
    "sqcEids =  pd.read_csv('../pheno/ukb_sqc_eids_190607.csv').eid.tolist()\n",
    "print(len(sqcEids))\n",
    "sqcEids[:10]"
   ]
  },
  {
   "cell_type": "code",
   "execution_count": 16,
   "metadata": {},
   "outputs": [
    {
     "name": "stdout",
     "output_type": "stream",
     "text": [
      "502641\n"
     ]
    },
    {
     "data": {
      "text/plain": [
       "[1000015,\n",
       " 1000027,\n",
       " 1000039,\n",
       " 1000040,\n",
       " 1000053,\n",
       " 1000064,\n",
       " 1000071,\n",
       " 1000088,\n",
       " 1000096,\n",
       " 1000109]"
      ]
     },
     "execution_count": 16,
     "metadata": {},
     "output_type": "execute_result"
    }
   ],
   "source": [
    "oldPhenosEids = pd.read_csv('../pheno/pheno_eids_old.csv').eid.tolist()\n",
    "print(len(oldPhenosEids))\n",
    "oldPhenosEids[:10]"
   ]
  },
  {
   "cell_type": "code",
   "execution_count": 17,
   "metadata": {},
   "outputs": [
    {
     "name": "stdout",
     "output_type": "stream",
     "text": [
      "132748\n"
     ]
    }
   ],
   "source": [
    "print(len(set(newPhenosEids) & set(sqcEids)))"
   ]
  },
  {
   "cell_type": "code",
   "execution_count": 18,
   "metadata": {},
   "outputs": [
    {
     "name": "stdout",
     "output_type": "stream",
     "text": [
      "502531\n"
     ]
    }
   ],
   "source": [
    "print(len(set(newPhenosEids) & set(oldPhenosEids)))"
   ]
  },
  {
   "cell_type": "code",
   "execution_count": 19,
   "metadata": {},
   "outputs": [
    {
     "data": {
      "text/html": [
       "<div>\n",
       "<style scoped>\n",
       "    .dataframe tbody tr th:only-of-type {\n",
       "        vertical-align: middle;\n",
       "    }\n",
       "\n",
       "    .dataframe tbody tr th {\n",
       "        vertical-align: top;\n",
       "    }\n",
       "\n",
       "    .dataframe thead th {\n",
       "        text-align: right;\n",
       "    }\n",
       "</style>\n",
       "<table border=\"1\" class=\"dataframe\">\n",
       "  <thead>\n",
       "    <tr style=\"text-align: right;\">\n",
       "      <th></th>\n",
       "      <th>eid</th>\n",
       "      <th>center</th>\n",
       "      <th>DOB</th>\n",
       "      <th>POB_north</th>\n",
       "      <th>POB_east</th>\n",
       "      <th>POB_NUTSID</th>\n",
       "      <th>POB_gridID</th>\n",
       "      <th>POR_east</th>\n",
       "      <th>POR_north</th>\n",
       "      <th>POR_NUTSID</th>\n",
       "      <th>POR_gridID</th>\n",
       "    </tr>\n",
       "  </thead>\n",
       "  <tbody>\n",
       "    <tr>\n",
       "      <th>0</th>\n",
       "      <td>1136349</td>\n",
       "      <td>11004</td>\n",
       "      <td>1947</td>\n",
       "      <td>801500</td>\n",
       "      <td>68500</td>\n",
       "      <td>UKM64</td>\n",
       "      <td>774</td>\n",
       "      <td>252000.0</td>\n",
       "      <td>663000.0</td>\n",
       "      <td>UKM34</td>\n",
       "      <td>3106</td>\n",
       "    </tr>\n",
       "    <tr>\n",
       "      <th>1</th>\n",
       "      <td>1071275</td>\n",
       "      <td>11004</td>\n",
       "      <td>1952</td>\n",
       "      <td>798500</td>\n",
       "      <td>66500</td>\n",
       "      <td>UKM64</td>\n",
       "      <td>775</td>\n",
       "      <td>211000.0</td>\n",
       "      <td>665000.0</td>\n",
       "      <td>UKM63</td>\n",
       "      <td>2618</td>\n",
       "    </tr>\n",
       "  </tbody>\n",
       "</table>\n",
       "</div>"
      ],
      "text/plain": [
       "       eid  center   DOB  POB_north  POB_east POB_NUTSID  POB_gridID  \\\n",
       "0  1136349   11004  1947     801500     68500      UKM64         774   \n",
       "1  1071275   11004  1952     798500     66500      UKM64         775   \n",
       "\n",
       "   POR_east  POR_north POR_NUTSID  POR_gridID  \n",
       "0  252000.0   663000.0      UKM34        3106  \n",
       "1  211000.0   665000.0      UKM63        2618  "
      ]
     },
     "execution_count": 19,
     "metadata": {},
     "output_type": "execute_result"
    }
   ],
   "source": [
    "eid_data = pd.read_csv('../00_csv_files/eid_data.csv')\n",
    "eid_data.head(2)"
   ]
  },
  {
   "cell_type": "code",
   "execution_count": 20,
   "metadata": {},
   "outputs": [
    {
     "data": {
      "text/plain": [
       "[1136349,\n",
       " 1071275,\n",
       " 4778319,\n",
       " 2797312,\n",
       " 3735126,\n",
       " 4450199,\n",
       " 4509570,\n",
       " 4900458,\n",
       " 5471572,\n",
       " 5650473]"
      ]
     },
     "execution_count": 20,
     "metadata": {},
     "output_type": "execute_result"
    }
   ],
   "source": [
    "eids = eid_data.eid.tolist()\n",
    "eids[:10]"
   ]
  },
  {
   "cell_type": "code",
   "execution_count": 21,
   "metadata": {},
   "outputs": [
    {
     "name": "stdout",
     "output_type": "stream",
     "text": [
      "441934\n"
     ]
    }
   ],
   "source": [
    "print(len(set(newPhenosEids) & set(eids)))"
   ]
  },
  {
   "cell_type": "code",
   "execution_count": null,
   "metadata": {},
   "outputs": [],
   "source": []
  }
 ],
 "metadata": {
  "kernelspec": {
   "display_name": "Python 3",
   "language": "python",
   "name": "python3"
  },
  "language_info": {
   "codemirror_mode": {
    "name": "ipython",
    "version": 3
   },
   "file_extension": ".py",
   "mimetype": "text/x-python",
   "name": "python",
   "nbconvert_exporter": "python",
   "pygments_lexer": "ipython3",
   "version": "3.7.2"
  }
 },
 "nbformat": 4,
 "nbformat_minor": 2
}
