{
 "cells": [
  {
   "cell_type": "code",
   "execution_count": 1,
   "metadata": {},
   "outputs": [],
   "source": [
    "import pandas as pd\n",
    "import numpy as np\n",
    "import matplotlib.pyplot as plt\n",
    "from ukb_gwas import *"
   ]
  },
  {
   "cell_type": "raw",
   "metadata": {},
   "source": [
    "Get alleles for a snp\n",
    "\n",
    "/home/bscb09/bin/plink2.0 --pfile /bscb/bscb09/500k_ukb/ian/gwas_imputed/ukb_imp_chr3 --keep /bscb/bscb09/500k_ukb/ian/gwas_files/mus_wba_eids.csv --extract rs4682039.txt --export A include-alt --out test_out\n",
    "\n",
    "these are mostly 0, 1, or 2. But a few are not, e.g. 1.02747 "
   ]
  },
  {
   "cell_type": "raw",
   "metadata": {},
   "source": [
    "scp igw9@cbsulogin.tc.cornell.edu:/bscb/bscb09/500k_ukb/ian/gwas_imputed/qsub_runfiles/tmp/test_out.raw ."
   ]
  },
  {
   "cell_type": "code",
   "execution_count": 6,
   "metadata": {},
   "outputs": [
    {
     "data": {
      "text/html": [
       "<div>\n",
       "<style scoped>\n",
       "    .dataframe tbody tr th:only-of-type {\n",
       "        vertical-align: middle;\n",
       "    }\n",
       "\n",
       "    .dataframe tbody tr th {\n",
       "        vertical-align: top;\n",
       "    }\n",
       "\n",
       "    .dataframe thead th {\n",
       "        text-align: right;\n",
       "    }\n",
       "</style>\n",
       "<table border=\"1\" class=\"dataframe\">\n",
       "  <thead>\n",
       "    <tr style=\"text-align: right;\">\n",
       "      <th></th>\n",
       "      <th>FID</th>\n",
       "      <th>IID</th>\n",
       "      <th>PAT</th>\n",
       "      <th>MAT</th>\n",
       "      <th>SEX</th>\n",
       "      <th>PHENOTYPE</th>\n",
       "      <th>rs4682039_G(/A)</th>\n",
       "    </tr>\n",
       "  </thead>\n",
       "  <tbody>\n",
       "    <tr>\n",
       "      <th>0</th>\n",
       "      <td>5528770</td>\n",
       "      <td>5528770</td>\n",
       "      <td>0</td>\n",
       "      <td>0</td>\n",
       "      <td>0</td>\n",
       "      <td>-9</td>\n",
       "      <td>2.0</td>\n",
       "    </tr>\n",
       "    <tr>\n",
       "      <th>1</th>\n",
       "      <td>2112972</td>\n",
       "      <td>2112972</td>\n",
       "      <td>0</td>\n",
       "      <td>0</td>\n",
       "      <td>0</td>\n",
       "      <td>-9</td>\n",
       "      <td>0.0</td>\n",
       "    </tr>\n",
       "    <tr>\n",
       "      <th>2</th>\n",
       "      <td>2062810</td>\n",
       "      <td>2062810</td>\n",
       "      <td>0</td>\n",
       "      <td>0</td>\n",
       "      <td>0</td>\n",
       "      <td>-9</td>\n",
       "      <td>2.0</td>\n",
       "    </tr>\n",
       "  </tbody>\n",
       "</table>\n",
       "</div>"
      ],
      "text/plain": [
       "       FID      IID  PAT  MAT  SEX  PHENOTYPE  rs4682039_G(/A)\n",
       "0  5528770  5528770    0    0    0         -9              2.0\n",
       "1  2112972  2112972    0    0    0         -9              0.0\n",
       "2  2062810  2062810    0    0    0         -9              2.0"
      ]
     },
     "execution_count": 6,
     "metadata": {},
     "output_type": "execute_result"
    }
   ],
   "source": [
    "snp = pd.read_csv('test_out.raw',delimiter = '\\t')\n",
    "snp.head(3)"
   ]
  },
  {
   "cell_type": "code",
   "execution_count": 9,
   "metadata": {},
   "outputs": [
    {
     "name": "stdout",
     "output_type": "stream",
     "text": [
      "329040\n",
      "53509\n",
      "153565\n",
      "109642\n",
      "316716\n"
     ]
    }
   ],
   "source": [
    "print(len(snp))\n",
    "print(len(snp[snp['rs4682039_G(/A)']==0]))\n",
    "print(len(snp[snp['rs4682039_G(/A)']==1]))\n",
    "print(len(snp[snp['rs4682039_G(/A)']==2]))\n",
    "print(53509 + 153565 + 109642)"
   ]
  },
  {
   "cell_type": "raw",
   "metadata": {},
   "source": [
    "# check these numbers\n",
    "/home/bscb09/bin/plink2.0 --pfile /bscb/bscb09/500k_ukb/ian/gwas_imputed/ukb_imp_chr3 --keep /bscb/bscb09/500k_ukb/ian/gwas_files/mus_wba_eids.csv --extract rs4682039.txt --geno-counts --out  genocounts\n",
    "\n",
    "= 3       rs4682039       G       A       113682  158590  55024   0       0       1744\n",
    "\n",
    "a little bit off ... I'm guessing that these are the non 0, 1, 2 guys = imputed calls, per Amy"
   ]
  },
  {
   "cell_type": "raw",
   "metadata": {},
   "source": [
    "need file of snps & chromosomes . . . have these for the chisquared stuff\n",
    "/bscb/bscb09/500k_ukb/ian/gwas_imputed/chisquare_genotype_counts/eduyears_lee_snps.txt \n",
    "\n",
    "--> get_alleles_for_snps.py :\n",
    "for each snp (from eduyears_lee_snps.txt, or ...?)\n",
    "    run plink to get genotypes\n",
    "    parse file to make file of two columns: snp & genotype\n",
    "       = alleles_snpname.parsed\n",
    "\n",
    "--> make_rarefied_idsets.py \n",
    "each snp\n",
    "    counts of mover genotypes\n",
    "    counts of stayer genotypes\n",
    "    find min set? sample from other.\n",
    "    make and save list of ids to --extract for PLINK, one for movers, one for stayers\n",
    "    snp_movers.txt & snp_stayers.txt\n",
    "\n",
    "--> run_plink_for_snp.py\n",
    "for each snp\n",
    "run gwas eduyears for that snp using --extract snp_movers.txt\n",
    "run gwas eduyears for that snp using --extract snp_stayers.txt\n",
    "\n",
    "--> collect_betas.py\n",
    "open all movers plink files and get the betas\n",
    "    filenames = snp_plink_movers.PHENO1.glm.linear\n",
    "    ADD is on second line\n",
    "open all stayers plink files and get the betas\n",
    "\n",
    "copy them back here to analyze\n",
    "scp igw9@cbsulogin.tc.cornell.edu:/bscb/bscb09/500k_ukb/ian/gwas_imputed/rarefication_snps/*betas.txt* ."
   ]
  },
  {
   "cell_type": "code",
   "execution_count": 2,
   "metadata": {},
   "outputs": [
    {
     "data": {
      "text/html": [
       "<div>\n",
       "<style scoped>\n",
       "    .dataframe tbody tr th:only-of-type {\n",
       "        vertical-align: middle;\n",
       "    }\n",
       "\n",
       "    .dataframe tbody tr th {\n",
       "        vertical-align: top;\n",
       "    }\n",
       "\n",
       "    .dataframe thead th {\n",
       "        text-align: right;\n",
       "    }\n",
       "</style>\n",
       "<table border=\"1\" class=\"dataframe\">\n",
       "  <thead>\n",
       "    <tr style=\"text-align: right;\">\n",
       "      <th></th>\n",
       "      <th>snp</th>\n",
       "      <th>ref</th>\n",
       "      <th>beta</th>\n",
       "      <th>se</th>\n",
       "      <th>count</th>\n",
       "    </tr>\n",
       "  </thead>\n",
       "  <tbody>\n",
       "    <tr>\n",
       "      <th>0</th>\n",
       "      <td>rs1835339</td>\n",
       "      <td>C</td>\n",
       "      <td>-0.068965</td>\n",
       "      <td>0.018575</td>\n",
       "      <td>144625</td>\n",
       "    </tr>\n",
       "    <tr>\n",
       "      <th>1</th>\n",
       "      <td>rs10940921</td>\n",
       "      <td>G</td>\n",
       "      <td>0.065870</td>\n",
       "      <td>0.018713</td>\n",
       "      <td>137472</td>\n",
       "    </tr>\n",
       "    <tr>\n",
       "      <th>2</th>\n",
       "      <td>rs317050</td>\n",
       "      <td>C</td>\n",
       "      <td>-0.032541</td>\n",
       "      <td>0.017763</td>\n",
       "      <td>149602</td>\n",
       "    </tr>\n",
       "  </tbody>\n",
       "</table>\n",
       "</div>"
      ],
      "text/plain": [
       "          snp ref      beta        se   count\n",
       "0   rs1835339   C -0.068965  0.018575  144625\n",
       "1  rs10940921   G  0.065870  0.018713  137472\n",
       "2    rs317050   C -0.032541  0.017763  149602"
      ]
     },
     "execution_count": 2,
     "metadata": {},
     "output_type": "execute_result"
    }
   ],
   "source": [
    "mover_betas = pd.read_csv('mover_betas.txt',delimiter=' ')\n",
    "mover_betas.head(3)"
   ]
  },
  {
   "cell_type": "code",
   "execution_count": 3,
   "metadata": {},
   "outputs": [
    {
     "data": {
      "text/html": [
       "<div>\n",
       "<style scoped>\n",
       "    .dataframe tbody tr th:only-of-type {\n",
       "        vertical-align: middle;\n",
       "    }\n",
       "\n",
       "    .dataframe tbody tr th {\n",
       "        vertical-align: top;\n",
       "    }\n",
       "\n",
       "    .dataframe thead th {\n",
       "        text-align: right;\n",
       "    }\n",
       "</style>\n",
       "<table border=\"1\" class=\"dataframe\">\n",
       "  <thead>\n",
       "    <tr style=\"text-align: right;\">\n",
       "      <th></th>\n",
       "      <th>snp</th>\n",
       "      <th>ref</th>\n",
       "      <th>beta</th>\n",
       "      <th>se</th>\n",
       "      <th>count</th>\n",
       "    </tr>\n",
       "  </thead>\n",
       "  <tbody>\n",
       "    <tr>\n",
       "      <th>0</th>\n",
       "      <td>rs7823700</td>\n",
       "      <td>C</td>\n",
       "      <td>0.058868</td>\n",
       "      <td>0.035803</td>\n",
       "      <td>131404</td>\n",
       "    </tr>\n",
       "    <tr>\n",
       "      <th>1</th>\n",
       "      <td>rs1835339</td>\n",
       "      <td>C</td>\n",
       "      <td>-0.036516</td>\n",
       "      <td>0.018663</td>\n",
       "      <td>144625</td>\n",
       "    </tr>\n",
       "    <tr>\n",
       "      <th>2</th>\n",
       "      <td>rs10940921</td>\n",
       "      <td>G</td>\n",
       "      <td>0.042874</td>\n",
       "      <td>0.018795</td>\n",
       "      <td>137472</td>\n",
       "    </tr>\n",
       "  </tbody>\n",
       "</table>\n",
       "</div>"
      ],
      "text/plain": [
       "          snp ref      beta        se   count\n",
       "0   rs7823700   C  0.058868  0.035803  131404\n",
       "1   rs1835339   C -0.036516  0.018663  144625\n",
       "2  rs10940921   G  0.042874  0.018795  137472"
      ]
     },
     "execution_count": 3,
     "metadata": {},
     "output_type": "execute_result"
    }
   ],
   "source": [
    "stayer_betas = pd.read_csv('stayer_betas.txt',delimiter=' ')\n",
    "stayer_betas.head(3)"
   ]
  },
  {
   "cell_type": "code",
   "execution_count": 4,
   "metadata": {},
   "outputs": [
    {
     "data": {
      "image/png": "[encoded data removed]",
      "text/plain": [
       "<Figure size 432x288 with 1 Axes>"
      ]
     },
     "metadata": {},
     "output_type": "display_data"
    }
   ],
   "source": [
    "plt.style.use('fivethirtyeight')\n",
    "plt.hist(mover_betas['count'],50)\n",
    "plt.ylabel('Number of\\nLee et al. EA snps')\n",
    "plt.xlabel('# UKB samples used for stayers or movers')\n",
    "# plt.yscale('log')\n",
    "# plt.xlim([0,200000])\n",
    "plt.show()"
   ]
  },
  {
   "cell_type": "raw",
   "metadata": {},
   "source": [
    "before, I took absolute value of betas ... but in analyzing these rarefication-by-snp betas there were a high proportion (329 of 1252) of betas that switched signs. So I checked whether the reference allele is the same between the mover and the stayer runs.\n",
    "\n",
    "Looks like ref alleles are all the same (below)"
   ]
  },
  {
   "cell_type": "code",
   "execution_count": 5,
   "metadata": {},
   "outputs": [
    {
     "name": "stdout",
     "output_type": "stream",
     "text": [
      "0\n",
      "1252\n"
     ]
    }
   ],
   "source": [
    "mover_snp_betas = dict(zip(mover_betas.snp,mover_betas.beta))\n",
    "mover_snp_errors = dict(zip(mover_betas.snp,mover_betas.se))\n",
    "mover_snp_refs = dict(zip(mover_betas.snp,mover_betas.ref))\n",
    "\n",
    "stayer_snp_betas = dict(zip(stayer_betas.snp,stayer_betas.beta))\n",
    "stayer_snp_errors = dict(zip(stayer_betas.snp,stayer_betas.se))\n",
    "stayerr_snp_refs = dict(zip(stayer_betas.snp,stayer_betas.ref))\n",
    "\n",
    "different_refs = []\n",
    "same_refs = []\n",
    "for snp in mover_snp_refs.keys():\n",
    "    if mover_snp_refs[snp] != stayerr_snp_refs[snp]:\n",
    "        different_refs.append(snp)\n",
    "    else:\n",
    "        same_refs.append(snp)\n",
    "print(len(different_refs))\n",
    "print(len(same_refs))"
   ]
  },
  {
   "cell_type": "code",
   "execution_count": 6,
   "metadata": {},
   "outputs": [
    {
     "name": "stdout",
     "output_type": "stream",
     "text": [
      "1252\n"
     ]
    }
   ],
   "source": [
    "snpsInBoth = list(set(stayer_snp_betas.keys())&set(mover_snp_betas.keys()))\n",
    "print(len(snpsInBoth))"
   ]
  },
  {
   "cell_type": "code",
   "execution_count": 7,
   "metadata": {},
   "outputs": [
    {
     "name": "stdout",
     "output_type": "stream",
     "text": [
      "1252\n"
     ]
    }
   ],
   "source": [
    "snplist_betas_1 = [stayer_snp_betas[x] for x in snpsInBoth]\n",
    "snplist_errors_1 = [stayer_snp_errors[x] for x in snpsInBoth]\n",
    "snplist_betas_2 = [mover_snp_betas[x] for x in snpsInBoth]\n",
    "snplist_errors_2 = [mover_snp_errors[x] for x in snpsInBoth]\n",
    "print(len(snplist_errors_2))"
   ]
  },
  {
   "cell_type": "code",
   "execution_count": 8,
   "metadata": {},
   "outputs": [
    {
     "name": "stdout",
     "output_type": "stream",
     "text": [
      "1252 1252\n"
     ]
    }
   ],
   "source": [
    "# magnitude ... do abs() unless signs opposite\n",
    "# if sign switch .... make the larger one positive, and the smaller one negative\n",
    "\n",
    "snplist_betas_1_magnitude = []\n",
    "snplist_betas_2_magnitude = []\n",
    "\n",
    "for i, sb1 in enumerate(snplist_betas_1):\n",
    "    sb2 = snplist_betas_2[i]\n",
    "    if (sb1 < 0 and sb2 < 0) or (sb1 >= 0 and sb2 >= 0):\n",
    "        snplist_betas_1_magnitude.append(abs(sb1))\n",
    "        snplist_betas_2_magnitude.append(abs(sb2))\n",
    "        \n",
    "    else: # if sign switch .... make the larger one positive, and the smaller one negative\n",
    "        \n",
    "        if abs(sb1) > abs(sb2):\n",
    "            snplist_betas_1_magnitude.append(abs(sb1))\n",
    "            snplist_betas_2_magnitude.append(-abs(sb2))\n",
    "        else:\n",
    "            snplist_betas_1_magnitude.append(-abs(sb1))\n",
    "            snplist_betas_2_magnitude.append(abs(sb2))\n",
    "print(len(snplist_betas_1_magnitude), len(snplist_betas_2_magnitude))"
   ]
  },
  {
   "cell_type": "code",
   "execution_count": 9,
   "metadata": {},
   "outputs": [
    {
     "data": {
      "image/png": "[encoded data removed]",
      "text/plain": [
       "<Figure size 504x288 with 1 Axes>"
      ]
     },
     "metadata": {},
     "output_type": "display_data"
    }
   ],
   "source": [
    "# let's look at those betas!\n",
    "numBins = 50\n",
    "plt.style.use('fivethirtyeight')\n",
    "b1 = snplist_betas_1_magnitude\n",
    "b2 = snplist_betas_2_magnitude\n",
    "\n",
    "bins = np.linspace(-0.05, 0.2, numBins)\n",
    "\n",
    "#f,(a1,a2) = plt.subplots(1,2,figsize = (14,4))\n",
    "f,a2 = plt.subplots(1,1,figsize = (7,4))\n",
    "\n",
    "# a1.hist(b1,bins,alpha = 0.5, label='stayers unrelated-5', color = 'blue')\n",
    "# a1.hist(b2,bins,alpha = 0.5, label='movers unrelated-5', color = 'green')\n",
    "# a1.legend(loc='upper right', fontsize=16)\n",
    "# a1.set_ylabel('number of variants')\n",
    "# #plt.yscale('log')\n",
    "# a1.set_xlabel('betas')\n",
    "#plt.suptitle('Eduyears: 1252 Lee snps, 40 PCs UKB')\n",
    "\n",
    "j1,j2,wb1 = get_weighted_avg_beta(b1,snplist_errors_1)\n",
    "j1,j2,wb2 = get_weighted_avg_beta(b2,snplist_errors_2)\n",
    "a2.hist(wb1,bins,alpha = 0.5, label='stayer betas', color = 'tab:blue')\n",
    "a2.hist(wb2,bins,alpha = 0.5, label='mover betas', color = 'tab:green')\n",
    "a2.set_xlabel('weighted betas')\n",
    "a2.set_ylabel('number of variants')\n",
    "a2.legend(loc='upper right', fontsize=16)\n",
    "\n",
    "plt.show()"
   ]
  },
  {
   "cell_type": "code",
   "execution_count": 10,
   "metadata": {},
   "outputs": [
    {
     "name": "stdout",
     "output_type": "stream",
     "text": [
      "stayers:  avg_eff 0.0477  variance: 3.791e-07\n",
      "movers:  avg_eff 0.0634  variance: 3.759e-07\n",
      "\n",
      "difference in effect:  -0.0157\n",
      "\n",
      "z-statistic:  -18.0695\n",
      "pval:  5.5e-73\n",
      "\n",
      "mover more:  32.9%\n",
      "\n",
      "Per snp diffs:  102.2%\n"
     ]
    }
   ],
   "source": [
    "zstat, eff1, eff2 = calc_z_statistic(wb1,wb2,\n",
    "                         snplist_errors_1,snplist_errors_2,'stayers','movers')\n",
    "p_values = stats.norm.sf(abs(zstat))*2\n",
    "print('pval: ','{:1.1e}'.format(p_values))\n",
    "print()\n",
    "print('mover more: ', '{:1.1f}%'.format((eff2-eff1) * 100 / eff1))\n",
    "\n",
    "diffs = (wb2-wb1)/wb1*100\n",
    "print('\\nPer snp diffs: ','{:1.1f}%'.format(np.mean(diffs)))"
   ]
  },
  {
   "cell_type": "code",
   "execution_count": 11,
   "metadata": {},
   "outputs": [
    {
     "data": {
      "image/png": "[encoded data removed]",
      "text/plain": [
       "<Figure size 300x450 with 1 Axes>"
      ]
     },
     "metadata": {},
     "output_type": "display_data"
    }
   ],
   "source": [
    "f,a = plt.subplots(1,1,figsize=(2,3),dpi=150)\n",
    "bp = plt.boxplot(wb1, positions=[1], patch_artist=True, showfliers = False)\n",
    "for element in ['boxes', 'whiskers', 'fliers', 'means', 'caps']:\n",
    "    plt.setp(bp[element], color='tab:blue' , linewidth = 4)\n",
    "plt.setp(bp['medians'], color = 'y', linewidth = 5)\n",
    "\n",
    "bp = plt.boxplot(wb2, positions=[2], patch_artist=True, showfliers = False)\n",
    "for element in ['boxes', 'whiskers', 'fliers', 'means', 'caps']:\n",
    "    plt.setp(bp[element], color='tab:green', linewidth = 4)\n",
    "plt.setp(bp['medians'], color = 'y', linewidth = 5)\n",
    "\n",
    "plt.xticks([1,2],['stayers','movers'])\n",
    "plt.ylabel('Weighted Betas')\n",
    "plt.show()"
   ]
  },
  {
   "cell_type": "code",
   "execution_count": 12,
   "metadata": {},
   "outputs": [],
   "source": [
    "# save for later\n",
    "import pickle\n",
    "fname = 'eduyears_genotypefreq_equalized.p'\n",
    "pickle.dump([wb1,wb2],open(fname,'wb'))"
   ]
  },
  {
   "cell_type": "code",
   "execution_count": 9,
   "metadata": {},
   "outputs": [
    {
     "name": "stdout",
     "output_type": "stream",
     "text": [
      "stayers:  avg_eff -0.0028  variance: 3.791e-07\n",
      "movers:  avg_eff -0.0020  variance: 3.759e-07\n",
      "\n",
      "difference in effect:  -0.0008\n",
      "\n",
      "z-statistic:  -0.9780\n",
      "pval:  0.3280649041713656\n"
     ]
    },
    {
     "data": {
      "image/png": "[encoded data removed]",
      "text/plain": [
       "<Figure size 1008x288 with 2 Axes>"
      ]
     },
     "metadata": {},
     "output_type": "display_data"
    }
   ],
   "source": [
    "# let's look at those betas!\n",
    "numBins = 50\n",
    "plt.style.use('fivethirtyeight')\n",
    "b1 = snplist_betas_1\n",
    "b2 = snplist_betas_2\n",
    "\n",
    "bins = np.linspace(-0.3, 0.3, numBins)\n",
    "\n",
    "f,(a1,a2) = plt.subplots(1,2,figsize = (14,4))\n",
    "a1.hist(b1,bins,alpha = 0.5, label='stayer', color = 'blue')\n",
    "a1.hist(b2,bins,alpha = 0.5, label='mover', color = 'green')\n",
    "a1.legend(loc='upper right')\n",
    "a1.set_ylabel('number of variants')\n",
    "#plt.yscale('log')\n",
    "a1.set_xlabel('betas')\n",
    "\n",
    "j1,j2,wb1 = get_weighted_avg_beta(b1,snplist_errors_1)\n",
    "j1,j2,wb2 = get_weighted_avg_beta(b2,snplist_errors_2)\n",
    "a2.hist(wb1,bins,alpha = 0.5, label='stayer\\nweighted betas', color = 'blue')\n",
    "a2.hist(wb2,bins,alpha = 0.5, label='mover\\nweighted betas', color = 'green')\n",
    "a2.set_xlabel('weighted betas')\n",
    "plt.suptitle('Eduyears 1252 Lee et al. snps: raw betas')\n",
    "\n",
    "zstat, eff1, eff2 = calc_z_statistic(b1,b2,\n",
    "                         snplist_errors_1,snplist_errors_2,'stayers','movers')\n",
    "p_values = stats.norm.sf(abs(zstat))*2\n",
    "print('pval: ',p_values)\n",
    "\n",
    "plt.show()"
   ]
  }
 ],
 "metadata": {
  "kernelspec": {
   "display_name": "Python 3",
   "language": "python",
   "name": "python3"
  },
  "language_info": {
   "codemirror_mode": {
    "name": "ipython",
    "version": 3
   },
   "file_extension": ".py",
   "mimetype": "text/x-python",
   "name": "python",
   "nbconvert_exporter": "python",
   "pygments_lexer": "ipython3",
   "version": "3.7.3"
  }
 },
 "nbformat": 4,
 "nbformat_minor": 2
}
