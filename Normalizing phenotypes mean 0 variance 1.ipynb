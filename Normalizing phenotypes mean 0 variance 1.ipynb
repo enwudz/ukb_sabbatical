{
 "cells": [
  {
   "cell_type": "code",
   "execution_count": 1,
   "metadata": {},
   "outputs": [],
   "source": [
    "import pandas as pd\n",
    "import numpy as np"
   ]
  },
  {
   "cell_type": "code",
   "execution_count": 3,
   "metadata": {},
   "outputs": [
    {
     "data": {
      "text/html": [
       "<div>\n",
       "<style scoped>\n",
       "    .dataframe tbody tr th:only-of-type {\n",
       "        vertical-align: middle;\n",
       "    }\n",
       "\n",
       "    .dataframe tbody tr th {\n",
       "        vertical-align: top;\n",
       "    }\n",
       "\n",
       "    .dataframe thead th {\n",
       "        text-align: right;\n",
       "    }\n",
       "</style>\n",
       "<table border=\"1\" class=\"dataframe\">\n",
       "  <thead>\n",
       "    <tr style=\"text-align: right;\">\n",
       "      <th></th>\n",
       "      <th>eid</th>\n",
       "      <th>center</th>\n",
       "      <th>distances</th>\n",
       "      <th>POB_east</th>\n",
       "      <th>POB_north</th>\n",
       "      <th>POR_east</th>\n",
       "      <th>POR_north</th>\n",
       "      <th>POB_distance</th>\n",
       "      <th>POR_distance</th>\n",
       "      <th>closest_center_POR</th>\n",
       "      <th>POR_distance_closest</th>\n",
       "      <th>POB_distance_closest</th>\n",
       "      <th>closest_center_POB</th>\n",
       "    </tr>\n",
       "  </thead>\n",
       "  <tbody>\n",
       "    <tr>\n",
       "      <th>0</th>\n",
       "      <td>1136349</td>\n",
       "      <td>11004</td>\n",
       "      <td>229901.065678</td>\n",
       "      <td>68500</td>\n",
       "      <td>801500</td>\n",
       "      <td>252000.0</td>\n",
       "      <td>663000.0</td>\n",
       "      <td>234227.018930</td>\n",
       "      <td>7490.487100</td>\n",
       "      <td>11004.0</td>\n",
       "      <td>7490.487100</td>\n",
       "      <td>234227.018930</td>\n",
       "      <td>11004</td>\n",
       "    </tr>\n",
       "    <tr>\n",
       "      <th>1</th>\n",
       "      <td>1071275</td>\n",
       "      <td>11004</td>\n",
       "      <td>196729.509734</td>\n",
       "      <td>66500</td>\n",
       "      <td>798500</td>\n",
       "      <td>211000.0</td>\n",
       "      <td>665000.0</td>\n",
       "      <td>234138.707601</td>\n",
       "      <td>48107.415198</td>\n",
       "      <td>11004.0</td>\n",
       "      <td>48107.415198</td>\n",
       "      <td>234138.707601</td>\n",
       "      <td>11004</td>\n",
       "    </tr>\n",
       "    <tr>\n",
       "      <th>2</th>\n",
       "      <td>4778319</td>\n",
       "      <td>11005</td>\n",
       "      <td>287336.910264</td>\n",
       "      <td>66500</td>\n",
       "      <td>798500</td>\n",
       "      <td>323000.0</td>\n",
       "      <td>669000.0</td>\n",
       "      <td>287623.081466</td>\n",
       "      <td>5681.636384</td>\n",
       "      <td>11005.0</td>\n",
       "      <td>5681.636384</td>\n",
       "      <td>234138.707601</td>\n",
       "      <td>11004</td>\n",
       "    </tr>\n",
       "  </tbody>\n",
       "</table>\n",
       "</div>"
      ],
      "text/plain": [
       "       eid  center      distances  POB_east  POB_north  POR_east  POR_north  \\\n",
       "0  1136349   11004  229901.065678     68500     801500  252000.0   663000.0   \n",
       "1  1071275   11004  196729.509734     66500     798500  211000.0   665000.0   \n",
       "2  4778319   11005  287336.910264     66500     798500  323000.0   669000.0   \n",
       "\n",
       "    POB_distance  POR_distance  closest_center_POR  POR_distance_closest  \\\n",
       "0  234227.018930   7490.487100             11004.0           7490.487100   \n",
       "1  234138.707601  48107.415198             11004.0          48107.415198   \n",
       "2  287623.081466   5681.636384             11005.0           5681.636384   \n",
       "\n",
       "   POB_distance_closest  closest_center_POB  \n",
       "0         234227.018930               11004  \n",
       "1         234138.707601               11004  \n",
       "2         234138.707601               11004  "
      ]
     },
     "execution_count": 3,
     "metadata": {},
     "output_type": "execute_result"
    }
   ],
   "source": [
    "pob_por_ac = pd.read_csv('../00_csv_files/pob_por_ac_distances.csv')\n",
    "pob_por_ac.head(3)"
   ]
  },
  {
   "cell_type": "code",
   "execution_count": 13,
   "metadata": {},
   "outputs": [
    {
     "name": "stdout",
     "output_type": "stream",
     "text": [
      "195248\n",
      "246688\n",
      "[1136349, 1071275, 4778319, 2797312, 3735126]\n",
      "[5283232, 2600729, 5540005, 3985181, 4446120]\n"
     ]
    }
   ],
   "source": [
    "movers = pob_por_ac[pob_por_ac.distances > 20000].eid.tolist()\n",
    "stayers = pob_por_ac[pob_por_ac.distances <= 20000].eid.tolist()\n",
    "print(len(movers))\n",
    "print(len(stayers))\n",
    "print(movers[:5])\n",
    "print(stayers[:5])"
   ]
  },
  {
   "cell_type": "code",
   "execution_count": 26,
   "metadata": {},
   "outputs": [
    {
     "data": {
      "text/html": [
       "<div>\n",
       "<style scoped>\n",
       "    .dataframe tbody tr th:only-of-type {\n",
       "        vertical-align: middle;\n",
       "    }\n",
       "\n",
       "    .dataframe tbody tr th {\n",
       "        vertical-align: top;\n",
       "    }\n",
       "\n",
       "    .dataframe thead th {\n",
       "        text-align: right;\n",
       "    }\n",
       "</style>\n",
       "<table border=\"1\" class=\"dataframe\">\n",
       "  <thead>\n",
       "    <tr style=\"text-align: right;\">\n",
       "      <th></th>\n",
       "      <th>eid</th>\n",
       "      <th>eid2</th>\n",
       "      <th>bmi</th>\n",
       "    </tr>\n",
       "  </thead>\n",
       "  <tbody>\n",
       "    <tr>\n",
       "      <th>0</th>\n",
       "      <td>4194304</td>\n",
       "      <td>4194304</td>\n",
       "      <td>28.9209</td>\n",
       "    </tr>\n",
       "    <tr>\n",
       "      <th>1</th>\n",
       "      <td>1048584</td>\n",
       "      <td>1048584</td>\n",
       "      <td>26.9353</td>\n",
       "    </tr>\n",
       "    <tr>\n",
       "      <th>2</th>\n",
       "      <td>5242889</td>\n",
       "      <td>5242889</td>\n",
       "      <td>27.7698</td>\n",
       "    </tr>\n",
       "  </tbody>\n",
       "</table>\n",
       "</div>"
      ],
      "text/plain": [
       "       eid     eid2      bmi\n",
       "0  4194304  4194304  28.9209\n",
       "1  1048584  1048584  26.9353\n",
       "2  5242889  5242889  27.7698"
      ]
     },
     "execution_count": 26,
     "metadata": {},
     "output_type": "execute_result"
    }
   ],
   "source": [
    "pheno_bmi = pd.read_csv('../pheno/pheno_bmi_plink2.csv',delimiter = ' ')\n",
    "pheno_bmi.head(3)"
   ]
  },
  {
   "cell_type": "code",
   "execution_count": 28,
   "metadata": {},
   "outputs": [],
   "source": [
    "mover_bmi =  pheno_bmi[pheno_bmi.eid.isin(movers)]\n",
    "stayer_bmi = pheno_bmi[pheno_bmi.eid.isin(stayers)]"
   ]
  },
  {
   "cell_type": "code",
   "execution_count": 29,
   "metadata": {},
   "outputs": [
    {
     "name": "stdout",
     "output_type": "stream",
     "text": [
      "movers\n",
      "mean  26.981280870905284\n",
      "std   4.620985842729849\n",
      "\n",
      "stayers\n",
      "mean  27.78355774123154\n",
      "std   4.847954665603271\n"
     ]
    }
   ],
   "source": [
    "mover_mean = np.mean(mover_bmi.bmi.values)\n",
    "mover_std = np.std(mover_bmi.bmi.values)\n",
    "print('movers')\n",
    "print('mean ', mover_mean)\n",
    "print('std  ', mover_std)\n",
    "\n",
    "stayer_mean = np.mean(stayer_bmi.bmi.values)\n",
    "stayer_std = np.std(stayer_bmi.bmi.values)\n",
    "print('\\nstayers')\n",
    "print('mean ', stayer_mean)\n",
    "print('std  ', stayer_std)"
   ]
  },
  {
   "cell_type": "code",
   "execution_count": 30,
   "metadata": {},
   "outputs": [
    {
     "name": "stdout",
     "output_type": "stream",
     "text": [
      "-1.4356667544631836e-16\n",
      "1.0\n",
      "151842\n",
      "2.904289805491466e-16\n",
      "1.0\n",
      "176884\n",
      "328726\n",
      "328726\n"
     ]
    }
   ],
   "source": [
    "mover_bmi_vals = mover_bmi.bmi.values\n",
    "norm_mover_bmi = (mover_bmi_vals - np.mean(mover_bmi_vals)) / np.std(mover_bmi_vals)\n",
    "print(np.mean(norm_mover_bmi))\n",
    "print(np.var(norm_mover_bmi))\n",
    "print(len(norm_mover_bmi))\n",
    "\n",
    "stayer_bmi_vals = stayer_bmi.bmi.values\n",
    "norm_stayer_bmi = (stayer_bmi_vals - np.mean(stayer_bmi_vals)) / np.std(stayer_bmi_vals)\n",
    "print(np.mean(norm_stayer_bmi))\n",
    "print(np.var(norm_stayer_bmi))\n",
    "print(len(norm_stayer_bmi))\n",
    "\n",
    "print(len(norm_mover_bmi) + len(norm_stayer_bmi))\n",
    "print(len(bmi))"
   ]
  },
  {
   "cell_type": "code",
   "execution_count": 31,
   "metadata": {},
   "outputs": [
    {
     "name": "stdout",
     "output_type": "stream",
     "text": [
      "-2.003442811985805\n",
      "151842\n"
     ]
    },
    {
     "data": {
      "text/html": [
       "<div>\n",
       "<style scoped>\n",
       "    .dataframe tbody tr th:only-of-type {\n",
       "        vertical-align: middle;\n",
       "    }\n",
       "\n",
       "    .dataframe tbody tr th {\n",
       "        vertical-align: top;\n",
       "    }\n",
       "\n",
       "    .dataframe thead th {\n",
       "        text-align: right;\n",
       "    }\n",
       "</style>\n",
       "<table border=\"1\" class=\"dataframe\">\n",
       "  <thead>\n",
       "    <tr style=\"text-align: right;\">\n",
       "      <th></th>\n",
       "      <th>eid</th>\n",
       "      <th>eid2</th>\n",
       "      <th>bmi</th>\n",
       "    </tr>\n",
       "  </thead>\n",
       "  <tbody>\n",
       "    <tr>\n",
       "      <th>191020</th>\n",
       "      <td>4778319</td>\n",
       "      <td>4778319</td>\n",
       "      <td>17.7234</td>\n",
       "    </tr>\n",
       "  </tbody>\n",
       "</table>\n",
       "</div>"
      ],
      "text/plain": [
       "            eid     eid2      bmi\n",
       "191020  4778319  4778319  17.7234"
      ]
     },
     "execution_count": 31,
     "metadata": {},
     "output_type": "execute_result"
    }
   ],
   "source": [
    "norm_mover_bmi_dict = dict(zip(mover_bmi.eid,norm_mover_bmi))\n",
    "print(norm_mover_bmi_dict[4778319])\n",
    "print(len(norm_mover_bmi_dict))\n",
    "mover_bmi[mover_bmi.eid==4778319]"
   ]
  },
  {
   "cell_type": "code",
   "execution_count": 32,
   "metadata": {},
   "outputs": [
    {
     "name": "stdout",
     "output_type": "stream",
     "text": [
      "-0.08231466025515793\n",
      "176884\n"
     ]
    },
    {
     "data": {
      "text/html": [
       "<div>\n",
       "<style scoped>\n",
       "    .dataframe tbody tr th:only-of-type {\n",
       "        vertical-align: middle;\n",
       "    }\n",
       "\n",
       "    .dataframe tbody tr th {\n",
       "        vertical-align: top;\n",
       "    }\n",
       "\n",
       "    .dataframe thead th {\n",
       "        text-align: right;\n",
       "    }\n",
       "</style>\n",
       "<table border=\"1\" class=\"dataframe\">\n",
       "  <thead>\n",
       "    <tr style=\"text-align: right;\">\n",
       "      <th></th>\n",
       "      <th>eid</th>\n",
       "      <th>eid2</th>\n",
       "      <th>bmi</th>\n",
       "    </tr>\n",
       "  </thead>\n",
       "  <tbody>\n",
       "    <tr>\n",
       "      <th>164714</th>\n",
       "      <td>2600729</td>\n",
       "      <td>2600729</td>\n",
       "      <td>27.3845</td>\n",
       "    </tr>\n",
       "  </tbody>\n",
       "</table>\n",
       "</div>"
      ],
      "text/plain": [
       "            eid     eid2      bmi\n",
       "164714  2600729  2600729  27.3845"
      ]
     },
     "execution_count": 32,
     "metadata": {},
     "output_type": "execute_result"
    }
   ],
   "source": [
    "norm_stayer_bmi_dict = dict(zip(stayer_bmi.eid,norm_stayer_bmi))\n",
    "print(norm_stayer_bmi_dict[2600729])\n",
    "print(len(norm_stayer_bmi_dict))\n",
    "stayer_bmi[stayer_bmi.eid==2600729]"
   ]
  },
  {
   "cell_type": "code",
   "execution_count": 33,
   "metadata": {},
   "outputs": [],
   "source": [
    "with open('../pheno/pheno_normalized_bmi.csv','w') as o:\n",
    "    for eid in norm_mover_bmi_dict.keys():\n",
    "        o.write(str(eid) + ' ' + str(eid) + ' ' + str(norm_mover_bmi_dict[eid]) + '\\n')\n",
    "    for eid in norm_stayer_bmi_dict.keys():\n",
    "        o.write(str(eid) + ' ' + str(eid) + ' ' + str(norm_stayer_bmi_dict[eid]) + '\\n')\n",
    "o.close()"
   ]
  },
  {
   "cell_type": "markdown",
   "metadata": {},
   "source": [
    "# height"
   ]
  },
  {
   "cell_type": "code",
   "execution_count": 2,
   "metadata": {},
   "outputs": [
    {
     "data": {
      "text/html": [
       "<div>\n",
       "<style scoped>\n",
       "    .dataframe tbody tr th:only-of-type {\n",
       "        vertical-align: middle;\n",
       "    }\n",
       "\n",
       "    .dataframe tbody tr th {\n",
       "        vertical-align: top;\n",
       "    }\n",
       "\n",
       "    .dataframe thead th {\n",
       "        text-align: right;\n",
       "    }\n",
       "</style>\n",
       "<table border=\"1\" class=\"dataframe\">\n",
       "  <thead>\n",
       "    <tr style=\"text-align: right;\">\n",
       "      <th></th>\n",
       "      <th>eid</th>\n",
       "      <th>eid2</th>\n",
       "      <th>cm</th>\n",
       "    </tr>\n",
       "  </thead>\n",
       "  <tbody>\n",
       "    <tr>\n",
       "      <th>0</th>\n",
       "      <td>4194304</td>\n",
       "      <td>4194304</td>\n",
       "      <td>162.0</td>\n",
       "    </tr>\n",
       "    <tr>\n",
       "      <th>1</th>\n",
       "      <td>1048584</td>\n",
       "      <td>1048584</td>\n",
       "      <td>188.0</td>\n",
       "    </tr>\n",
       "    <tr>\n",
       "      <th>2</th>\n",
       "      <td>5242889</td>\n",
       "      <td>5242889</td>\n",
       "      <td>177.0</td>\n",
       "    </tr>\n",
       "  </tbody>\n",
       "</table>\n",
       "</div>"
      ],
      "text/plain": [
       "       eid     eid2     cm\n",
       "0  4194304  4194304  162.0\n",
       "1  1048584  1048584  188.0\n",
       "2  5242889  5242889  177.0"
      ]
     },
     "execution_count": 2,
     "metadata": {},
     "output_type": "execute_result"
    }
   ],
   "source": [
    "height = pd.read_csv('../pheno/pheno_height_plink2.csv',delimiter = ' ')\n",
    "height.head(3)"
   ]
  },
  {
   "cell_type": "code",
   "execution_count": 6,
   "metadata": {},
   "outputs": [],
   "source": [
    "mover_height =  height[height.eid.isin(movers)]\n",
    "stayer_height = height[height.eid.isin(stayers)]"
   ]
  },
  {
   "cell_type": "code",
   "execution_count": 7,
   "metadata": {},
   "outputs": [
    {
     "name": "stdout",
     "output_type": "stream",
     "text": [
      "movers\n",
      "mean  169.58515160288465\n",
      "std   9.22496826198131\n",
      "\n",
      "stayers\n",
      "mean  168.1824674041323\n",
      "std   9.229100799371405\n"
     ]
    }
   ],
   "source": [
    "mover_mean = np.mean(mover_height.cm.values)\n",
    "mover_std = np.std(mover_height.cm.values)\n",
    "print('movers')\n",
    "print('mean ', mover_mean)\n",
    "print('std  ', mover_std)\n",
    "\n",
    "stayer_mean = np.mean(stayer_height.cm.values)\n",
    "stayer_std = np.std(stayer_height.cm.values)\n",
    "print('\\nstayers')\n",
    "print('mean ', stayer_mean)\n",
    "print('std  ', stayer_std)"
   ]
  },
  {
   "cell_type": "code",
   "execution_count": 9,
   "metadata": {},
   "outputs": [
    {
     "name": "stdout",
     "output_type": "stream",
     "text": [
      "1.6847197544598785e-15\n",
      "1.0000000000000002\n",
      "151976\n",
      "-4.771978580611742e-16\n",
      "1.0\n",
      "177093\n",
      "329069\n",
      "329069\n"
     ]
    }
   ],
   "source": [
    "mover_cm = mover_height.cm.values\n",
    "norm_mover_cm = (mover_cm - np.mean(mover_cm)) / np.std(mover_cm)\n",
    "print(np.mean(norm_mover_cm))\n",
    "print(np.var(norm_mover_cm))\n",
    "print(len(norm_mover_cm))\n",
    "\n",
    "stayer_cm = stayer_height.cm.values\n",
    "norm_stayer_cm = (stayer_cm - np.mean(stayer_cm)) / np.std(stayer_cm)\n",
    "print(np.mean(norm_stayer_cm))\n",
    "print(np.var(norm_stayer_cm))\n",
    "print(len(norm_stayer_cm))\n",
    "\n",
    "print(len(norm_mover_cm) + len(norm_stayer_cm))\n",
    "print(len(height))"
   ]
  },
  {
   "cell_type": "code",
   "execution_count": 19,
   "metadata": {},
   "outputs": [
    {
     "name": "stdout",
     "output_type": "stream",
     "text": [
      "0.6953789124188909\n",
      "151976\n"
     ]
    },
    {
     "data": {
      "text/html": [
       "<div>\n",
       "<style scoped>\n",
       "    .dataframe tbody tr th:only-of-type {\n",
       "        vertical-align: middle;\n",
       "    }\n",
       "\n",
       "    .dataframe tbody tr th {\n",
       "        vertical-align: top;\n",
       "    }\n",
       "\n",
       "    .dataframe thead th {\n",
       "        text-align: right;\n",
       "    }\n",
       "</style>\n",
       "<table border=\"1\" class=\"dataframe\">\n",
       "  <thead>\n",
       "    <tr style=\"text-align: right;\">\n",
       "      <th></th>\n",
       "      <th>eid</th>\n",
       "      <th>eid2</th>\n",
       "      <th>cm</th>\n",
       "    </tr>\n",
       "  </thead>\n",
       "  <tbody>\n",
       "    <tr>\n",
       "      <th>191213</th>\n",
       "      <td>4778319</td>\n",
       "      <td>4778319</td>\n",
       "      <td>176.0</td>\n",
       "    </tr>\n",
       "  </tbody>\n",
       "</table>\n",
       "</div>"
      ],
      "text/plain": [
       "            eid     eid2     cm\n",
       "191213  4778319  4778319  176.0"
      ]
     },
     "execution_count": 19,
     "metadata": {},
     "output_type": "execute_result"
    }
   ],
   "source": [
    "norm_mover_cm_dict = dict(zip(mover_height.eid,norm_mover_cm))\n",
    "print(norm_mover_cm_dict[4778319])\n",
    "print(len(norm_mover_cm_dict))\n",
    "mover_height[mover_height.eid==4778319]"
   ]
  },
  {
   "cell_type": "code",
   "execution_count": 18,
   "metadata": {},
   "outputs": [
    {
     "name": "stdout",
     "output_type": "stream",
     "text": [
      "-0.4531825467132361\n",
      "177093\n"
     ]
    },
    {
     "data": {
      "text/html": [
       "<div>\n",
       "<style scoped>\n",
       "    .dataframe tbody tr th:only-of-type {\n",
       "        vertical-align: middle;\n",
       "    }\n",
       "\n",
       "    .dataframe tbody tr th {\n",
       "        vertical-align: top;\n",
       "    }\n",
       "\n",
       "    .dataframe thead th {\n",
       "        text-align: right;\n",
       "    }\n",
       "</style>\n",
       "<table border=\"1\" class=\"dataframe\">\n",
       "  <thead>\n",
       "    <tr style=\"text-align: right;\">\n",
       "      <th></th>\n",
       "      <th>eid</th>\n",
       "      <th>eid2</th>\n",
       "      <th>cm</th>\n",
       "    </tr>\n",
       "  </thead>\n",
       "  <tbody>\n",
       "    <tr>\n",
       "      <th>13164</th>\n",
       "      <td>5283232</td>\n",
       "      <td>5283232</td>\n",
       "      <td>164.0</td>\n",
       "    </tr>\n",
       "  </tbody>\n",
       "</table>\n",
       "</div>"
      ],
      "text/plain": [
       "           eid     eid2     cm\n",
       "13164  5283232  5283232  164.0"
      ]
     },
     "execution_count": 18,
     "metadata": {},
     "output_type": "execute_result"
    }
   ],
   "source": [
    "norm_stayer_cm_dict = dict(zip(stayer_height.eid,norm_stayer_cm))\n",
    "print(norm_stayer_cm_dict[5283232])\n",
    "print(len(norm_stayer_cm_dict))\n",
    "stayer_height[stayer_height.eid==5283232]"
   ]
  },
  {
   "cell_type": "code",
   "execution_count": 20,
   "metadata": {},
   "outputs": [],
   "source": [
    "with open('../pheno/pheno_normalized_height.csv','w') as o:\n",
    "    for eid in norm_mover_cm_dict.keys():\n",
    "        o.write(str(eid) + ' ' + str(eid) + ' ' + str(norm_mover_cm_dict[eid]) + '\\n')\n",
    "    for eid in norm_stayer_cm_dict.keys():\n",
    "        o.write(str(eid) + ' ' + str(eid) + ' ' + str(norm_stayer_cm_dict[eid]) + '\\n')\n",
    "o.close()"
   ]
  },
  {
   "cell_type": "markdown",
   "metadata": {},
   "source": [
    "# eduyears"
   ]
  },
  {
   "cell_type": "code",
   "execution_count": null,
   "metadata": {},
   "outputs": [],
   "source": [
    "eduYears = pd.read_csv('../pheno/pheno_eduYears.csv',delimiter = ' ')\n",
    "eduYears.head(3)"
   ]
  },
  {
   "cell_type": "code",
   "execution_count": null,
   "metadata": {},
   "outputs": [],
   "source": [
    "mover_eduyears = eduYears[eduYears.eid1.isin(movers)]\n",
    "stayer_eduyears = eduYears[eduYears.eid1.isin(stayers)]"
   ]
  },
  {
   "cell_type": "code",
   "execution_count": null,
   "metadata": {},
   "outputs": [],
   "source": [
    "mover_mean = np.mean(mover_eduyears.y.values)\n",
    "mover_std = np.std(mover_eduyears.y.values)\n",
    "print('movers')\n",
    "print('mean ', mover_mean)\n",
    "print('std  ', mover_std)\n",
    "\n",
    "stayer_mean = np.mean(stayer_eduyears.y.values)\n",
    "stayer_std = np.std(stayer_eduyears.y.values)\n",
    "print('\\nstayers')\n",
    "print('mean ', stayer_mean)\n",
    "print('std  ', stayer_std)"
   ]
  },
  {
   "cell_type": "code",
   "execution_count": null,
   "metadata": {},
   "outputs": [],
   "source": [
    "mover_y = mover_eduyears.y.values\n",
    "norm_mover_y = (mover_y - np.mean(mover_y)) / np.std(mover_y)\n",
    "print(np.mean(norm_mover_y))\n",
    "print(np.var(norm_mover_y))\n",
    "print(len(norm_mover_y))\n",
    "\n",
    "stayer_y = stayer_eduyears.y.values\n",
    "norm_stayer_y = (stayer_y - np.mean(stayer_y)) / np.std(stayer_y)\n",
    "print(np.mean(norm_stayer_y))\n",
    "print(np.var(norm_stayer_y))\n",
    "print(len(norm_stayer_y))\n",
    "\n",
    "print(len(norm_mover_y) + len(norm_stayer_y))\n",
    "print(len(eduYears))"
   ]
  },
  {
   "cell_type": "code",
   "execution_count": null,
   "metadata": {},
   "outputs": [],
   "source": [
    "norm_mover_y_dict = dict(zip(mover_eduyears.eid1,norm_mover_y))\n",
    "print(norm_mover_y_dict[1136349])\n",
    "mover_eduyears[mover_eduyears.eid1==1136349]"
   ]
  },
  {
   "cell_type": "code",
   "execution_count": null,
   "metadata": {},
   "outputs": [],
   "source": [
    "norm_stayer_y_dict = dict(zip(stayer_eduyears.eid1,norm_stayer_y))\n",
    "print(norm_stayer_y_dict[2600729])\n",
    "stayer_eduyears[stayer_eduyears.eid1==2600729]"
   ]
  },
  {
   "cell_type": "code",
   "execution_count": null,
   "metadata": {},
   "outputs": [],
   "source": [
    "with open('../pheno/pheno_normalized_eduyears.csv','w') as o:\n",
    "    for eid in norm_mover_y_dict.keys():\n",
    "        o.write(str(eid) + ' ' + str(eid) + ' ' + str(norm_mover_y_dict[eid]) + '\\n')\n",
    "    for eid in norm_stayer_y_dict.keys():\n",
    "        o.write(str(eid) + ' ' + str(eid) + ' ' + str(norm_stayer_y_dict[eid]) + '\\n')\n",
    "o.close()"
   ]
  },
  {
   "cell_type": "code",
   "execution_count": null,
   "metadata": {},
   "outputs": [],
   "source": []
  },
  {
   "cell_type": "code",
   "execution_count": null,
   "metadata": {},
   "outputs": [],
   "source": []
  },
  {
   "cell_type": "code",
   "execution_count": null,
   "metadata": {},
   "outputs": [],
   "source": []
  },
  {
   "cell_type": "code",
   "execution_count": null,
   "metadata": {},
   "outputs": [],
   "source": []
  },
  {
   "cell_type": "code",
   "execution_count": null,
   "metadata": {},
   "outputs": [],
   "source": []
  },
  {
   "cell_type": "code",
   "execution_count": null,
   "metadata": {},
   "outputs": [],
   "source": []
  }
 ],
 "metadata": {
  "kernelspec": {
   "display_name": "Python 3",
   "language": "python",
   "name": "python3"
  },
  "language_info": {
   "codemirror_mode": {
    "name": "ipython",
    "version": 3
   },
   "file_extension": ".py",
   "mimetype": "text/x-python",
   "name": "python",
   "nbconvert_exporter": "python",
   "pygments_lexer": "ipython3",
   "version": "3.7.3"
  }
 },
 "nbformat": 4,
 "nbformat_minor": 2
}
