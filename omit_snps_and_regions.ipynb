{
 "cells": [
  {
   "cell_type": "code",
   "execution_count": 1,
   "metadata": {},
   "outputs": [],
   "source": [
    "import pandas as pd\n",
    "import numpy as np\n",
    "import matplotlib.pyplot as plt\n",
    "from ukb_gwas import *\n",
    "import pickle"
   ]
  },
  {
   "cell_type": "markdown",
   "metadata": {},
   "source": [
    "## get locations and chromosomes for snps"
   ]
  },
  {
   "cell_type": "code",
   "execution_count": null,
   "metadata": {},
   "outputs": [],
   "source": [
    "# Make dicts: chrom.position <=> snp (~30 seconds)\n",
    "# positions_for_snps = {}\n",
    "# snps_at_position = {}\n",
    "# fpath = 'mover_status/'\n",
    "# for i in np.arange(1,23):\n",
    "#     chr_data = pd.read_csv(fpath + 'chr' + str(i) + '.all.glm.logistic',delimiter = '\\t')\n",
    "#     positions = chr_data.POS.tolist()\n",
    "#     snps = chr_data.ID.tolist()\n",
    "#     chrom_pos = [str(i) + '.' + str(x) for x in positions]\n",
    "#     snps_at_position.update(dict(zip(chrom_pos,snps)))\n",
    "#     positions_for_snps.update(dict(zip(snps,chrom_pos)))"
   ]
  },
  {
   "cell_type": "code",
   "execution_count": null,
   "metadata": {},
   "outputs": [],
   "source": [
    "# pickle these dict . . . how long to save? ~ 12 seconds\n",
    "# import pickle\n",
    "# pickle.dump([positions_for_snps,snps_at_position],open('snp_positions.p','wb')) # ~8 seconds"
   ]
  },
  {
   "cell_type": "code",
   "execution_count": 2,
   "metadata": {},
   "outputs": [],
   "source": [
    "[positions_for_snps,snps_at_position] = pickle.load(open('snp_positions.p','rb'))"
   ]
  },
  {
   "cell_type": "markdown",
   "metadata": {},
   "source": [
    "## load GWAS catalog"
   ]
  },
  {
   "cell_type": "code",
   "execution_count": 3,
   "metadata": {},
   "outputs": [
    {
     "data": {
      "text/html": [
       "<div>\n",
       "<style scoped>\n",
       "    .dataframe tbody tr th:only-of-type {\n",
       "        vertical-align: middle;\n",
       "    }\n",
       "\n",
       "    .dataframe tbody tr th {\n",
       "        vertical-align: top;\n",
       "    }\n",
       "\n",
       "    .dataframe thead th {\n",
       "        text-align: right;\n",
       "    }\n",
       "</style>\n",
       "<table border=\"1\" class=\"dataframe\">\n",
       "  <thead>\n",
       "    <tr style=\"text-align: right;\">\n",
       "      <th></th>\n",
       "      <th>STUDY</th>\n",
       "      <th>DISEASE/TRAIT</th>\n",
       "      <th>CHR_ID</th>\n",
       "      <th>CHR_POS</th>\n",
       "      <th>STRONGEST SNP-RISK ALLELE</th>\n",
       "      <th>RISK ALLELE FREQUENCY</th>\n",
       "      <th>P-VALUE</th>\n",
       "      <th>PVALUE_MLOG</th>\n",
       "      <th>P-VALUE (TEXT)</th>\n",
       "      <th>OR or BETA</th>\n",
       "      <th>95% CI (TEXT)</th>\n",
       "      <th>PLATFORM [SNPS PASSING QC]</th>\n",
       "      <th>CNV</th>\n",
       "    </tr>\n",
       "  </thead>\n",
       "  <tbody>\n",
       "    <tr>\n",
       "      <th>0</th>\n",
       "      <td>Identification of novel genetic markers associ...</td>\n",
       "      <td>systemic sclerosis</td>\n",
       "      <td>6</td>\n",
       "      <td>32441753</td>\n",
       "      <td>rs3129882-?</td>\n",
       "      <td>0.44</td>\n",
       "      <td>2E-27</td>\n",
       "      <td>26.69897</td>\n",
       "      <td>(ATA positive)</td>\n",
       "      <td>2.17</td>\n",
       "      <td>[1.88-2.50]</td>\n",
       "      <td>Illumina [NR] (imputed)</td>\n",
       "      <td>N</td>\n",
       "    </tr>\n",
       "    <tr>\n",
       "      <th>1</th>\n",
       "      <td>Identification of novel genetic markers associ...</td>\n",
       "      <td>systemic sclerosis</td>\n",
       "      <td>6</td>\n",
       "      <td>33075103</td>\n",
       "      <td>rs987870-?</td>\n",
       "      <td>0.15</td>\n",
       "      <td>2E-20</td>\n",
       "      <td>19.69897</td>\n",
       "      <td>(ATA positive)</td>\n",
       "      <td>2.09</td>\n",
       "      <td>[1.78-2.45]</td>\n",
       "      <td>Illumina [NR] (imputed)</td>\n",
       "      <td>N</td>\n",
       "    </tr>\n",
       "    <tr>\n",
       "      <th>2</th>\n",
       "      <td>Identification of novel genetic markers associ...</td>\n",
       "      <td>systemic sclerosis</td>\n",
       "      <td>6</td>\n",
       "      <td>32623148</td>\n",
       "      <td>rs3129763-?</td>\n",
       "      <td>0.25</td>\n",
       "      <td>1E-11</td>\n",
       "      <td>11.00000</td>\n",
       "      <td>(ATA positive)</td>\n",
       "      <td>1.65</td>\n",
       "      <td>[1.42-1.91]</td>\n",
       "      <td>Illumina [NR] (imputed)</td>\n",
       "      <td>N</td>\n",
       "    </tr>\n",
       "  </tbody>\n",
       "</table>\n",
       "</div>"
      ],
      "text/plain": [
       "                                               STUDY       DISEASE/TRAIT  \\\n",
       "0  Identification of novel genetic markers associ...  systemic sclerosis   \n",
       "1  Identification of novel genetic markers associ...  systemic sclerosis   \n",
       "2  Identification of novel genetic markers associ...  systemic sclerosis   \n",
       "\n",
       "  CHR_ID   CHR_POS STRONGEST SNP-RISK ALLELE RISK ALLELE FREQUENCY P-VALUE  \\\n",
       "0      6  32441753               rs3129882-?                  0.44   2E-27   \n",
       "1      6  33075103                rs987870-?                  0.15   2E-20   \n",
       "2      6  32623148               rs3129763-?                  0.25   1E-11   \n",
       "\n",
       "   PVALUE_MLOG  P-VALUE (TEXT)  OR or BETA 95% CI (TEXT)  \\\n",
       "0     26.69897  (ATA positive)        2.17   [1.88-2.50]   \n",
       "1     19.69897  (ATA positive)        2.09   [1.78-2.45]   \n",
       "2     11.00000  (ATA positive)        1.65   [1.42-1.91]   \n",
       "\n",
       "  PLATFORM [SNPS PASSING QC] CNV  \n",
       "0    Illumina [NR] (imputed)   N  \n",
       "1    Illumina [NR] (imputed)   N  \n",
       "2    Illumina [NR] (imputed)   N  "
      ]
     },
     "execution_count": 3,
     "metadata": {},
     "output_type": "execute_result"
    }
   ],
   "source": [
    "gwas_catalog = pd.read_csv('gwas_catalog_pruned.tsv',delimiter = '\\t')\n",
    "traits = list(set(gwas_catalog['DISEASE/TRAIT'].tolist()))\n",
    "gwas_catalog_snps = [x.split('-')[0] for x in gwas_catalog['STRONGEST SNP-RISK ALLELE'].tolist()]\n",
    "gwas_catalog_chr = gwas_catalog.CHR_ID.tolist()\n",
    "gwas_catalog_pos = gwas_catalog.CHR_POS.tolist()\n",
    "chrom_positions = [str(gwas_catalog_chr[i]) + ':' + str(pos) for i,pos in enumerate(gwas_catalog_pos)]\n",
    "gwas_catalog_positions = dict(zip(gwas_catalog_snps,chrom_positions))\n",
    "gwas_catalog.head(3)"
   ]
  },
  {
   "cell_type": "code",
   "execution_count": 4,
   "metadata": {},
   "outputs": [
    {
     "data": {
      "text/html": [
       "<div>\n",
       "<style scoped>\n",
       "    .dataframe tbody tr th:only-of-type {\n",
       "        vertical-align: middle;\n",
       "    }\n",
       "\n",
       "    .dataframe tbody tr th {\n",
       "        vertical-align: top;\n",
       "    }\n",
       "\n",
       "    .dataframe thead th {\n",
       "        text-align: right;\n",
       "    }\n",
       "</style>\n",
       "<table border=\"1\" class=\"dataframe\">\n",
       "  <thead>\n",
       "    <tr style=\"text-align: right;\">\n",
       "      <th></th>\n",
       "      <th>STUDY</th>\n",
       "      <th>DISEASE/TRAIT</th>\n",
       "      <th>CHR_ID</th>\n",
       "      <th>CHR_POS</th>\n",
       "      <th>STRONGEST SNP-RISK ALLELE</th>\n",
       "      <th>RISK ALLELE FREQUENCY</th>\n",
       "      <th>P-VALUE</th>\n",
       "      <th>PVALUE_MLOG</th>\n",
       "      <th>P-VALUE (TEXT)</th>\n",
       "      <th>OR or BETA</th>\n",
       "      <th>95% CI (TEXT)</th>\n",
       "      <th>PLATFORM [SNPS PASSING QC]</th>\n",
       "      <th>CNV</th>\n",
       "    </tr>\n",
       "  </thead>\n",
       "  <tbody>\n",
       "    <tr>\n",
       "      <th>111112</th>\n",
       "      <td>Genome-wide search for gene-gene interactions ...</td>\n",
       "      <td>colorectal cancer (snp x snp interaction)</td>\n",
       "      <td>7 x 1</td>\n",
       "      <td>25094230 x 221991606</td>\n",
       "      <td>rs39453-? x rs6687758-?</td>\n",
       "      <td>0.63</td>\n",
       "      <td>2E-6</td>\n",
       "      <td>5.69897</td>\n",
       "      <td>NaN</td>\n",
       "      <td>1.28</td>\n",
       "      <td>[1.16-1.43]</td>\n",
       "      <td>Illumina [2011668]</td>\n",
       "      <td>N</td>\n",
       "    </tr>\n",
       "  </tbody>\n",
       "</table>\n",
       "</div>"
      ],
      "text/plain": [
       "                                                    STUDY  \\\n",
       "111112  Genome-wide search for gene-gene interactions ...   \n",
       "\n",
       "                                    DISEASE/TRAIT CHR_ID  \\\n",
       "111112  colorectal cancer (snp x snp interaction)  7 x 1   \n",
       "\n",
       "                     CHR_POS STRONGEST SNP-RISK ALLELE RISK ALLELE FREQUENCY  \\\n",
       "111112  25094230 x 221991606   rs39453-? x rs6687758-?                  0.63   \n",
       "\n",
       "       P-VALUE  PVALUE_MLOG P-VALUE (TEXT)  OR or BETA 95% CI (TEXT)  \\\n",
       "111112    2E-6      5.69897            NaN        1.28   [1.16-1.43]   \n",
       "\n",
       "       PLATFORM [SNPS PASSING QC] CNV  \n",
       "111112         Illumina [2011668]   N  "
      ]
     },
     "execution_count": 4,
     "metadata": {},
     "output_type": "execute_result"
    }
   ],
   "source": [
    "gwas_catalog[gwas_catalog.CHR_ID=='7 x 1'].head(1)"
   ]
  },
  {
   "cell_type": "code",
   "execution_count": 5,
   "metadata": {},
   "outputs": [
    {
     "name": "stdout",
     "output_type": "stream",
     "text": [
      "['intelligence', 'cognitive ability', 'cognitive ability (mtag)', 'extremely high intelligence']\n",
      "660\n",
      "['rs10070734', 'rs10779271', 'rs4962322', 'rs7581162', 'rs5753383']\n"
     ]
    }
   ],
   "source": [
    "# extract a specific trait from the GWAS catalog . . .\n",
    "intelligence = ['intelligence','cognitive ability','cognitive ability (mtag)','extremely high intelligence']\n",
    "intelligenceTraits = []\n",
    "for s in intelligence:\n",
    "    intelligenceTraits.extend([x for x in traits if s == x])\n",
    "print(intelligenceTraits)\n",
    "\n",
    "intelligence_snps = gwas_catalog[gwas_catalog['DISEASE/TRAIT'].isin(intelligenceTraits)]['STRONGEST SNP-RISK ALLELE'].tolist()\n",
    "intelligence_snps = [x.split('-')[0] for x in intelligence_snps]\n",
    "intelligence_snps = list(set(intelligence_snps))\n",
    "print(len(intelligence_snps))\n",
    "print(intelligence_snps[:5])"
   ]
  },
  {
   "cell_type": "code",
   "execution_count": 6,
   "metadata": {},
   "outputs": [
    {
     "name": "stdout",
     "output_type": "stream",
     "text": [
      "1271\n",
      "['rs9859556', 'rs7029718', 'rs1334297', 'rs9375188', 'rs2526398']\n"
     ]
    }
   ],
   "source": [
    "# getting standard snp set for EDUYEARS\n",
    "eduyears_lead_snps = pd.read_excel('41588_2018_147_MOESM3_ESM.xlsx', \n",
    "                                  sheet_name = '2. EduYears Lead SNPs',\n",
    "                                  skipfooter = 2, header = 1, index_col = None )\n",
    "ea_snplist = eduyears_lead_snps.SNP.tolist()\n",
    "print(len(ea_snplist))\n",
    "print(ea_snplist[:5])"
   ]
  },
  {
   "cell_type": "code",
   "execution_count": 7,
   "metadata": {},
   "outputs": [
    {
     "name": "stdout",
     "output_type": "stream",
     "text": [
      "3290\n",
      "['rs10003497', 'rs1000410', 'rs10008015', 'rs10010325', 'rs10016290']\n"
     ]
    }
   ],
   "source": [
    "# getting standard snp set for HEIGHT\n",
    "height_giant = pd.read_csv('giant_locke_2018_height_snps.txt',delimiter = '\\t')\n",
    "height_snplist = height_giant.SNP.tolist()\n",
    "height_poslist = height_giant.POS.tolist()\n",
    "height_chrlist = height_giant.CHR.tolist()\n",
    "chrom_positions = [str(height_chrlist[i]) + ':' + str(pos) for i,pos in enumerate(height_poslist)]\n",
    "height_giant_positions = dict(zip(height_snplist,chrom_positions))\n",
    "\n",
    "print(len(height_snplist))\n",
    "print(height_snplist[:5])"
   ]
  },
  {
   "cell_type": "code",
   "execution_count": 8,
   "metadata": {},
   "outputs": [
    {
     "name": "stdout",
     "output_type": "stream",
     "text": [
      "941\n",
      "['rs1000096', 'rs1000940', 'rs1003081', 'rs10035289', 'rs10037047']\n"
     ]
    }
   ],
   "source": [
    "# getting standard snp set for BMI\n",
    "bmi_giant = pd.read_csv('Locke_GIANT_bmi_snps.txt',delimiter = '\\t')\n",
    "bmi_snplist = bmi_giant.SNP.tolist()\n",
    "bmi_poslist = bmi_giant.POS.tolist()\n",
    "bmi_chrlist = bmi_giant.CHR.tolist()\n",
    "chrom_positions = [str(bmi_chrlist[i]) + ':' + str(pos) for i,pos in enumerate(bmi_poslist)]\n",
    "bmi_giant_positions = dict(zip(bmi_snplist,chrom_positions))\n",
    "print(len(bmi_snplist))\n",
    "print(bmi_snplist[:5])"
   ]
  },
  {
   "cell_type": "code",
   "execution_count": 9,
   "metadata": {},
   "outputs": [
    {
     "name": "stdout",
     "output_type": "stream",
     "text": [
      "97289\n",
      "99937\n",
      "100571\n"
     ]
    }
   ],
   "source": [
    "# Add GIANT snps to gwas catalog\n",
    "print(len(gwas_catalog_positions))\n",
    "gwas_catalog_positions.update(height_giant_positions)\n",
    "print(len(gwas_catalog_positions))\n",
    "gwas_catalog_positions.update(bmi_giant_positions)\n",
    "print(len(gwas_catalog_positions))"
   ]
  },
  {
   "cell_type": "code",
   "execution_count": 10,
   "metadata": {},
   "outputs": [
    {
     "name": "stdout",
     "output_type": "stream",
     "text": [
      "['autism spectrum disorder or schizophrenia', 'autism', 'autism and major depressive disorder (mtag)', 'autism spectrum disorder-related traits', 'restricted and repetitive behaviours in autism spectrum disorder', 'autism spectrum disorder, attention deficit-hyperactivity disorder, bipolar disorder, major depressive disorder, and schizophrenia (combined)', 'obsessive-compulsive disorder or autism spectrum disorder', 'autism spectrum disorder', 'autism and schizophrenia (mtag)', 'autism and educational attainment (mtag)']\n",
      "486\n",
      "['rs4141463', 'rs7142002', 'rs1533087', 'rs1107592', 'rs6602217']\n"
     ]
    }
   ],
   "source": [
    "autism = ['autism','Autism']\n",
    "autismTraits = [x for x in traits if 'autism' in x]\n",
    "print(autismTraits)\n",
    "autism_snps = gwas_catalog[gwas_catalog['DISEASE/TRAIT'].isin(autismTraits)]['STRONGEST SNP-RISK ALLELE'].tolist()\n",
    "autism_snps = [x.split('-')[0] for x in autism_snps]\n",
    "print(len(autism_snps))\n",
    "print(autism_snps[:5])"
   ]
  },
  {
   "cell_type": "code",
   "execution_count": 11,
   "metadata": {},
   "outputs": [
    {
     "name": "stdout",
     "output_type": "stream",
     "text": [
      "['self-reported risk-taking behaviour', 'risk-taking tendency (4-domain principal component model)', 'adventurousness', 'general risk tolerance (mtag)']\n",
      "661\n",
      "['rs62250759', 'rs560977020', 'rs2304681', 'rs542809491', 'rs9841382']\n"
     ]
    }
   ],
   "source": [
    "risk = ['risk-taking','adventurousness','risk tolerance']\n",
    "riskTraits = []\n",
    "for s in risk:\n",
    "    riskTraits.extend([x for x in traits if s in x])\n",
    "print(riskTraits)\n",
    "\n",
    "risk_snps = gwas_catalog[gwas_catalog['DISEASE/TRAIT'].isin(riskTraits)]['STRONGEST SNP-RISK ALLELE'].tolist()\n",
    "risk_snps = [x.split('-')[0] for x in risk_snps]\n",
    "print(len(risk_snps))\n",
    "print(risk_snps[:5])"
   ]
  },
  {
   "cell_type": "code",
   "execution_count": 12,
   "metadata": {},
   "outputs": [
    {
     "name": "stdout",
     "output_type": "stream",
     "text": [
      "['alcohol consumption (drinks per week)', 'alcohol consumption (drinks per week) (mtag)', 'alcohol consumption (max-drinks)']\n",
      "361\n",
      "['rs6882716', 'rs7928758', 'rs671', 'rs780094', 'rs11940694']\n"
     ]
    }
   ],
   "source": [
    "alcohol = ['drinks per week','max-drinks']\n",
    "alcoholTraits = []\n",
    "for s in alcohol:\n",
    "    alcoholTraits.extend([x for x in traits if s in x])\n",
    "print(alcoholTraits)\n",
    "\n",
    "alcohol_snps = gwas_catalog[gwas_catalog['DISEASE/TRAIT'].isin(alcoholTraits)]['STRONGEST SNP-RISK ALLELE'].tolist()\n",
    "alcohol_snps = [x.split('-')[0] for x in alcohol_snps]\n",
    "print(len(alcohol_snps))\n",
    "print(alcohol_snps[:5])"
   ]
  },
  {
   "cell_type": "code",
   "execution_count": 13,
   "metadata": {},
   "outputs": [
    {
     "name": "stdout",
     "output_type": "stream",
     "text": [
      "['sleep duration (short sleep)', 'sleep duration', 'hypertension risk in short sleep duration', 'sleep duration (long sleep)', 'sleep duration (oversleepers vs undersleepers)']\n",
      "['sleep duration', 'hypertension risk in short sleep duration', 'sleep duration (long sleep)', 'sleep duration (oversleepers vs undersleepers)']\n",
      "199\n",
      "['rs660899', 'rs2226284', 'rs225212', 'rs62158211', 'rs17190618']\n"
     ]
    }
   ],
   "source": [
    "sleep = ['sleep duration']\n",
    "sleepTraits = []\n",
    "for s in sleep:\n",
    "    sleepTraits.extend([x for x in traits if s in x])\n",
    "print(sleepTraits)\n",
    "sleepTraits = sleepTraits[1:]\n",
    "print(sleepTraits)\n",
    "\n",
    "sleep_snps = gwas_catalog[gwas_catalog['DISEASE/TRAIT'].isin(sleepTraits)]['STRONGEST SNP-RISK ALLELE'].tolist()\n",
    "sleep_snps = [x.split('-')[0] for x in sleep_snps]\n",
    "print(len(sleep_snps))\n",
    "print(sleep_snps[:5])"
   ]
  },
  {
   "cell_type": "code",
   "execution_count": 14,
   "metadata": {},
   "outputs": [
    {
     "name": "stdout",
     "output_type": "stream",
     "text": [
      "37\n",
      "['rs76554764', 'rs34656763', 'rs116256240', 'rs79210778', 'rs77766537']\n"
     ]
    }
   ],
   "source": [
    "lonelinessTraits = ['loneliness']\n",
    "\n",
    "loneliness_snps = gwas_catalog[gwas_catalog['DISEASE/TRAIT'].isin(lonelinessTraits)]['STRONGEST SNP-RISK ALLELE'].tolist()\n",
    "loneliness_snps = [x.split('-')[0] for x in loneliness_snps]\n",
    "print(len(loneliness_snps))\n",
    "print(loneliness_snps[:5])"
   ]
  },
  {
   "cell_type": "code",
   "execution_count": 15,
   "metadata": {},
   "outputs": [
    {
     "name": "stdout",
     "output_type": "stream",
     "text": [
      "1107\n",
      "['rs6981523', 'rs9611519', 'rs10172965', 'rs10244364', 'rs10406374']\n"
     ]
    }
   ],
   "source": [
    "neuroticismTraits = ['neuroticism']\n",
    "\n",
    "neuroticism_snps = gwas_catalog[gwas_catalog['DISEASE/TRAIT'].isin(neuroticismTraits)]['STRONGEST SNP-RISK ALLELE'].tolist()\n",
    "neuroticism_snps = [x.split('-')[0] for x in neuroticism_snps]\n",
    "print(len(neuroticism_snps))\n",
    "print(neuroticism_snps[:5])"
   ]
  },
  {
   "cell_type": "code",
   "execution_count": 16,
   "metadata": {},
   "outputs": [
    {
     "name": "stdout",
     "output_type": "stream",
     "text": [
      "['waist-to-hip ratio adjusted for bmi (adjusted for smoking behaviour)', 'waist circumference adjusted for bmi (adjusted for smoking behaviour)', 'smoking behaviour (maximum cigarettes in a 24 hour period)', 'smoking behaviour (cigarettes smoked per day)', 'bmi (adjusted for smoking behaviour)', 'waist-to-hip circumference ratio (ever vs never smoking interaction)', 'body mass index (ever vs never smoking interaction)']\n",
      "['smoking behaviour (maximum cigarettes in a 24 hour period)', 'smoking behaviour (cigarettes smoked per day)']\n",
      "81\n",
      "['rs1372626', 'rs28672990', 'rs139188551', 'rs2353663', 'rs146274783']\n"
     ]
    }
   ],
   "source": [
    "smoking = ['smoking behaviour','ever smoking']\n",
    "smokingTraits = []\n",
    "for s in smoking:\n",
    "    smokingTraits.extend([x for x in traits if s in x])\n",
    "print(smokingTraits)\n",
    "smokingTraits = smokingTraits[2:4]\n",
    "print(smokingTraits)\n",
    "smoking_snps = gwas_catalog[gwas_catalog['DISEASE/TRAIT'].isin(smokingTraits)]['STRONGEST SNP-RISK ALLELE'].tolist()\n",
    "smoking_snps = [x.split('-')[0] for x in smoking_snps]\n",
    "print(len(smoking_snps))\n",
    "print(smoking_snps[:5])"
   ]
  },
  {
   "cell_type": "markdown",
   "metadata": {},
   "source": [
    "## for exclude regions & qqplot . . . load the mover status GWAS"
   ]
  },
  {
   "cell_type": "code",
   "execution_count": 4,
   "metadata": {},
   "outputs": [],
   "source": [
    "# load via pandas below, or load genomic control pvals directly\n",
    "pvalDict = pickle.load(open('genomic_control_moverstatus_bc_propcs40.p','rb'))"
   ]
  },
  {
   "cell_type": "code",
   "execution_count": 17,
   "metadata": {},
   "outputs": [
    {
     "data": {
      "text/html": [
       "<div>\n",
       "<style scoped>\n",
       "    .dataframe tbody tr th:only-of-type {\n",
       "        vertical-align: middle;\n",
       "    }\n",
       "\n",
       "    .dataframe tbody tr th {\n",
       "        vertical-align: top;\n",
       "    }\n",
       "\n",
       "    .dataframe thead th {\n",
       "        text-align: right;\n",
       "    }\n",
       "</style>\n",
       "<table border=\"1\" class=\"dataframe\">\n",
       "  <thead>\n",
       "    <tr style=\"text-align: right;\">\n",
       "      <th></th>\n",
       "      <th>#CHROM</th>\n",
       "      <th>POS</th>\n",
       "      <th>ID</th>\n",
       "      <th>REF</th>\n",
       "      <th>ALT</th>\n",
       "      <th>A1</th>\n",
       "      <th>TEST</th>\n",
       "      <th>OBS_CT</th>\n",
       "      <th>OR</th>\n",
       "      <th>LOG(OR)_SE</th>\n",
       "      <th>Z_STAT</th>\n",
       "      <th>P</th>\n",
       "    </tr>\n",
       "  </thead>\n",
       "  <tbody>\n",
       "    <tr>\n",
       "      <th>0</th>\n",
       "      <td>1</td>\n",
       "      <td>10616</td>\n",
       "      <td>1:10616_CCGCCGTTGCAAAGGCGCGCCG_C</td>\n",
       "      <td>C</td>\n",
       "      <td>CCGCCGTTGCAAAGGCGCGCCG</td>\n",
       "      <td>CCGCCGTTGCAAAGGCGCGCCG</td>\n",
       "      <td>ADD</td>\n",
       "      <td>256035</td>\n",
       "      <td>1.027620</td>\n",
       "      <td>0.059150</td>\n",
       "      <td>0.460601</td>\n",
       "      <td>0.645085</td>\n",
       "    </tr>\n",
       "    <tr>\n",
       "      <th>1</th>\n",
       "      <td>1</td>\n",
       "      <td>13110</td>\n",
       "      <td>rs540538026</td>\n",
       "      <td>A</td>\n",
       "      <td>G</td>\n",
       "      <td>A</td>\n",
       "      <td>ADD</td>\n",
       "      <td>256035</td>\n",
       "      <td>1.028050</td>\n",
       "      <td>0.020117</td>\n",
       "      <td>1.374980</td>\n",
       "      <td>0.169138</td>\n",
       "    </tr>\n",
       "    <tr>\n",
       "      <th>2</th>\n",
       "      <td>1</td>\n",
       "      <td>14933</td>\n",
       "      <td>rs199856693</td>\n",
       "      <td>A</td>\n",
       "      <td>G</td>\n",
       "      <td>A</td>\n",
       "      <td>ADD</td>\n",
       "      <td>256035</td>\n",
       "      <td>0.995934</td>\n",
       "      <td>0.022215</td>\n",
       "      <td>-0.183403</td>\n",
       "      <td>0.854482</td>\n",
       "    </tr>\n",
       "    <tr>\n",
       "      <th>3</th>\n",
       "      <td>1</td>\n",
       "      <td>16949</td>\n",
       "      <td>rs199745162</td>\n",
       "      <td>C</td>\n",
       "      <td>A</td>\n",
       "      <td>C</td>\n",
       "      <td>ADD</td>\n",
       "      <td>256035</td>\n",
       "      <td>0.983278</td>\n",
       "      <td>0.032059</td>\n",
       "      <td>-0.526029</td>\n",
       "      <td>0.598868</td>\n",
       "    </tr>\n",
       "  </tbody>\n",
       "</table>\n",
       "</div>"
      ],
      "text/plain": [
       "   #CHROM    POS                                ID REF  \\\n",
       "0       1  10616  1:10616_CCGCCGTTGCAAAGGCGCGCCG_C   C   \n",
       "1       1  13110                       rs540538026   A   \n",
       "2       1  14933                       rs199856693   A   \n",
       "3       1  16949                       rs199745162   C   \n",
       "\n",
       "                      ALT                      A1 TEST  OBS_CT        OR  \\\n",
       "0  CCGCCGTTGCAAAGGCGCGCCG  CCGCCGTTGCAAAGGCGCGCCG  ADD  256035  1.027620   \n",
       "1                       G                       A  ADD  256035  1.028050   \n",
       "2                       G                       A  ADD  256035  0.995934   \n",
       "3                       A                       C  ADD  256035  0.983278   \n",
       "\n",
       "   LOG(OR)_SE    Z_STAT         P  \n",
       "0    0.059150  0.460601  0.645085  \n",
       "1    0.020117  1.374980  0.169138  \n",
       "2    0.022215 -0.183403  0.854482  \n",
       "3    0.032059 -0.526029  0.598868  "
      ]
     },
     "execution_count": 17,
     "metadata": {},
     "output_type": "execute_result"
    }
   ],
   "source": [
    "fdir = 'moverstatus_wbabornclose_propcs40'\n",
    "chrom = 1\n",
    "fname = fdir + '/chr' + str(chrom) + '.all.glm.logistic'\n",
    "chromDf = pd.read_csv(fname,delimiter = '\\t')\n",
    "chromDf.head(4)"
   ]
  },
  {
   "cell_type": "code",
   "execution_count": 7,
   "metadata": {},
   "outputs": [],
   "source": [
    "# # get pvals and zstats for all snps in the GWAS\n",
    "# pvalDict = {}\n",
    "# #fdir = 'mover_status'\n",
    "# #fdir = 'mover_status_bornclose'\n",
    "# fdir = 'moverstatus_wbabornclose_propcs40'\n",
    "# for chrom in np.arange(1,23):\n",
    "#     fname = fdir + '/chr' + str(chrom) + '.all.glm.logistic'\n",
    "#     chromDf = pd.read_csv(fname,delimiter = '\\t')\n",
    "#     pvalDict.update(dict(zip(chromDf.ID.values, chromDf.P.values)))"
   ]
  },
  {
   "cell_type": "code",
   "execution_count": 60,
   "metadata": {},
   "outputs": [
    {
     "name": "stdout",
     "output_type": "stream",
     "text": [
      "2212\n",
      "rs9375188\n",
      "6.98555272\n"
     ]
    }
   ],
   "source": [
    "# start here to exclude\n",
    "# snps_to_exclude = list(set(bmi_snplist + height_snplist + ea_snplist + intelligence_snps + autism_snps + \n",
    "#                            neuroticism_snps + risk_snps))\n",
    "snps_to_exclude = ea_snplist + bmi_snplist\n",
    "print(len(snps_to_exclude))\n",
    "print(snps_to_exclude[3])\n",
    "print(positions_for_snps[snps_to_exclude[3]])"
   ]
  },
  {
   "cell_type": "code",
   "execution_count": 61,
   "metadata": {},
   "outputs": [],
   "source": [
    "# make dict of excluded regions: chrom => [(s1,e1), (s2,e2) . . . , (sn, en)]\n",
    "excluded_regions = {}\n",
    "bufferSize = 500000\n",
    "\n",
    "positionDict = gwas_catalog_positions \n",
    "\n",
    "for snp in snps_to_exclude:\n",
    "    \n",
    "    if 'x' in positionDict[snp]: # some GWAS catalog entries have interactions, skip these\n",
    "        bp = 0\n",
    "    \n",
    "    elif ';' in positionDict[snp]: # some GWAS catalog entried have multiple snps, choose 1st\n",
    "        chrom = int(positionDict[snp].split(';')[0])\n",
    "        bp = int(float(positionDict[snp].split(':')[1].split(';')[0]))\n",
    "    \n",
    "    elif 'nan' not in positionDict[snp]:\n",
    "        #print(gwas_catalog_positions[snp])\n",
    "        chrom = int(positionDict[snp].split(':')[0])\n",
    "        bp = int(float(positionDict[snp].split(':')[1]))\n",
    "    \n",
    "    if bp > 0:\n",
    "    \n",
    "        start_end = (bp-bufferSize,bp+bufferSize) \n",
    "\n",
    "\n",
    "        if chrom in excluded_regions.keys():\n",
    "            excluded_regions[chrom].append(start_end)\n",
    "        else:\n",
    "            excluded_regions[chrom] = [start_end]"
   ]
  },
  {
   "cell_type": "code",
   "execution_count": 62,
   "metadata": {},
   "outputs": [
    {
     "name": "stdout",
     "output_type": "stream",
     "text": [
      "1 179\n",
      "2 240\n",
      "3 189\n",
      "4 111\n",
      "5 142\n",
      "6 158\n",
      "7 129\n",
      "8 100\n",
      "9 92\n",
      "10 81\n",
      "11 118\n",
      "12 106\n",
      "13 59\n",
      "14 66\n",
      "15 65\n",
      "16 101\n",
      "17 70\n",
      "18 75\n",
      "19 34\n",
      "20 60\n",
      "21 19\n",
      "22 18\n"
     ]
    }
   ],
   "source": [
    "for chrom in np.arange(1,23):\n",
    "    if chrom in excluded_regions.keys():\n",
    "        print(chrom, len(excluded_regions[chrom]))# , excluded_regions[chrom])"
   ]
  },
  {
   "cell_type": "code",
   "execution_count": 63,
   "metadata": {},
   "outputs": [
    {
     "name": "stdout",
     "output_type": "stream",
     "text": [
      "doing chromosome  1\n",
      "doing chromosome  2\n",
      "doing chromosome  3\n",
      "doing chromosome  4\n",
      "doing chromosome  5\n",
      "doing chromosome  6\n",
      "doing chromosome  7\n",
      "doing chromosome  8\n",
      "doing chromosome  9\n",
      "doing chromosome  10\n",
      "doing chromosome  11\n",
      "doing chromosome  12\n",
      "doing chromosome  13\n",
      "doing chromosome  14\n",
      "doing chromosome  15\n",
      "doing chromosome  16\n",
      "doing chromosome  17\n",
      "doing chromosome  18\n",
      "doing chromosome  19\n",
      "doing chromosome  20\n",
      "doing chromosome  21\n",
      "doing chromosome  22\n"
     ]
    }
   ],
   "source": [
    "# go through each chromosome on GWAS, and filter out SNPs that are within the excluded regions.\n",
    "# WORKING\n",
    "all_included_snps = []\n",
    "\n",
    "for chrom in np.arange(1,23):\n",
    "    print('doing chromosome ', chrom)\n",
    "    \n",
    "    # get Positions of GWAS snps on the chromosome ... parse keys to get positions\n",
    "    position_keys = [x for x in snps_at_position.keys() if int(x.split('.')[0]) == chrom]\n",
    "    positions_on_chrom = np.array([int(x.split('.')[1]) for x in position_keys])\n",
    "    \n",
    "    # each excluded region on chromosome ... remove positions within that region\n",
    "    inc = positions_on_chrom\n",
    "    if chrom in excluded_regions.keys():\n",
    "        for region in excluded_regions[chrom]:\n",
    "            s = region[0]\n",
    "            e = region[1]\n",
    "            inc = np.hstack([inc[np.where(inc<s)],inc[np.where(inc>e)]])\n",
    "    \n",
    "        # now have included positions ... get a list of snps at these positions.\n",
    "        snps_on_chrom = [snps_at_position[str(chrom) + '.' + str(x)] for x in inc]\n",
    "\n",
    "        # add these snps to snps for whole genome\n",
    "        all_included_snps.extend(snps_on_chrom)"
   ]
  },
  {
   "cell_type": "code",
   "execution_count": 64,
   "metadata": {},
   "outputs": [
    {
     "name": "stdout",
     "output_type": "stream",
     "text": [
      "6117240\n"
     ]
    }
   ],
   "source": [
    "# great, now have filtered snps. QQplot those puppies.\n",
    "filtered_pvals = np.array([pvalDict[x] for x in all_included_snps if x in pvalDict.keys()])\n",
    "print(len(filtered_pvals))\n",
    "# filtered_pvals_no_nan = filtered_pvals[np.where(np.isnan(filtered_pvals) == False)]\n",
    "# print(len(filtered_pvals_no_nan))"
   ]
  },
  {
   "cell_type": "code",
   "execution_count": 65,
   "metadata": {},
   "outputs": [
    {
     "data": {
      "image/png": "[encoded data removed]",
      "text/plain": [
       "<Figure size 432x288 with 1 Axes>"
      ]
     },
     "metadata": {},
     "output_type": "display_data"
    }
   ],
   "source": [
    "plt.hist(filtered_pvals,50)\n",
    "plt.show()"
   ]
  },
  {
   "cell_type": "code",
   "execution_count": 66,
   "metadata": {},
   "outputs": [
    {
     "name": "stdout",
     "output_type": "stream",
     "text": [
      "11100786\n"
     ]
    }
   ],
   "source": [
    "all_pvals = np.array(list(pvalDict.values()))\n",
    "print(len(all_pvals))\n",
    "# all_pvals_no_nan = all_pvals[np.where(np.isnan(all_pvals) == False)]\n",
    "# print(len(all_pvals_no_nan))"
   ]
  },
  {
   "cell_type": "code",
   "execution_count": 67,
   "metadata": {},
   "outputs": [],
   "source": [
    "# get read to qq plot: sort\n",
    "sorted_pvals = sorted(all_pvals)\n",
    "sorted_filtered_pvals = sorted(filtered_pvals)"
   ]
  },
  {
   "cell_type": "code",
   "execution_count": 68,
   "metadata": {},
   "outputs": [
    {
     "name": "stdout",
     "output_type": "stream",
     "text": [
      "[8.604316098015935e-12, 8.968380096908381e-12, 1.0128306541174178e-11, 1.133242553146831e-11, 1.1334594070724345e-11]\n",
      "[1.0800228749012736e-09, 1.4529515076362203e-09, 1.4529515076362203e-09, 1.870674397980383e-09, 8.702426119812269e-09]\n"
     ]
    }
   ],
   "source": [
    "print(sorted_pvals[:5])\n",
    "print(sorted_filtered_pvals[:5])"
   ]
  },
  {
   "cell_type": "code",
   "execution_count": 57,
   "metadata": {},
   "outputs": [],
   "source": [
    "# downsample to reduce size of vectors\n",
    "#(source_list[i] for i in xrange(0, len(source_list), 10))\n",
    "# smaller_pvals = list(sorted_pvals[i] for i in range(0, len(sorted_pvals), 100))\n",
    "# smaller_filtered_pvals = list(sorted_filtered_pvals[i] for i in range(0, len(sorted_filtered_pvals), 100))"
   ]
  },
  {
   "cell_type": "code",
   "execution_count": 20,
   "metadata": {},
   "outputs": [
    {
     "data": {
      "image/png": "[encoded data removed]",
      "text/plain": [
       "<Figure size 432x288 with 1 Axes>"
      ]
     },
     "metadata": {
      "needs_background": "light"
     },
     "output_type": "display_data"
    }
   ],
   "source": [
    "# plt.hist(smaller_filtered_pvals,50)\n",
    "# plt.show()"
   ]
  },
  {
   "cell_type": "code",
   "execution_count": 35,
   "metadata": {},
   "outputs": [],
   "source": [
    "def qqplot(lists_of_pvals, labels, fs = (8,4)):\n",
    "    plt.style.use('fivethirtyeight')\n",
    "    cols = ['tab:blue', 'tab:orange', 'tab:green', 'tab:red', 'tab:purple', 'tab:brown', 'tab:pink', 'tab:gray', 'tab:olive', 'tab:cyan']\n",
    "    \n",
    "    # which list is longest?\n",
    "    max_len = max([len(x) for x in lists_of_pvals])\n",
    "    \n",
    "    # plot y = x\n",
    "    yxvals = np.linspace(0,1,max_len)\n",
    "    yxvals = yxvals[1:]\n",
    "    log_yx = sorted(-np.log10(yxvals))\n",
    "    \n",
    "    f,a = plt.subplots(1,1,figsize = fs)\n",
    "    a.scatter(log_yx, log_yx, c = 'k', label = 'y=x')\n",
    "    \n",
    "    for i, pvals in enumerate(lists_of_pvals):\n",
    "        sorted_pvals = sorted(pvals)\n",
    "        exp_pvals = np.linspace(0,1,len(sorted_pvals))\n",
    "        \n",
    "        obs_pvals = sorted_pvals[1:]\n",
    "        exp_pvals = exp_pvals[1:]\n",
    "        \n",
    "        log_obs = sorted(-np.log10(obs_pvals))\n",
    "        log_exp = sorted(-np.log10(exp_pvals))\n",
    "        \n",
    "        a.scatter(log_exp, log_obs, c = cols[i], label = labels[i])\n",
    "   \n",
    "    plt.legend(loc='upper left')\n",
    "    plt.ylabel('Observed -log10(p)')\n",
    "    plt.xlabel('Expected -log10(p)')\n",
    "    \n",
    "    plt.show()"
   ]
  },
  {
   "cell_type": "code",
   "execution_count": 69,
   "metadata": {},
   "outputs": [
    {
     "name": "stdout",
     "output_type": "stream",
     "text": [
      "[8.604316098015935e-12, 8.968380096908381e-12, 1.0128306541174178e-11, 1.133242553146831e-11]\n",
      "[1.0800228749012736e-09, 1.4529515076362203e-09, 1.4529515076362203e-09, 1.870674397980383e-09]\n"
     ]
    },
    {
     "data": {
      "image/png": "[encoded data removed]",
      "text/plain": [
       "<Figure size 720x720 with 1 Axes>"
      ]
     },
     "metadata": {},
     "output_type": "display_data"
    }
   ],
   "source": [
    "# try a combo:\n",
    "# snps_to_exclude = list(set(bmi_snplist + height_snplist + ea_snplist + intelligence_snps + autism_snps + \n",
    "#                            neuroticism_snps + risk_snps))\n",
    "# 8106 snps!\n",
    "print(sorted_pvals[:4])\n",
    "print(sorted_filtered_pvals[:4])\n",
    "qqplot([sorted_pvals,sorted_filtered_pvals],['genomic control','EA & BMI regions removed'],(10,10))"
   ]
  },
  {
   "cell_type": "code",
   "execution_count": 59,
   "metadata": {},
   "outputs": [
    {
     "name": "stdout",
     "output_type": "stream",
     "text": [
      "4058118\n",
      "11100786\n",
      "7042668\n"
     ]
    }
   ],
   "source": [
    "# code up something that reports how much is excluded? in excluded_regions ... but there's probably overlap.\n",
    "# can just take total pvals - filtered pvals = # snps excluded.....\n",
    "print(len(sorted_pvals) - len(sorted_filtered_pvals))\n",
    "print(len(sorted_pvals))\n",
    "print(len(sorted_filtered_pvals))"
   ]
  },
  {
   "cell_type": "code",
   "execution_count": null,
   "metadata": {},
   "outputs": [],
   "source": [
    "# x-smoking, x-neuroticism, x-loneliness, x-sleep, x-alcohol, x-risk, x-autism, x-intelligence <== all from GWAS catalog\n",
    "# bmi_snplist, x-height_snplist <== ... need to get positions for these snps.\n",
    "# x-ea_snplist <== lee ... have positions of all of these in GWAS catalog !"
   ]
  },
  {
   "cell_type": "markdown",
   "metadata": {},
   "source": [
    "# genomic control"
   ]
  },
  {
   "cell_type": "code",
   "execution_count": 209,
   "metadata": {},
   "outputs": [
    {
     "name": "stdout",
     "output_type": "stream",
     "text": [
      "11102230\n"
     ]
    }
   ],
   "source": [
    "# save to cbsu and do it there? ... doesn't have scipy, can't pip install, so do it here\n",
    "# load pvalDict via pandas and chromosomes\n",
    "print(len(pvalDict))"
   ]
  },
  {
   "cell_type": "code",
   "execution_count": 215,
   "metadata": {},
   "outputs": [],
   "source": [
    "# convert pvals to chi-stats\n",
    "chistat_dict = {x:stats.chi2.isf(pvalDict[x], 1) for x in pvalDict.keys()} # 11:57pm!"
   ]
  },
  {
   "cell_type": "code",
   "execution_count": 216,
   "metadata": {},
   "outputs": [],
   "source": [
    "# save intermdiate for later\n",
    "pickle.dump([pvalDict,chistat_dict],open('moverstatus_wbabornclose_propcs40.p','wb')) "
   ]
  },
  {
   "cell_type": "code",
   "execution_count": 230,
   "metadata": {},
   "outputs": [
    {
     "name": "stdout",
     "output_type": "stream",
     "text": [
      "0.5721647056821395\n"
     ]
    }
   ],
   "source": [
    "# get median chi-stat\n",
    "print(np.nanmedian(np.array(list(chistat_dict.values())))) "
   ]
  },
  {
   "cell_type": "code",
   "execution_count": 226,
   "metadata": {},
   "outputs": [
    {
     "name": "stdout",
     "output_type": "stream",
     "text": [
      "1.2557798752968767\n"
     ]
    }
   ],
   "source": [
    "# lambda = genome inflation value\n",
    "inflation_lambda = (np.nanmedian(np.array(list(chistat_dict.values())))) / (0.675**2)\n",
    "print(inflation_lambda)"
   ]
  },
  {
   "cell_type": "code",
   "execution_count": 227,
   "metadata": {},
   "outputs": [],
   "source": [
    "# divide all chi-squared values by lambda\n",
    "corrected_chisq = {x:chistat_dict[x]/inflation_lambda for x in chistat_dict.keys() if np.isnan(chistat_dict[x]) == False}"
   ]
  },
  {
   "cell_type": "code",
   "execution_count": 229,
   "metadata": {},
   "outputs": [
    {
     "name": "stdout",
     "output_type": "stream",
     "text": [
      "0.45562500000000006\n"
     ]
    }
   ],
   "source": [
    "# check that median is now ~0.456\n",
    "print(np.median(np.array(list(corrected_chisq.values()))))"
   ]
  },
  {
   "cell_type": "code",
   "execution_count": 233,
   "metadata": {},
   "outputs": [
    {
     "data": {
      "text/plain": [
       "0.05004352124870519"
      ]
     },
     "execution_count": 233,
     "metadata": {},
     "output_type": "execute_result"
    }
   ],
   "source": [
    "# make sure I am calculating p's from Chi^2's correctly\n",
    "stats.distributions.chi2.sf(3.84,1)"
   ]
  },
  {
   "cell_type": "code",
   "execution_count": 234,
   "metadata": {},
   "outputs": [],
   "source": [
    "# convert chi^2's to p's\n",
    "# takes a LONG time!\n",
    "corrected_pvals = {x: stats.distributions.chi2.sf(corrected_chisq[x], 1) for x in corrected_chisq.keys()}"
   ]
  },
  {
   "cell_type": "code",
   "execution_count": 235,
   "metadata": {},
   "outputs": [],
   "source": [
    "# save dictionary!\n",
    "pickle.dump(corrected_pvals,open('genomic_control_moverstatus_bc_propcs40.p','wb'))"
   ]
  }
 ],
 "metadata": {
  "kernelspec": {
   "display_name": "Python 3",
   "language": "python",
   "name": "python3"
  },
  "language_info": {
   "codemirror_mode": {
    "name": "ipython",
    "version": 3
   },
   "file_extension": ".py",
   "mimetype": "text/x-python",
   "name": "python",
   "nbconvert_exporter": "python",
   "pygments_lexer": "ipython3",
   "version": "3.7.3"
  }
 },
 "nbformat": 4,
 "nbformat_minor": 2
}
